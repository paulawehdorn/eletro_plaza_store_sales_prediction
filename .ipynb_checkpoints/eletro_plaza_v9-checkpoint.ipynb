{
 "cells": [
  {
   "cell_type": "markdown",
   "id": "06d15e55",
   "metadata": {
    "heading_collapsed": true
   },
   "source": [
    "# I. Entendimento do negócio"
   ]
  },
  {
   "cell_type": "markdown",
   "id": "39aaf4c1",
   "metadata": {
    "heading_collapsed": true,
    "hidden": true
   },
   "source": [
    "## A. Contexto "
   ]
  },
  {
   "cell_type": "markdown",
   "id": "eda3bc24",
   "metadata": {
    "hidden": true
   },
   "source": [
    "A EletroPlaza Store é um conglomerado de lojas especializado em eletrônicos, eletrodomésticos e acessórios, com presença global. Apesar da forte presença online, **as vendas da empresa são predominantemente físicas.**\n",
    "\n",
    "Após investimentos significativos nos setores de vendas, marketing e desenvolvimento de produtos, a empresa experimentou um grande aumento no faturamento no último ano. No entanto, **novos desafios surgiram, especialmente em compreender como as vendas se comportarão nas próximas semanas, com a aproximação da Black Friday e o Natal.**"
   ]
  },
  {
   "cell_type": "markdown",
   "id": "ff99e2fa",
   "metadata": {
    "hidden": true
   },
   "source": [
    "## B. Desafio"
   ]
  },
  {
   "cell_type": "markdown",
   "id": "006dc388",
   "metadata": {
    "hidden": true
   },
   "source": [
    "O ano está chegando ao fim, **a Black Friday e o Natal estão se aproximando e as vendas tendem a subir exponencialmente nessa época e os dados de comparação do ano passado já não servem mais como termômetro para a empresa. **\n",
    "\n",
    "A urgência em entender os possíveis resultados é grande, pois **a equipe de negócio tem uma meta de faturamento e está preocupada se conseguirá alcançá-la.**"
   ]
  },
  {
   "cell_type": "markdown",
   "id": "27b8889e",
   "metadata": {
    "hidden": true
   },
   "source": [
    "## C. Objetivo"
   ]
  },
  {
   "cell_type": "markdown",
   "id": "9f6db5ad",
   "metadata": {
    "hidden": true
   },
   "source": [
    "O objetivo é **construir uma solução que preveja as vendas semanais das lojas e de seus variados setores para as 5 semanas finais do ano.**\n",
    "\n",
    "A análise deve abranger diversos setores e considerar fatores externos, como temperatura, preço do combustível e taxa de desemprego.\n"
   ]
  },
  {
   "cell_type": "markdown",
   "id": "efd8ad78",
   "metadata": {
    "hidden": true
   },
   "source": [
    "## D. Expectativa"
   ]
  },
  {
   "cell_type": "markdown",
   "id": "79e5946f",
   "metadata": {
    "hidden": true
   },
   "source": [
    "Os gestores da EletroPlaza Store esperam poder:\n",
    "- Definir planos;\n",
    "- Organizar estoques;\n",
    "- Calcular receitas;\n",
    "- Decidir se farão novos investimentos ou não;\n",
    "- Decidir onde devem alocar estes novos investimentos, mediante campanhas mais eficientes de marketing e vendas.\n"
   ]
  },
  {
   "cell_type": "markdown",
   "id": "9109835d",
   "metadata": {},
   "source": [
    "# II. Entendimento dos dados"
   ]
  },
  {
   "cell_type": "markdown",
   "id": "35c5b6c6",
   "metadata": {
    "heading_collapsed": true
   },
   "source": [
    "## 0. IMPORTS"
   ]
  },
  {
   "cell_type": "markdown",
   "id": "a5b27808",
   "metadata": {
    "hidden": true
   },
   "source": [
    "### 0.1. Importing libraries"
   ]
  },
  {
   "cell_type": "code",
   "execution_count": 67,
   "id": "cce671ef",
   "metadata": {
    "ExecuteTime": {
     "end_time": "2023-12-19T22:12:00.044522Z",
     "start_time": "2023-12-19T22:12:00.024960Z"
    },
    "hidden": true
   },
   "outputs": [],
   "source": [
    "import pandas             as pd\n",
    "import seaborn            as sns\n",
    "import numpy              as np\n",
    "import matplotlib.pyplot  as plt\n",
    "import matplotlib.patches as mpatches\n",
    "\n",
    "import math\n",
    "import random\n",
    "#import ydata_profiling\n",
    "\n",
    "from sklearn              import preprocessing as pp\n",
    "from sklearn              import ensemble as en\n",
    "from sklearn              import model_selection as ms\n",
    "from sklearn.linear_model import LinearRegression,Lasso,ElasticNet,Ridge\n",
    "from sklearn.svm          import SVR\n",
    "from sklearn.neighbors    import KNeighborsRegressor\n",
    "from sklearn.ensemble     import GradientBoostingRegressor\n",
    "from sklearn.metrics      import mean_squared_error, r2_score, mean_absolute_error, mean_absolute_percentage_error\n",
    "from datetime             import datetime, timedelta\n",
    "from xgboost              import XGBRegressor\n",
    "from lightgbm             import LGBMRegressor"
   ]
  },
  {
   "cell_type": "markdown",
   "id": "2fe91868",
   "metadata": {
    "heading_collapsed": true,
    "hidden": true
   },
   "source": [
    "### 0.2. Loading data"
   ]
  },
  {
   "cell_type": "code",
   "execution_count": 2,
   "id": "090e0494",
   "metadata": {
    "ExecuteTime": {
     "end_time": "2023-12-19T22:00:34.042511Z",
     "start_time": "2023-12-19T22:00:33.455905Z"
    },
    "hidden": true
   },
   "outputs": [],
   "source": [
    "stores         = pd.read_csv('datasets/stores.csv', low_memory=False)\n",
    "train          = pd.read_csv('datasets/train.csv', low_memory=False)\n",
    "train_features = pd.read_csv('datasets/train_features.csv', low_memory=False)\n",
    "\n",
    "test           = pd.read_csv('datasets/test.csv', low_memory=False)\n",
    "test_features  = pd.read_csv('datasets/test_features.csv', low_memory=False)"
   ]
  },
  {
   "cell_type": "markdown",
   "id": "18684a09",
   "metadata": {
    "heading_collapsed": true,
    "hidden": true
   },
   "source": [
    "### 0.3. Helper functions"
   ]
  },
  {
   "cell_type": "code",
   "execution_count": 62,
   "id": "0bfd84c9",
   "metadata": {
    "ExecuteTime": {
     "end_time": "2023-12-19T22:09:49.502919Z",
     "start_time": "2023-12-19T22:09:49.470800Z"
    },
    "hidden": true
   },
   "outputs": [],
   "source": [
    "# Função que retorna uma tabela de únicos e suas respectivas quantidades\n",
    "def tab_unique(df):\n",
    "    tab_unicos = pd.DataFrame(df.nunique())\n",
    "    tab_unicos.columns= ['count']\n",
    "    tab_unicos['content'] = df.apply(lambda x: x.unique())\n",
    "    return tab_unicos\n",
    "\n",
    "def ml_error(model_name, y, yhat):\n",
    "    mae  = mean_absolute_error(y, yhat)\n",
    "    mape = mean_absolute_percentage_error(y, yhat)\n",
    "    mse  = mean_squared_error(y, yhat)\n",
    "    rmse = np.sqrt(mse)\n",
    "    r2   = r2_score(y, yhat)\n",
    "    return pd.DataFrame({'Model Name': model_name,\n",
    "                         'MAE': mae,\n",
    "                         'MAPE': mape,\n",
    "                         'MSE': mse,\n",
    "                         'RMSE': rmse,\n",
    "                         'R2': r2}, index=[0])"
   ]
  },
  {
   "cell_type": "code",
   "execution_count": 4,
   "id": "a57ab602",
   "metadata": {
    "ExecuteTime": {
     "end_time": "2023-12-19T22:00:34.183191Z",
     "start_time": "2023-12-19T22:00:34.121016Z"
    },
    "hidden": true
   },
   "outputs": [],
   "source": [
    "def cross_validation(x_training,kfold,model_name,model,verbose=False):\n",
    "    rmse_list = []\n",
    "    for k in reversed(range(1,kfold+1)):\n",
    "        if verbose:\n",
    "            print(f'K = {k}')\n",
    "        validation_start_date = x_training['data'].max() - timedelta(days=k*6*7)\n",
    "        validation_end_date = x_training['data'].max() - timedelta(days=(k-1)*6*7)\n",
    "\n",
    "        # Filtrar o dataset\n",
    "        training   = x_training[x_training['data'] < validation_start_date] #Resto dos dados\n",
    "        validation = x_training[(x_training['data'] >= validation_start_date) & (x_training['data'] <= \n",
    "                                                       validation_end_date)] # Começo até o início do treino\n",
    "\n",
    "        training_start = training['data'].max()\n",
    "        training_end = training['data'].min()\n",
    "\n",
    "        validation_start = validation['data'].max()\n",
    "        validation_end = validation['data'].min()\n",
    "\n",
    "        # Training and validation dataset\n",
    "        # training\n",
    "        xtraining = training.drop(['data','vendas_semanais','id'],axis=1)\n",
    "        ytraining = training['vendas_semanais']\n",
    "\n",
    "        # Validation\n",
    "        xvalidation = validation.drop(['data','vendas_semanais','id'],axis=1)\n",
    "        yvalidation = validation['vendas_semanais']\n",
    "\n",
    "        # Como fizemos para selecionar as variáveis para o Boruta\n",
    "        # Estamos selecionando os datasets de treino e validação\n",
    "\n",
    "        # Model\n",
    "        m = model.fit(xtraining,ytraining)\n",
    "\n",
    "        # Prediction\n",
    "        yhat = m.predict(xvalidation)\n",
    "\n",
    "        # Performance - Y_test é a coluna de sales que devemos encontrar e yhat é o que nosso método prediz\n",
    "        rmse = np.sqrt(mean_squared_error(np.expm1(yvalidation), np.expm1(yhat)))\n",
    "\n",
    "        # Guardando a performance de cada iteração\n",
    "        rmse_list.append(rmse)\n",
    "\n",
    "    return pd.DataFrame({'Model Name':model_name,\n",
    "         'RSME CV':np.round(np.mean(rmse_list),2).astype(str) + ' +/- ' + \n",
    "                         np.round(np.std(rmse_list),2).astype(str)},index=[0])"
   ]
  },
  {
   "cell_type": "markdown",
   "id": "ff66fafa",
   "metadata": {
    "heading_collapsed": true,
    "hidden": true
   },
   "source": [
    "### 0.4. Dicionário de dados"
   ]
  },
  {
   "cell_type": "markdown",
   "id": "8a56cdee",
   "metadata": {
    "hidden": true
   },
   "source": [
    "**Arquivos**\n",
    "- stores.csv - características das lojas\n",
    "- train.csv - dados de treino\n",
    "- features.csv - atributos complementares\n",
    "- test.csv - dados de teste\n",
    "- sample_submission.csv - exemplo de submissão"
   ]
  },
  {
   "cell_type": "markdown",
   "id": "d9c0a21e",
   "metadata": {
    "ExecuteTime": {
     "end_time": "2023-12-18T17:39:10.281392Z",
     "start_time": "2023-12-18T17:39:10.253403Z"
    },
    "hidden": true
   },
   "source": [
    "**train.csv**\n",
    "\n",
    "Feature | Description\n",
    "-- | --\n",
    "id | identificador único do registro\n",
    "loja | identificador único da loja\n",
    "setor | setor específico da loja\n",
    "data | semana (mês-dia) em que ocorreram as vendas\n",
    "vendas_semanais | valor total das vendas semanais, em US$\n",
    "feriado | se há feriado ou não na semana"
   ]
  },
  {
   "cell_type": "markdown",
   "id": "62228af4",
   "metadata": {
    "hidden": true
   },
   "source": [
    "**features.csv**\n",
    "\n",
    "Feature | Description\n",
    "-- | --\n",
    "loja | identificador único da loja\n",
    "data | semana (mês-dia) em que ocorreram as vendas\n",
    "temperatura | temperatura média da loja na semana, em °C\n",
    "combustivel | preço médio do combustível na semana, em US$\n",
    "desconto_1 | desconto promocional especial do tipo 1\n",
    "desconto_2 | desconto promocional especial do tipo 2\n",
    "desconto_3 | desconto promocional especial do tipo 3\n",
    "desconto_4 | desconto promocional especial do tipo 4\n",
    "desconto_5 | desconto promocional especial do tipo 5\n",
    "desemprego | taxa média de desemprego do país na semana\n",
    "feriado | se há feriado ou não na semana\n",
    "distancia_competidores | distância média entre as lojas competidoras, em polegadas\n",
    "clientes | quantidades de clientes presentes na loja, em média diária, durante aquela semana"
   ]
  },
  {
   "cell_type": "markdown",
   "id": "8cd98d39",
   "metadata": {
    "hidden": true
   },
   "source": [
    "**stores.csv**\n",
    "\n",
    "Feature | Description\n",
    "-- | --\n",
    "loja | identificador único da loja;\n",
    "tipo | eletrônico, eletrodomésticos ou acessórios;\n",
    "tamanho | tamanho da loja, unidade não definida."
   ]
  },
  {
   "cell_type": "markdown",
   "id": "4fea28ec",
   "metadata": {
    "heading_collapsed": true
   },
   "source": [
    "## 1. DATA DESCRIPTION"
   ]
  },
  {
   "cell_type": "markdown",
   "id": "a373fd56",
   "metadata": {
    "heading_collapsed": true,
    "hidden": true
   },
   "source": [
    "### 1.1. Unir tabelas"
   ]
  },
  {
   "cell_type": "code",
   "execution_count": 5,
   "id": "bb847c2b",
   "metadata": {
    "ExecuteTime": {
     "end_time": "2023-12-19T22:00:34.383513Z",
     "start_time": "2023-12-19T22:00:34.189222Z"
    },
    "hidden": true
   },
   "outputs": [],
   "source": [
    "df  = pd.merge(train, stores, on='loja', how='inner')\n",
    "df1 = pd.merge(df, train_features, on=['loja', 'data', 'feriado'], how='inner')"
   ]
  },
  {
   "cell_type": "markdown",
   "id": "77b6c9d5",
   "metadata": {
    "hidden": true
   },
   "source": [
    "### 1.2. Data Dimensions"
   ]
  },
  {
   "cell_type": "code",
   "execution_count": 6,
   "id": "735dd035",
   "metadata": {
    "ExecuteTime": {
     "end_time": "2023-12-19T22:00:34.415631Z",
     "start_time": "2023-12-19T22:00:34.388524Z"
    },
    "hidden": true
   },
   "outputs": [
    {
     "name": "stdout",
     "output_type": "stream",
     "text": [
      "Quantidade de linhas: 135,385\n",
      "Quantidade de colunas: 18\n"
     ]
    }
   ],
   "source": [
    "print('Quantidade de linhas: {:,}'.format(df1.shape[0]))\n",
    "print('Quantidade de colunas: {:,}'.format(df1.shape[1]))"
   ]
  },
  {
   "cell_type": "markdown",
   "id": "280ae603",
   "metadata": {
    "heading_collapsed": true,
    "hidden": true
   },
   "source": [
    "### 1.3. Check NA's"
   ]
  },
  {
   "cell_type": "code",
   "execution_count": 7,
   "id": "17ac70c5",
   "metadata": {
    "ExecuteTime": {
     "end_time": "2023-12-19T22:00:34.662553Z",
     "start_time": "2023-12-19T22:00:34.423194Z"
    },
    "hidden": true
   },
   "outputs": [
    {
     "data": {
      "text/plain": [
       "id                             0\n",
       "loja                           0\n",
       "setor                          0\n",
       "data                           0\n",
       "vendas_semanais            12862\n",
       "feriado                        0\n",
       "tipo                           0\n",
       "tamanho                    33327\n",
       "temperatura                47945\n",
       "combustivel                52989\n",
       "desconto_1                129459\n",
       "desconto_2                129510\n",
       "desconto_3                129746\n",
       "desconto_4                130184\n",
       "desconto_5                129459\n",
       "desemprego                     0\n",
       "distancia_competidores    129459\n",
       "clientes                       0\n",
       "dtype: int64"
      ]
     },
     "execution_count": 7,
     "metadata": {},
     "output_type": "execute_result"
    }
   ],
   "source": [
    "df1.isna().sum()"
   ]
  },
  {
   "cell_type": "code",
   "execution_count": 8,
   "id": "7fcb198d",
   "metadata": {
    "ExecuteTime": {
     "end_time": "2023-12-19T22:00:34.708894Z",
     "start_time": "2023-12-19T22:00:34.669551Z"
    },
    "hidden": true
   },
   "outputs": [
    {
     "data": {
      "text/plain": [
       "loja        0\n",
       "tipo        0\n",
       "tamanho    11\n",
       "dtype: int64"
      ]
     },
     "execution_count": 8,
     "metadata": {},
     "output_type": "execute_result"
    }
   ],
   "source": [
    "stores.isna().sum()"
   ]
  },
  {
   "cell_type": "markdown",
   "id": "77414f0b",
   "metadata": {
    "heading_collapsed": true,
    "hidden": true
   },
   "source": [
    "### 1.4. Data Types"
   ]
  },
  {
   "cell_type": "code",
   "execution_count": 9,
   "id": "8f05fafd",
   "metadata": {
    "ExecuteTime": {
     "end_time": "2023-12-19T22:00:34.771111Z",
     "start_time": "2023-12-19T22:00:34.729134Z"
    },
    "hidden": true
   },
   "outputs": [
    {
     "data": {
      "text/plain": [
       "id                          int64\n",
       "loja                        int64\n",
       "setor                       int64\n",
       "data                       object\n",
       "vendas_semanais           float64\n",
       "feriado                    object\n",
       "tipo                       object\n",
       "tamanho                   float64\n",
       "temperatura               float64\n",
       "combustivel               float64\n",
       "desconto_1                float64\n",
       "desconto_2                float64\n",
       "desconto_3                float64\n",
       "desconto_4                float64\n",
       "desconto_5                float64\n",
       "desemprego                float64\n",
       "distancia_competidores    float64\n",
       "clientes                    int64\n",
       "dtype: object"
      ]
     },
     "execution_count": 9,
     "metadata": {},
     "output_type": "execute_result"
    }
   ],
   "source": [
    "df1.dtypes"
   ]
  },
  {
   "cell_type": "markdown",
   "id": "5a243a78",
   "metadata": {
    "heading_collapsed": true,
    "hidden": true
   },
   "source": [
    "### 1.5. Check duplicated"
   ]
  },
  {
   "cell_type": "code",
   "execution_count": 10,
   "id": "f96c2d5b",
   "metadata": {
    "ExecuteTime": {
     "end_time": "2023-12-19T22:00:35.145308Z",
     "start_time": "2023-12-19T22:00:34.791038Z"
    },
    "hidden": true
   },
   "outputs": [
    {
     "data": {
      "text/plain": [
       "0"
      ]
     },
     "execution_count": 10,
     "metadata": {},
     "output_type": "execute_result"
    }
   ],
   "source": [
    "# Verificar a existência de registros duplicados\n",
    "df1.duplicated().sum()"
   ]
  },
  {
   "cell_type": "markdown",
   "id": "b128ae07",
   "metadata": {
    "heading_collapsed": true
   },
   "source": [
    "## 2. TRATAMENTO DE DADOS E FEATURE ENGINEERING"
   ]
  },
  {
   "cell_type": "code",
   "execution_count": 11,
   "id": "619a2814",
   "metadata": {
    "ExecuteTime": {
     "end_time": "2023-12-19T22:00:35.207410Z",
     "start_time": "2023-12-19T22:00:35.152893Z"
    },
    "hidden": true
   },
   "outputs": [],
   "source": [
    "df2 = df1.copy()"
   ]
  },
  {
   "cell_type": "markdown",
   "id": "199ebe6a",
   "metadata": {
    "heading_collapsed": true,
    "hidden": true
   },
   "source": [
    "### 2.1. Criação das Hipóteses"
   ]
  },
  {
   "cell_type": "code",
   "execution_count": null,
   "id": "1c587061",
   "metadata": {
    "ExecuteTime": {
     "end_time": "2023-12-17T12:19:58.396449Z",
     "start_time": "2023-12-17T12:19:58.385845Z"
    },
    "hidden": true
   },
   "outputs": [],
   "source": []
  },
  {
   "cell_type": "markdown",
   "id": "af2bb92e",
   "metadata": {
    "heading_collapsed": true,
    "hidden": true
   },
   "source": [
    "### 2.2. Transformar e converter"
   ]
  },
  {
   "cell_type": "markdown",
   "id": "f0a6a2fb",
   "metadata": {
    "hidden": true
   },
   "source": [
    "#### 2.2.1. Preencher NA´s e excluir colunas"
   ]
  },
  {
   "cell_type": "markdown",
   "id": "62da1723",
   "metadata": {
    "heading_collapsed": true,
    "hidden": true
   },
   "source": [
    "##### 2.2.1.1. Excluir os registros com vendas semanais nula ou menor que 1"
   ]
  },
  {
   "cell_type": "code",
   "execution_count": 12,
   "id": "b92df54b",
   "metadata": {
    "ExecuteTime": {
     "end_time": "2023-12-19T22:00:35.330490Z",
     "start_time": "2023-12-19T22:00:35.211962Z"
    },
    "hidden": true
   },
   "outputs": [
    {
     "data": {
      "text/html": [
       "<div>\n",
       "<style scoped>\n",
       "    .dataframe tbody tr th:only-of-type {\n",
       "        vertical-align: middle;\n",
       "    }\n",
       "\n",
       "    .dataframe tbody tr th {\n",
       "        vertical-align: top;\n",
       "    }\n",
       "\n",
       "    .dataframe thead th {\n",
       "        text-align: right;\n",
       "    }\n",
       "</style>\n",
       "<table border=\"1\" class=\"dataframe\">\n",
       "  <thead>\n",
       "    <tr style=\"text-align: right;\">\n",
       "      <th></th>\n",
       "      <th>id</th>\n",
       "      <th>loja</th>\n",
       "      <th>setor</th>\n",
       "      <th>data</th>\n",
       "      <th>vendas_semanais</th>\n",
       "      <th>feriado</th>\n",
       "      <th>tipo</th>\n",
       "      <th>tamanho</th>\n",
       "      <th>temperatura</th>\n",
       "      <th>combustivel</th>\n",
       "      <th>desconto_1</th>\n",
       "      <th>desconto_2</th>\n",
       "      <th>desconto_3</th>\n",
       "      <th>desconto_4</th>\n",
       "      <th>desconto_5</th>\n",
       "      <th>desemprego</th>\n",
       "      <th>distancia_competidores</th>\n",
       "      <th>clientes</th>\n",
       "    </tr>\n",
       "  </thead>\n",
       "  <tbody>\n",
       "    <tr>\n",
       "      <th>121991</th>\n",
       "      <td>275307</td>\n",
       "      <td>33</td>\n",
       "      <td>90</td>\n",
       "      <td>11-18</td>\n",
       "      <td>23462.71</td>\n",
       "      <td>nao</td>\n",
       "      <td>eletrodomestico</td>\n",
       "      <td>39690.0</td>\n",
       "      <td>NaN</td>\n",
       "      <td>3.669</td>\n",
       "      <td>86.59</td>\n",
       "      <td>6.0</td>\n",
       "      <td>NaN</td>\n",
       "      <td>NaN</td>\n",
       "      <td>3220.86</td>\n",
       "      <td>0.0801</td>\n",
       "      <td>1952.0</td>\n",
       "      <td>156</td>\n",
       "    </tr>\n",
       "    <tr>\n",
       "      <th>121992</th>\n",
       "      <td>275374</td>\n",
       "      <td>33</td>\n",
       "      <td>96</td>\n",
       "      <td>11-18</td>\n",
       "      <td>10445.16</td>\n",
       "      <td>nao</td>\n",
       "      <td>eletrodomestico</td>\n",
       "      <td>39690.0</td>\n",
       "      <td>NaN</td>\n",
       "      <td>3.669</td>\n",
       "      <td>86.59</td>\n",
       "      <td>6.0</td>\n",
       "      <td>NaN</td>\n",
       "      <td>NaN</td>\n",
       "      <td>3220.86</td>\n",
       "      <td>0.0801</td>\n",
       "      <td>1952.0</td>\n",
       "      <td>156</td>\n",
       "    </tr>\n",
       "    <tr>\n",
       "      <th>121993</th>\n",
       "      <td>275387</td>\n",
       "      <td>33</td>\n",
       "      <td>95</td>\n",
       "      <td>11-18</td>\n",
       "      <td>25464.21</td>\n",
       "      <td>nao</td>\n",
       "      <td>eletrodomestico</td>\n",
       "      <td>39690.0</td>\n",
       "      <td>NaN</td>\n",
       "      <td>3.669</td>\n",
       "      <td>86.59</td>\n",
       "      <td>6.0</td>\n",
       "      <td>NaN</td>\n",
       "      <td>NaN</td>\n",
       "      <td>3220.86</td>\n",
       "      <td>0.0801</td>\n",
       "      <td>1952.0</td>\n",
       "      <td>156</td>\n",
       "    </tr>\n",
       "    <tr>\n",
       "      <th>121994</th>\n",
       "      <td>275397</td>\n",
       "      <td>33</td>\n",
       "      <td>98</td>\n",
       "      <td>11-18</td>\n",
       "      <td>7730.53</td>\n",
       "      <td>nao</td>\n",
       "      <td>eletrodomestico</td>\n",
       "      <td>39690.0</td>\n",
       "      <td>NaN</td>\n",
       "      <td>3.669</td>\n",
       "      <td>86.59</td>\n",
       "      <td>6.0</td>\n",
       "      <td>NaN</td>\n",
       "      <td>NaN</td>\n",
       "      <td>3220.86</td>\n",
       "      <td>0.0801</td>\n",
       "      <td>1952.0</td>\n",
       "      <td>156</td>\n",
       "    </tr>\n",
       "    <tr>\n",
       "      <th>121995</th>\n",
       "      <td>275405</td>\n",
       "      <td>33</td>\n",
       "      <td>97</td>\n",
       "      <td>11-18</td>\n",
       "      <td>4665.16</td>\n",
       "      <td>nao</td>\n",
       "      <td>eletrodomestico</td>\n",
       "      <td>39690.0</td>\n",
       "      <td>NaN</td>\n",
       "      <td>3.669</td>\n",
       "      <td>86.59</td>\n",
       "      <td>6.0</td>\n",
       "      <td>NaN</td>\n",
       "      <td>NaN</td>\n",
       "      <td>3220.86</td>\n",
       "      <td>0.0801</td>\n",
       "      <td>1952.0</td>\n",
       "      <td>156</td>\n",
       "    </tr>\n",
       "  </tbody>\n",
       "</table>\n",
       "</div>"
      ],
      "text/plain": [
       "            id  loja  setor   data  vendas_semanais feriado             tipo  \\\n",
       "121991  275307    33     90  11-18         23462.71     nao  eletrodomestico   \n",
       "121992  275374    33     96  11-18         10445.16     nao  eletrodomestico   \n",
       "121993  275387    33     95  11-18         25464.21     nao  eletrodomestico   \n",
       "121994  275397    33     98  11-18          7730.53     nao  eletrodomestico   \n",
       "121995  275405    33     97  11-18          4665.16     nao  eletrodomestico   \n",
       "\n",
       "        tamanho  temperatura  combustivel  desconto_1  desconto_2  desconto_3  \\\n",
       "121991  39690.0          NaN        3.669       86.59         6.0         NaN   \n",
       "121992  39690.0          NaN        3.669       86.59         6.0         NaN   \n",
       "121993  39690.0          NaN        3.669       86.59         6.0         NaN   \n",
       "121994  39690.0          NaN        3.669       86.59         6.0         NaN   \n",
       "121995  39690.0          NaN        3.669       86.59         6.0         NaN   \n",
       "\n",
       "        desconto_4  desconto_5  desemprego  distancia_competidores  clientes  \n",
       "121991         NaN     3220.86      0.0801                  1952.0       156  \n",
       "121992         NaN     3220.86      0.0801                  1952.0       156  \n",
       "121993         NaN     3220.86      0.0801                  1952.0       156  \n",
       "121994         NaN     3220.86      0.0801                  1952.0       156  \n",
       "121995         NaN     3220.86      0.0801                  1952.0       156  "
      ]
     },
     "execution_count": 12,
     "metadata": {},
     "output_type": "execute_result"
    }
   ],
   "source": [
    "reg_faltantes = df2.loc[(df2['vendas_semanais'].isna()) | (df2['vendas_semanais'] < 1), :].index\n",
    "df2.drop(reg_faltantes, axis=0, inplace=True)\n",
    "\n",
    "df2.reset_index(inplace=True,drop=True)\n",
    "df2.tail()"
   ]
  },
  {
   "cell_type": "markdown",
   "id": "47586871",
   "metadata": {
    "heading_collapsed": true,
    "hidden": true
   },
   "source": [
    "##### 2.2.1.2. Preencher os descontos com valores nulos com 0"
   ]
  },
  {
   "cell_type": "code",
   "execution_count": 13,
   "id": "7cae818b",
   "metadata": {
    "ExecuteTime": {
     "end_time": "2023-12-19T22:00:35.408259Z",
     "start_time": "2023-12-19T22:00:35.337050Z"
    },
    "hidden": true
   },
   "outputs": [],
   "source": [
    "df2['desconto_1'] = df2['desconto_1'].fillna(0)\n",
    "df2['desconto_2'] = df2['desconto_2'].fillna(0)\n",
    "df2['desconto_3'] = df2['desconto_3'].fillna(0)\n",
    "df2['desconto_4'] = df2['desconto_4'].fillna(0)\n",
    "df2['desconto_5'] = df2['desconto_5'].fillna(0)"
   ]
  },
  {
   "cell_type": "markdown",
   "id": "c8abe15d",
   "metadata": {
    "heading_collapsed": true,
    "hidden": true
   },
   "source": [
    "##### 2.2.1.3.  Preencher o tamanho das lojas faltantes com a mediana"
   ]
  },
  {
   "cell_type": "code",
   "execution_count": 14,
   "id": "8a206b9e",
   "metadata": {
    "ExecuteTime": {
     "end_time": "2023-12-19T22:00:35.548419Z",
     "start_time": "2023-12-19T22:00:35.412799Z"
    },
    "hidden": true
   },
   "outputs": [
    {
     "name": "stdout",
     "output_type": "stream",
     "text": [
      "CPU times: total: 46.9 ms\n",
      "Wall time: 119 ms\n"
     ]
    }
   ],
   "source": [
    "%%time\n",
    "mediana = df2['tamanho'].median()\n",
    "tam_faltantes = df2.loc[df2['tamanho'].isna(), :].index\n",
    "df2['tamanho'] = df2['tamanho'].apply(lambda x: mediana if math.isnan(x) else x)"
   ]
  },
  {
   "cell_type": "code",
   "execution_count": 15,
   "id": "4502a8f7",
   "metadata": {
    "ExecuteTime": {
     "end_time": "2023-12-19T22:00:35.626295Z",
     "start_time": "2023-12-19T22:00:35.554953Z"
    },
    "hidden": true
   },
   "outputs": [
    {
     "data": {
      "text/html": [
       "<div>\n",
       "<style scoped>\n",
       "    .dataframe tbody tr th:only-of-type {\n",
       "        vertical-align: middle;\n",
       "    }\n",
       "\n",
       "    .dataframe tbody tr th {\n",
       "        vertical-align: top;\n",
       "    }\n",
       "\n",
       "    .dataframe thead th {\n",
       "        text-align: right;\n",
       "    }\n",
       "</style>\n",
       "<table border=\"1\" class=\"dataframe\">\n",
       "  <thead>\n",
       "    <tr style=\"text-align: right;\">\n",
       "      <th></th>\n",
       "      <th>id</th>\n",
       "      <th>loja</th>\n",
       "      <th>setor</th>\n",
       "      <th>data</th>\n",
       "      <th>vendas_semanais</th>\n",
       "      <th>feriado</th>\n",
       "      <th>tipo</th>\n",
       "      <th>tamanho</th>\n",
       "      <th>temperatura</th>\n",
       "      <th>combustivel</th>\n",
       "      <th>desconto_1</th>\n",
       "      <th>desconto_2</th>\n",
       "      <th>desconto_3</th>\n",
       "      <th>desconto_4</th>\n",
       "      <th>desconto_5</th>\n",
       "      <th>desemprego</th>\n",
       "      <th>distancia_competidores</th>\n",
       "      <th>clientes</th>\n",
       "    </tr>\n",
       "  </thead>\n",
       "  <tbody>\n",
       "    <tr>\n",
       "      <th>5623</th>\n",
       "      <td>140681</td>\n",
       "      <td>3</td>\n",
       "      <td>25</td>\n",
       "      <td>01-07</td>\n",
       "      <td>2658.57</td>\n",
       "      <td>nao</td>\n",
       "      <td>eletronico</td>\n",
       "      <td>128107.0</td>\n",
       "      <td>11.861111</td>\n",
       "      <td>NaN</td>\n",
       "      <td>0.0</td>\n",
       "      <td>0.0</td>\n",
       "      <td>0.0</td>\n",
       "      <td>0.0</td>\n",
       "      <td>0.0</td>\n",
       "      <td>0.07551</td>\n",
       "      <td>NaN</td>\n",
       "      <td>901</td>\n",
       "    </tr>\n",
       "    <tr>\n",
       "      <th>5624</th>\n",
       "      <td>141029</td>\n",
       "      <td>3</td>\n",
       "      <td>20</td>\n",
       "      <td>01-07</td>\n",
       "      <td>1358.81</td>\n",
       "      <td>nao</td>\n",
       "      <td>eletronico</td>\n",
       "      <td>128107.0</td>\n",
       "      <td>11.861111</td>\n",
       "      <td>NaN</td>\n",
       "      <td>0.0</td>\n",
       "      <td>0.0</td>\n",
       "      <td>0.0</td>\n",
       "      <td>0.0</td>\n",
       "      <td>0.0</td>\n",
       "      <td>0.07551</td>\n",
       "      <td>NaN</td>\n",
       "      <td>901</td>\n",
       "    </tr>\n",
       "    <tr>\n",
       "      <th>5625</th>\n",
       "      <td>141077</td>\n",
       "      <td>3</td>\n",
       "      <td>34</td>\n",
       "      <td>01-07</td>\n",
       "      <td>3280.50</td>\n",
       "      <td>nao</td>\n",
       "      <td>eletronico</td>\n",
       "      <td>128107.0</td>\n",
       "      <td>11.861111</td>\n",
       "      <td>NaN</td>\n",
       "      <td>0.0</td>\n",
       "      <td>0.0</td>\n",
       "      <td>0.0</td>\n",
       "      <td>0.0</td>\n",
       "      <td>0.0</td>\n",
       "      <td>0.07551</td>\n",
       "      <td>NaN</td>\n",
       "      <td>901</td>\n",
       "    </tr>\n",
       "  </tbody>\n",
       "</table>\n",
       "</div>"
      ],
      "text/plain": [
       "          id  loja  setor   data  vendas_semanais feriado        tipo  \\\n",
       "5623  140681     3     25  01-07          2658.57     nao  eletronico   \n",
       "5624  141029     3     20  01-07          1358.81     nao  eletronico   \n",
       "5625  141077     3     34  01-07          3280.50     nao  eletronico   \n",
       "\n",
       "       tamanho  temperatura  combustivel  desconto_1  desconto_2  desconto_3  \\\n",
       "5623  128107.0    11.861111          NaN         0.0         0.0         0.0   \n",
       "5624  128107.0    11.861111          NaN         0.0         0.0         0.0   \n",
       "5625  128107.0    11.861111          NaN         0.0         0.0         0.0   \n",
       "\n",
       "      desconto_4  desconto_5  desemprego  distancia_competidores  clientes  \n",
       "5623         0.0         0.0     0.07551                     NaN       901  \n",
       "5624         0.0         0.0     0.07551                     NaN       901  \n",
       "5625         0.0         0.0     0.07551                     NaN       901  "
      ]
     },
     "execution_count": 15,
     "metadata": {},
     "output_type": "execute_result"
    }
   ],
   "source": [
    "df2.iloc[tam_faltantes, :].head(3)"
   ]
  },
  {
   "cell_type": "markdown",
   "id": "3bea72ac",
   "metadata": {
    "ExecuteTime": {
     "end_time": "2023-12-16T14:48:50.828592Z",
     "start_time": "2023-12-16T14:48:50.814622Z"
    },
    "heading_collapsed": true,
    "hidden": true
   },
   "source": [
    "##### 2.2.1.4. Preencher a temperatura faltantes usando a média"
   ]
  },
  {
   "cell_type": "code",
   "execution_count": 16,
   "id": "058a4ea8",
   "metadata": {
    "ExecuteTime": {
     "end_time": "2023-12-19T22:00:35.768151Z",
     "start_time": "2023-12-19T22:00:35.630889Z"
    },
    "hidden": true
   },
   "outputs": [
    {
     "name": "stdout",
     "output_type": "stream",
     "text": [
      "CPU times: total: 62.5 ms\n",
      "Wall time: 114 ms\n"
     ]
    }
   ],
   "source": [
    "%%time\n",
    "media = df2['temperatura'].mean()\n",
    "temp_faltantes = df2.loc[df2['temperatura'].isna(), :].index\n",
    "df2['temperatura'] = df2['temperatura'].apply(lambda x: media if math.isnan(x) else x)"
   ]
  },
  {
   "cell_type": "code",
   "execution_count": 17,
   "id": "ce3ff4d9",
   "metadata": {
    "ExecuteTime": {
     "end_time": "2023-12-19T22:00:35.859751Z",
     "start_time": "2023-12-19T22:00:35.774700Z"
    },
    "hidden": true
   },
   "outputs": [
    {
     "data": {
      "text/html": [
       "<div>\n",
       "<style scoped>\n",
       "    .dataframe tbody tr th:only-of-type {\n",
       "        vertical-align: middle;\n",
       "    }\n",
       "\n",
       "    .dataframe tbody tr th {\n",
       "        vertical-align: top;\n",
       "    }\n",
       "\n",
       "    .dataframe thead th {\n",
       "        text-align: right;\n",
       "    }\n",
       "</style>\n",
       "<table border=\"1\" class=\"dataframe\">\n",
       "  <thead>\n",
       "    <tr style=\"text-align: right;\">\n",
       "      <th></th>\n",
       "      <th>id</th>\n",
       "      <th>loja</th>\n",
       "      <th>setor</th>\n",
       "      <th>data</th>\n",
       "      <th>vendas_semanais</th>\n",
       "      <th>feriado</th>\n",
       "      <th>tipo</th>\n",
       "      <th>tamanho</th>\n",
       "      <th>temperatura</th>\n",
       "      <th>combustivel</th>\n",
       "      <th>desconto_1</th>\n",
       "      <th>desconto_2</th>\n",
       "      <th>desconto_3</th>\n",
       "      <th>desconto_4</th>\n",
       "      <th>desconto_5</th>\n",
       "      <th>desemprego</th>\n",
       "      <th>distancia_competidores</th>\n",
       "      <th>clientes</th>\n",
       "    </tr>\n",
       "  </thead>\n",
       "  <tbody>\n",
       "    <tr>\n",
       "      <th>129</th>\n",
       "      <td>146595</td>\n",
       "      <td>17</td>\n",
       "      <td>6</td>\n",
       "      <td>01-21</td>\n",
       "      <td>4548.82</td>\n",
       "      <td>nao</td>\n",
       "      <td>eletronico</td>\n",
       "      <td>93188.0</td>\n",
       "      <td>15.710478</td>\n",
       "      <td>2.934</td>\n",
       "      <td>0.0</td>\n",
       "      <td>0.0</td>\n",
       "      <td>0.0</td>\n",
       "      <td>0.0</td>\n",
       "      <td>0.0</td>\n",
       "      <td>0.06866</td>\n",
       "      <td>NaN</td>\n",
       "      <td>422</td>\n",
       "    </tr>\n",
       "    <tr>\n",
       "      <th>130</th>\n",
       "      <td>146907</td>\n",
       "      <td>17</td>\n",
       "      <td>1</td>\n",
       "      <td>01-21</td>\n",
       "      <td>16137.30</td>\n",
       "      <td>nao</td>\n",
       "      <td>eletronico</td>\n",
       "      <td>93188.0</td>\n",
       "      <td>15.710478</td>\n",
       "      <td>2.934</td>\n",
       "      <td>0.0</td>\n",
       "      <td>0.0</td>\n",
       "      <td>0.0</td>\n",
       "      <td>0.0</td>\n",
       "      <td>0.0</td>\n",
       "      <td>0.06866</td>\n",
       "      <td>NaN</td>\n",
       "      <td>422</td>\n",
       "    </tr>\n",
       "    <tr>\n",
       "      <th>131</th>\n",
       "      <td>146975</td>\n",
       "      <td>17</td>\n",
       "      <td>2</td>\n",
       "      <td>01-21</td>\n",
       "      <td>39712.80</td>\n",
       "      <td>nao</td>\n",
       "      <td>eletronico</td>\n",
       "      <td>93188.0</td>\n",
       "      <td>15.710478</td>\n",
       "      <td>2.934</td>\n",
       "      <td>0.0</td>\n",
       "      <td>0.0</td>\n",
       "      <td>0.0</td>\n",
       "      <td>0.0</td>\n",
       "      <td>0.0</td>\n",
       "      <td>0.06866</td>\n",
       "      <td>NaN</td>\n",
       "      <td>422</td>\n",
       "    </tr>\n",
       "  </tbody>\n",
       "</table>\n",
       "</div>"
      ],
      "text/plain": [
       "         id  loja  setor   data  vendas_semanais feriado        tipo  tamanho  \\\n",
       "129  146595    17      6  01-21          4548.82     nao  eletronico  93188.0   \n",
       "130  146907    17      1  01-21         16137.30     nao  eletronico  93188.0   \n",
       "131  146975    17      2  01-21         39712.80     nao  eletronico  93188.0   \n",
       "\n",
       "     temperatura  combustivel  desconto_1  desconto_2  desconto_3  desconto_4  \\\n",
       "129    15.710478        2.934         0.0         0.0         0.0         0.0   \n",
       "130    15.710478        2.934         0.0         0.0         0.0         0.0   \n",
       "131    15.710478        2.934         0.0         0.0         0.0         0.0   \n",
       "\n",
       "     desconto_5  desemprego  distancia_competidores  clientes  \n",
       "129         0.0     0.06866                     NaN       422  \n",
       "130         0.0     0.06866                     NaN       422  \n",
       "131         0.0     0.06866                     NaN       422  "
      ]
     },
     "execution_count": 17,
     "metadata": {},
     "output_type": "execute_result"
    }
   ],
   "source": [
    "df2.iloc[temp_faltantes, :].head(3)"
   ]
  },
  {
   "cell_type": "markdown",
   "id": "3e88a5bf",
   "metadata": {
    "heading_collapsed": true,
    "hidden": true
   },
   "source": [
    "##### 2.2.1.5. Preencher os registros com combustível faltantes usando a média"
   ]
  },
  {
   "cell_type": "code",
   "execution_count": 18,
   "id": "0b510709",
   "metadata": {
    "ExecuteTime": {
     "end_time": "2023-12-19T22:00:36.002028Z",
     "start_time": "2023-12-19T22:00:35.866305Z"
    },
    "hidden": true
   },
   "outputs": [
    {
     "name": "stdout",
     "output_type": "stream",
     "text": [
      "CPU times: total: 31.2 ms\n",
      "Wall time: 120 ms\n"
     ]
    }
   ],
   "source": [
    "%%time\n",
    "media = df2['combustivel'].mean()\n",
    "comb_faltantes = df2.loc[df2['combustivel'].isna(), :].index\n",
    "df2['combustivel'] = df2['combustivel'].apply(lambda x: media if math.isnan(x) else x)"
   ]
  },
  {
   "cell_type": "code",
   "execution_count": 19,
   "id": "e1dda53e",
   "metadata": {
    "ExecuteTime": {
     "end_time": "2023-12-19T22:00:36.079838Z",
     "start_time": "2023-12-19T22:00:36.007095Z"
    },
    "hidden": true
   },
   "outputs": [
    {
     "data": {
      "text/html": [
       "<div>\n",
       "<style scoped>\n",
       "    .dataframe tbody tr th:only-of-type {\n",
       "        vertical-align: middle;\n",
       "    }\n",
       "\n",
       "    .dataframe tbody tr th {\n",
       "        vertical-align: top;\n",
       "    }\n",
       "\n",
       "    .dataframe thead th {\n",
       "        text-align: right;\n",
       "    }\n",
       "</style>\n",
       "<table border=\"1\" class=\"dataframe\">\n",
       "  <thead>\n",
       "    <tr style=\"text-align: right;\">\n",
       "      <th></th>\n",
       "      <th>id</th>\n",
       "      <th>loja</th>\n",
       "      <th>setor</th>\n",
       "      <th>data</th>\n",
       "      <th>vendas_semanais</th>\n",
       "      <th>feriado</th>\n",
       "      <th>tipo</th>\n",
       "      <th>tamanho</th>\n",
       "      <th>temperatura</th>\n",
       "      <th>combustivel</th>\n",
       "      <th>desconto_1</th>\n",
       "      <th>desconto_2</th>\n",
       "      <th>desconto_3</th>\n",
       "      <th>desconto_4</th>\n",
       "      <th>desconto_5</th>\n",
       "      <th>desemprego</th>\n",
       "      <th>distancia_competidores</th>\n",
       "      <th>clientes</th>\n",
       "    </tr>\n",
       "  </thead>\n",
       "  <tbody>\n",
       "    <tr>\n",
       "      <th>377</th>\n",
       "      <td>158299</td>\n",
       "      <td>17</td>\n",
       "      <td>24</td>\n",
       "      <td>02-18</td>\n",
       "      <td>3652.30</td>\n",
       "      <td>nao</td>\n",
       "      <td>eletronico</td>\n",
       "      <td>93188.0</td>\n",
       "      <td>-2.855556</td>\n",
       "      <td>3.59723</td>\n",
       "      <td>0.0</td>\n",
       "      <td>0.0</td>\n",
       "      <td>0.0</td>\n",
       "      <td>0.0</td>\n",
       "      <td>0.0</td>\n",
       "      <td>0.06866</td>\n",
       "      <td>NaN</td>\n",
       "      <td>956</td>\n",
       "    </tr>\n",
       "    <tr>\n",
       "      <th>378</th>\n",
       "      <td>158421</td>\n",
       "      <td>17</td>\n",
       "      <td>20</td>\n",
       "      <td>02-18</td>\n",
       "      <td>3273.07</td>\n",
       "      <td>nao</td>\n",
       "      <td>eletronico</td>\n",
       "      <td>93188.0</td>\n",
       "      <td>-2.855556</td>\n",
       "      <td>3.59723</td>\n",
       "      <td>0.0</td>\n",
       "      <td>0.0</td>\n",
       "      <td>0.0</td>\n",
       "      <td>0.0</td>\n",
       "      <td>0.0</td>\n",
       "      <td>0.06866</td>\n",
       "      <td>NaN</td>\n",
       "      <td>956</td>\n",
       "    </tr>\n",
       "    <tr>\n",
       "      <th>379</th>\n",
       "      <td>158480</td>\n",
       "      <td>17</td>\n",
       "      <td>58</td>\n",
       "      <td>02-18</td>\n",
       "      <td>1200.00</td>\n",
       "      <td>nao</td>\n",
       "      <td>eletronico</td>\n",
       "      <td>93188.0</td>\n",
       "      <td>-2.855556</td>\n",
       "      <td>3.59723</td>\n",
       "      <td>0.0</td>\n",
       "      <td>0.0</td>\n",
       "      <td>0.0</td>\n",
       "      <td>0.0</td>\n",
       "      <td>0.0</td>\n",
       "      <td>0.06866</td>\n",
       "      <td>NaN</td>\n",
       "      <td>956</td>\n",
       "    </tr>\n",
       "  </tbody>\n",
       "</table>\n",
       "</div>"
      ],
      "text/plain": [
       "         id  loja  setor   data  vendas_semanais feriado        tipo  tamanho  \\\n",
       "377  158299    17     24  02-18          3652.30     nao  eletronico  93188.0   \n",
       "378  158421    17     20  02-18          3273.07     nao  eletronico  93188.0   \n",
       "379  158480    17     58  02-18          1200.00     nao  eletronico  93188.0   \n",
       "\n",
       "     temperatura  combustivel  desconto_1  desconto_2  desconto_3  desconto_4  \\\n",
       "377    -2.855556      3.59723         0.0         0.0         0.0         0.0   \n",
       "378    -2.855556      3.59723         0.0         0.0         0.0         0.0   \n",
       "379    -2.855556      3.59723         0.0         0.0         0.0         0.0   \n",
       "\n",
       "     desconto_5  desemprego  distancia_competidores  clientes  \n",
       "377         0.0     0.06866                     NaN       956  \n",
       "378         0.0     0.06866                     NaN       956  \n",
       "379         0.0     0.06866                     NaN       956  "
      ]
     },
     "execution_count": 19,
     "metadata": {},
     "output_type": "execute_result"
    }
   ],
   "source": [
    "df2.iloc[comb_faltantes, :].head(3)"
   ]
  },
  {
   "cell_type": "markdown",
   "id": "441efff3",
   "metadata": {
    "heading_collapsed": true,
    "hidden": true
   },
   "source": [
    "##### 2.2.1.6. Preencher os registros com distancia faltantes usando um número grande"
   ]
  },
  {
   "cell_type": "code",
   "execution_count": 20,
   "id": "6eacf6f0",
   "metadata": {
    "ExecuteTime": {
     "end_time": "2023-12-19T22:00:36.283802Z",
     "start_time": "2023-12-19T22:00:36.085414Z"
    },
    "hidden": true
   },
   "outputs": [
    {
     "name": "stdout",
     "output_type": "stream",
     "text": [
      "CPU times: total: 46.9 ms\n",
      "Wall time: 175 ms\n"
     ]
    }
   ],
   "source": [
    "%%time\n",
    "comp_faltantes = df2.loc[df2['distancia_competidores'].isna(), :].index\n",
    "df2['distancia_competidores'] = df2['distancia_competidores'].apply(lambda x: 300000 if math.isnan(x) else x)"
   ]
  },
  {
   "cell_type": "code",
   "execution_count": 21,
   "id": "3916b4be",
   "metadata": {
    "ExecuteTime": {
     "end_time": "2023-12-19T22:00:36.377568Z",
     "start_time": "2023-12-19T22:00:36.288802Z"
    },
    "hidden": true
   },
   "outputs": [
    {
     "data": {
      "text/html": [
       "<div>\n",
       "<style scoped>\n",
       "    .dataframe tbody tr th:only-of-type {\n",
       "        vertical-align: middle;\n",
       "    }\n",
       "\n",
       "    .dataframe tbody tr th {\n",
       "        vertical-align: top;\n",
       "    }\n",
       "\n",
       "    .dataframe thead th {\n",
       "        text-align: right;\n",
       "    }\n",
       "</style>\n",
       "<table border=\"1\" class=\"dataframe\">\n",
       "  <thead>\n",
       "    <tr style=\"text-align: right;\">\n",
       "      <th></th>\n",
       "      <th>id</th>\n",
       "      <th>loja</th>\n",
       "      <th>setor</th>\n",
       "      <th>data</th>\n",
       "      <th>vendas_semanais</th>\n",
       "      <th>feriado</th>\n",
       "      <th>tipo</th>\n",
       "      <th>tamanho</th>\n",
       "      <th>temperatura</th>\n",
       "      <th>combustivel</th>\n",
       "      <th>desconto_1</th>\n",
       "      <th>desconto_2</th>\n",
       "      <th>desconto_3</th>\n",
       "      <th>desconto_4</th>\n",
       "      <th>desconto_5</th>\n",
       "      <th>desemprego</th>\n",
       "      <th>distancia_competidores</th>\n",
       "      <th>clientes</th>\n",
       "    </tr>\n",
       "  </thead>\n",
       "  <tbody>\n",
       "    <tr>\n",
       "      <th>377</th>\n",
       "      <td>158299</td>\n",
       "      <td>17</td>\n",
       "      <td>24</td>\n",
       "      <td>02-18</td>\n",
       "      <td>3652.30</td>\n",
       "      <td>nao</td>\n",
       "      <td>eletronico</td>\n",
       "      <td>93188.0</td>\n",
       "      <td>-2.855556</td>\n",
       "      <td>3.59723</td>\n",
       "      <td>0.0</td>\n",
       "      <td>0.0</td>\n",
       "      <td>0.0</td>\n",
       "      <td>0.0</td>\n",
       "      <td>0.0</td>\n",
       "      <td>0.06866</td>\n",
       "      <td>300000.0</td>\n",
       "      <td>956</td>\n",
       "    </tr>\n",
       "    <tr>\n",
       "      <th>378</th>\n",
       "      <td>158421</td>\n",
       "      <td>17</td>\n",
       "      <td>20</td>\n",
       "      <td>02-18</td>\n",
       "      <td>3273.07</td>\n",
       "      <td>nao</td>\n",
       "      <td>eletronico</td>\n",
       "      <td>93188.0</td>\n",
       "      <td>-2.855556</td>\n",
       "      <td>3.59723</td>\n",
       "      <td>0.0</td>\n",
       "      <td>0.0</td>\n",
       "      <td>0.0</td>\n",
       "      <td>0.0</td>\n",
       "      <td>0.0</td>\n",
       "      <td>0.06866</td>\n",
       "      <td>300000.0</td>\n",
       "      <td>956</td>\n",
       "    </tr>\n",
       "    <tr>\n",
       "      <th>379</th>\n",
       "      <td>158480</td>\n",
       "      <td>17</td>\n",
       "      <td>58</td>\n",
       "      <td>02-18</td>\n",
       "      <td>1200.00</td>\n",
       "      <td>nao</td>\n",
       "      <td>eletronico</td>\n",
       "      <td>93188.0</td>\n",
       "      <td>-2.855556</td>\n",
       "      <td>3.59723</td>\n",
       "      <td>0.0</td>\n",
       "      <td>0.0</td>\n",
       "      <td>0.0</td>\n",
       "      <td>0.0</td>\n",
       "      <td>0.0</td>\n",
       "      <td>0.06866</td>\n",
       "      <td>300000.0</td>\n",
       "      <td>956</td>\n",
       "    </tr>\n",
       "  </tbody>\n",
       "</table>\n",
       "</div>"
      ],
      "text/plain": [
       "         id  loja  setor   data  vendas_semanais feriado        tipo  tamanho  \\\n",
       "377  158299    17     24  02-18          3652.30     nao  eletronico  93188.0   \n",
       "378  158421    17     20  02-18          3273.07     nao  eletronico  93188.0   \n",
       "379  158480    17     58  02-18          1200.00     nao  eletronico  93188.0   \n",
       "\n",
       "     temperatura  combustivel  desconto_1  desconto_2  desconto_3  desconto_4  \\\n",
       "377    -2.855556      3.59723         0.0         0.0         0.0         0.0   \n",
       "378    -2.855556      3.59723         0.0         0.0         0.0         0.0   \n",
       "379    -2.855556      3.59723         0.0         0.0         0.0         0.0   \n",
       "\n",
       "     desconto_5  desemprego  distancia_competidores  clientes  \n",
       "377         0.0     0.06866                300000.0       956  \n",
       "378         0.0     0.06866                300000.0       956  \n",
       "379         0.0     0.06866                300000.0       956  "
      ]
     },
     "execution_count": 21,
     "metadata": {},
     "output_type": "execute_result"
    }
   ],
   "source": [
    "df2.iloc[comb_faltantes, :].head(3)"
   ]
  },
  {
   "cell_type": "markdown",
   "id": "d888c141",
   "metadata": {
    "heading_collapsed": true,
    "hidden": true
   },
   "source": [
    "#### 2.2.2. Transformação de tipos"
   ]
  },
  {
   "cell_type": "code",
   "execution_count": 22,
   "id": "6efc3545",
   "metadata": {
    "ExecuteTime": {
     "end_time": "2023-12-19T22:00:36.407860Z",
     "start_time": "2023-12-19T22:00:36.383143Z"
    },
    "hidden": true
   },
   "outputs": [
    {
     "data": {
      "text/plain": [
       "id                          int64\n",
       "loja                        int64\n",
       "setor                       int64\n",
       "data                       object\n",
       "vendas_semanais           float64\n",
       "feriado                    object\n",
       "tipo                       object\n",
       "tamanho                   float64\n",
       "temperatura               float64\n",
       "combustivel               float64\n",
       "desconto_1                float64\n",
       "desconto_2                float64\n",
       "desconto_3                float64\n",
       "desconto_4                float64\n",
       "desconto_5                float64\n",
       "desemprego                float64\n",
       "distancia_competidores    float64\n",
       "clientes                    int64\n",
       "dtype: object"
      ]
     },
     "execution_count": 22,
     "metadata": {},
     "output_type": "execute_result"
    }
   ],
   "source": [
    "df2.dtypes"
   ]
  },
  {
   "cell_type": "markdown",
   "id": "8ed1dd4d",
   "metadata": {
    "heading_collapsed": true,
    "hidden": true
   },
   "source": [
    "##### 2.2.2.1 Transformar data nas colunas dia e mes"
   ]
  },
  {
   "cell_type": "code",
   "execution_count": 23,
   "id": "49ebdca5",
   "metadata": {
    "ExecuteTime": {
     "end_time": "2023-12-19T22:00:38.843194Z",
     "start_time": "2023-12-19T22:00:36.412404Z"
    },
    "hidden": true
   },
   "outputs": [],
   "source": [
    "# Transformar o campo data em datetime\n",
    "df2['data']          = pd.to_datetime(df2['data'] + '-2023', format='%m-%d-%Y')\n",
    "\n",
    "# Criar novas colunas para análise detalhada\n",
    "df2[\"week_of_year\"]  = df2[\"data\"].dt.strftime(\"%U\")\n",
    "df2[\"week_of_month\"] = df2[\"data\"].dt.day.apply(lambda x: (x - 1) // 7 + 1)\n",
    "df2['month']         = df2['data'].dt.month\n",
    "df2['day']           = df2['data'].dt.day"
   ]
  },
  {
   "cell_type": "markdown",
   "id": "998b4389",
   "metadata": {
    "heading_collapsed": true,
    "hidden": true
   },
   "source": [
    "##### 2.2.2.2. Transformar feriado em 0 e 1"
   ]
  },
  {
   "cell_type": "code",
   "execution_count": 24,
   "id": "4e784de6",
   "metadata": {
    "ExecuteTime": {
     "end_time": "2023-12-19T22:00:39.016326Z",
     "start_time": "2023-12-19T22:00:38.849222Z"
    },
    "hidden": true
   },
   "outputs": [],
   "source": [
    "df2['feriado'] = df2['feriado'].apply(lambda x: 1 if x == 'sim' else 0)"
   ]
  },
  {
   "cell_type": "code",
   "execution_count": 25,
   "id": "02ea6a9a",
   "metadata": {
    "ExecuteTime": {
     "end_time": "2023-12-19T22:00:39.047599Z",
     "start_time": "2023-12-19T22:00:39.020920Z"
    },
    "hidden": true
   },
   "outputs": [
    {
     "data": {
      "text/plain": [
       "array([0, 1], dtype=int64)"
      ]
     },
     "execution_count": 25,
     "metadata": {},
     "output_type": "execute_result"
    }
   ],
   "source": [
    "df2['feriado'].unique()"
   ]
  },
  {
   "cell_type": "markdown",
   "id": "313a089d",
   "metadata": {
    "heading_collapsed": true,
    "hidden": true
   },
   "source": [
    "### 2.3. Criar"
   ]
  },
  {
   "cell_type": "markdown",
   "id": "85f68698",
   "metadata": {
    "heading_collapsed": true,
    "hidden": true
   },
   "source": [
    "#### 2.3.1. Classificar as lojas pelo tamanho"
   ]
  },
  {
   "cell_type": "code",
   "execution_count": 26,
   "id": "fce183ac",
   "metadata": {
    "ExecuteTime": {
     "end_time": "2023-12-19T22:00:39.218646Z",
     "start_time": "2023-12-19T22:00:39.054192Z"
    },
    "hidden": true
   },
   "outputs": [],
   "source": [
    "q1 = df2['tamanho'].quantile(0.25)\n",
    "q2 = df2['tamanho'].quantile(0.5)\n",
    "q3 = df2['tamanho'].quantile(0.75)\n",
    "\n",
    "df2['tipo_de_loja'] = df2['tamanho'].apply(lambda x: 'A' if x < q1 else\n",
    "                                                     'B' if x < q3 else 'C')"
   ]
  },
  {
   "cell_type": "code",
   "execution_count": 27,
   "id": "c1224d0e",
   "metadata": {
    "ExecuteTime": {
     "end_time": "2023-12-19T22:00:39.314247Z",
     "start_time": "2023-12-19T22:00:39.224828Z"
    },
    "hidden": true
   },
   "outputs": [
    {
     "data": {
      "text/html": [
       "<div>\n",
       "<style scoped>\n",
       "    .dataframe tbody tr th:only-of-type {\n",
       "        vertical-align: middle;\n",
       "    }\n",
       "\n",
       "    .dataframe tbody tr th {\n",
       "        vertical-align: top;\n",
       "    }\n",
       "\n",
       "    .dataframe thead th {\n",
       "        text-align: right;\n",
       "    }\n",
       "</style>\n",
       "<table border=\"1\" class=\"dataframe\">\n",
       "  <thead>\n",
       "    <tr style=\"text-align: right;\">\n",
       "      <th></th>\n",
       "      <th>vendas_semanais</th>\n",
       "    </tr>\n",
       "    <tr>\n",
       "      <th>tipo_de_loja</th>\n",
       "      <th></th>\n",
       "    </tr>\n",
       "  </thead>\n",
       "  <tbody>\n",
       "    <tr>\n",
       "      <th>A</th>\n",
       "      <td>4757.605</td>\n",
       "    </tr>\n",
       "    <tr>\n",
       "      <th>B</th>\n",
       "      <td>8734.610</td>\n",
       "    </tr>\n",
       "    <tr>\n",
       "      <th>C</th>\n",
       "      <td>11520.665</td>\n",
       "    </tr>\n",
       "  </tbody>\n",
       "</table>\n",
       "</div>"
      ],
      "text/plain": [
       "              vendas_semanais\n",
       "tipo_de_loja                 \n",
       "A                    4757.605\n",
       "B                    8734.610\n",
       "C                   11520.665"
      ]
     },
     "execution_count": 27,
     "metadata": {},
     "output_type": "execute_result"
    }
   ],
   "source": [
    "df2.loc[:, ['tipo_de_loja', 'vendas_semanais']].groupby('tipo_de_loja').median()"
   ]
  },
  {
   "cell_type": "markdown",
   "id": "b64b5ab3",
   "metadata": {
    "heading_collapsed": true,
    "hidden": true
   },
   "source": [
    "#### 2.3.2. Somar os desconto semana"
   ]
  },
  {
   "cell_type": "code",
   "execution_count": 28,
   "id": "48b4ee09",
   "metadata": {
    "ExecuteTime": {
     "end_time": "2023-12-19T22:00:39.392153Z",
     "start_time": "2023-12-19T22:00:39.325821Z"
    },
    "hidden": true
   },
   "outputs": [],
   "source": [
    "df2['desconto'] = df2['desconto_1'] + df2['desconto_2'] + df2['desconto_3'] + df2['desconto_4'] + df2['desconto_5']\n",
    "df2.drop(['desconto_1', 'desconto_2', 'desconto_3', 'desconto_4', 'desconto_5'], axis=1, inplace=True)"
   ]
  },
  {
   "cell_type": "markdown",
   "id": "0cb50bdf",
   "metadata": {},
   "source": [
    "## 3. EXPLORATORY DATA ANALYSIS (EDA)"
   ]
  },
  {
   "cell_type": "code",
   "execution_count": 29,
   "id": "19f1a0e3",
   "metadata": {
    "ExecuteTime": {
     "end_time": "2023-12-19T22:00:39.423242Z",
     "start_time": "2023-12-19T22:00:39.398166Z"
    }
   },
   "outputs": [],
   "source": [
    "df3 = df2.copy()"
   ]
  },
  {
   "cell_type": "markdown",
   "id": "ca01f977",
   "metadata": {},
   "source": [
    "### 3.1. Análise Univariada"
   ]
  },
  {
   "cell_type": "markdown",
   "id": "e6b00716",
   "metadata": {},
   "source": [
    "#### 3.1.1. Vendas"
   ]
  },
  {
   "cell_type": "code",
   "execution_count": 30,
   "id": "4aa32023",
   "metadata": {
    "ExecuteTime": {
     "end_time": "2023-12-19T22:00:39.608902Z",
     "start_time": "2023-12-19T22:00:39.428243Z"
    }
   },
   "outputs": [
    {
     "data": {
      "text/html": [
       "<div>\n",
       "<style scoped>\n",
       "    .dataframe tbody tr th:only-of-type {\n",
       "        vertical-align: middle;\n",
       "    }\n",
       "\n",
       "    .dataframe tbody tr th {\n",
       "        vertical-align: top;\n",
       "    }\n",
       "\n",
       "    .dataframe thead th {\n",
       "        text-align: right;\n",
       "    }\n",
       "</style>\n",
       "<table border=\"1\" class=\"dataframe\">\n",
       "  <thead>\n",
       "    <tr style=\"text-align: right;\">\n",
       "      <th></th>\n",
       "      <th>count</th>\n",
       "      <th>mean</th>\n",
       "      <th>std</th>\n",
       "      <th>min</th>\n",
       "      <th>25%</th>\n",
       "      <th>50%</th>\n",
       "      <th>75%</th>\n",
       "      <th>max</th>\n",
       "    </tr>\n",
       "  </thead>\n",
       "  <tbody>\n",
       "    <tr>\n",
       "      <th>id</th>\n",
       "      <td>121996.0</td>\n",
       "      <td>208327.019984</td>\n",
       "      <td>39113.291882</td>\n",
       "      <td>140679.000000</td>\n",
       "      <td>174427.75000</td>\n",
       "      <td>208328.500000</td>\n",
       "      <td>242209.250000</td>\n",
       "      <td>276063.000000</td>\n",
       "    </tr>\n",
       "    <tr>\n",
       "      <th>loja</th>\n",
       "      <td>121996.0</td>\n",
       "      <td>22.231221</td>\n",
       "      <td>12.785161</td>\n",
       "      <td>1.000000</td>\n",
       "      <td>11.00000</td>\n",
       "      <td>22.000000</td>\n",
       "      <td>33.000000</td>\n",
       "      <td>45.000000</td>\n",
       "    </tr>\n",
       "    <tr>\n",
       "      <th>setor</th>\n",
       "      <td>121996.0</td>\n",
       "      <td>44.104667</td>\n",
       "      <td>30.461675</td>\n",
       "      <td>1.000000</td>\n",
       "      <td>18.00000</td>\n",
       "      <td>37.000000</td>\n",
       "      <td>72.000000</td>\n",
       "      <td>99.000000</td>\n",
       "    </tr>\n",
       "    <tr>\n",
       "      <th>vendas_semanais</th>\n",
       "      <td>121996.0</td>\n",
       "      <td>63263.672589</td>\n",
       "      <td>198830.111869</td>\n",
       "      <td>1.000000</td>\n",
       "      <td>2284.54000</td>\n",
       "      <td>8310.015000</td>\n",
       "      <td>23730.082500</td>\n",
       "      <td>999967.424022</td>\n",
       "    </tr>\n",
       "    <tr>\n",
       "      <th>feriado</th>\n",
       "      <td>121996.0</td>\n",
       "      <td>0.043780</td>\n",
       "      <td>0.204606</td>\n",
       "      <td>0.000000</td>\n",
       "      <td>0.00000</td>\n",
       "      <td>0.000000</td>\n",
       "      <td>0.000000</td>\n",
       "      <td>1.000000</td>\n",
       "    </tr>\n",
       "    <tr>\n",
       "      <th>tamanho</th>\n",
       "      <td>121996.0</td>\n",
       "      <td>131427.548174</td>\n",
       "      <td>49646.107299</td>\n",
       "      <td>34875.000000</td>\n",
       "      <td>114533.00000</td>\n",
       "      <td>128107.000000</td>\n",
       "      <td>155083.000000</td>\n",
       "      <td>219622.000000</td>\n",
       "    </tr>\n",
       "    <tr>\n",
       "      <th>temperatura</th>\n",
       "      <td>121996.0</td>\n",
       "      <td>15.710478</td>\n",
       "      <td>8.627305</td>\n",
       "      <td>-18.922222</td>\n",
       "      <td>13.70000</td>\n",
       "      <td>15.710478</td>\n",
       "      <td>20.294444</td>\n",
       "      <td>37.588889</td>\n",
       "    </tr>\n",
       "    <tr>\n",
       "      <th>combustivel</th>\n",
       "      <td>121996.0</td>\n",
       "      <td>3.597230</td>\n",
       "      <td>0.223213</td>\n",
       "      <td>2.891000</td>\n",
       "      <td>3.56600</td>\n",
       "      <td>3.597230</td>\n",
       "      <td>3.682000</td>\n",
       "      <td>4.211000</td>\n",
       "    </tr>\n",
       "    <tr>\n",
       "      <th>desemprego</th>\n",
       "      <td>121996.0</td>\n",
       "      <td>0.080727</td>\n",
       "      <td>0.018728</td>\n",
       "      <td>0.044200</td>\n",
       "      <td>0.07082</td>\n",
       "      <td>0.078520</td>\n",
       "      <td>0.085230</td>\n",
       "      <td>0.140210</td>\n",
       "    </tr>\n",
       "    <tr>\n",
       "      <th>distancia_competidores</th>\n",
       "      <td>121996.0</td>\n",
       "      <td>287604.446982</td>\n",
       "      <td>57924.824269</td>\n",
       "      <td>1576.000000</td>\n",
       "      <td>300000.00000</td>\n",
       "      <td>300000.000000</td>\n",
       "      <td>300000.000000</td>\n",
       "      <td>300000.000000</td>\n",
       "    </tr>\n",
       "    <tr>\n",
       "      <th>clientes</th>\n",
       "      <td>121996.0</td>\n",
       "      <td>508.952097</td>\n",
       "      <td>290.329394</td>\n",
       "      <td>1.000000</td>\n",
       "      <td>260.00000</td>\n",
       "      <td>517.000000</td>\n",
       "      <td>761.000000</td>\n",
       "      <td>999.000000</td>\n",
       "    </tr>\n",
       "    <tr>\n",
       "      <th>week_of_month</th>\n",
       "      <td>121996.0</td>\n",
       "      <td>2.632258</td>\n",
       "      <td>1.240441</td>\n",
       "      <td>1.000000</td>\n",
       "      <td>2.00000</td>\n",
       "      <td>3.000000</td>\n",
       "      <td>4.000000</td>\n",
       "      <td>5.000000</td>\n",
       "    </tr>\n",
       "    <tr>\n",
       "      <th>month</th>\n",
       "      <td>121996.0</td>\n",
       "      <td>5.936408</td>\n",
       "      <td>3.056406</td>\n",
       "      <td>1.000000</td>\n",
       "      <td>3.00000</td>\n",
       "      <td>6.000000</td>\n",
       "      <td>9.000000</td>\n",
       "      <td>11.000000</td>\n",
       "    </tr>\n",
       "    <tr>\n",
       "      <th>day</th>\n",
       "      <td>121996.0</td>\n",
       "      <td>15.250943</td>\n",
       "      <td>8.607031</td>\n",
       "      <td>1.000000</td>\n",
       "      <td>8.00000</td>\n",
       "      <td>15.000000</td>\n",
       "      <td>22.000000</td>\n",
       "      <td>30.000000</td>\n",
       "    </tr>\n",
       "    <tr>\n",
       "      <th>desconto</th>\n",
       "      <td>121996.0</td>\n",
       "      <td>959.171060</td>\n",
       "      <td>5716.262740</td>\n",
       "      <td>0.000000</td>\n",
       "      <td>0.00000</td>\n",
       "      <td>0.000000</td>\n",
       "      <td>0.000000</td>\n",
       "      <td>75070.480000</td>\n",
       "    </tr>\n",
       "  </tbody>\n",
       "</table>\n",
       "</div>"
      ],
      "text/plain": [
       "                           count           mean            std            min  \\\n",
       "id                      121996.0  208327.019984   39113.291882  140679.000000   \n",
       "loja                    121996.0      22.231221      12.785161       1.000000   \n",
       "setor                   121996.0      44.104667      30.461675       1.000000   \n",
       "vendas_semanais         121996.0   63263.672589  198830.111869       1.000000   \n",
       "feriado                 121996.0       0.043780       0.204606       0.000000   \n",
       "tamanho                 121996.0  131427.548174   49646.107299   34875.000000   \n",
       "temperatura             121996.0      15.710478       8.627305     -18.922222   \n",
       "combustivel             121996.0       3.597230       0.223213       2.891000   \n",
       "desemprego              121996.0       0.080727       0.018728       0.044200   \n",
       "distancia_competidores  121996.0  287604.446982   57924.824269    1576.000000   \n",
       "clientes                121996.0     508.952097     290.329394       1.000000   \n",
       "week_of_month           121996.0       2.632258       1.240441       1.000000   \n",
       "month                   121996.0       5.936408       3.056406       1.000000   \n",
       "day                     121996.0      15.250943       8.607031       1.000000   \n",
       "desconto                121996.0     959.171060    5716.262740       0.000000   \n",
       "\n",
       "                                 25%            50%            75%  \\\n",
       "id                      174427.75000  208328.500000  242209.250000   \n",
       "loja                        11.00000      22.000000      33.000000   \n",
       "setor                       18.00000      37.000000      72.000000   \n",
       "vendas_semanais           2284.54000    8310.015000   23730.082500   \n",
       "feriado                      0.00000       0.000000       0.000000   \n",
       "tamanho                 114533.00000  128107.000000  155083.000000   \n",
       "temperatura                 13.70000      15.710478      20.294444   \n",
       "combustivel                  3.56600       3.597230       3.682000   \n",
       "desemprego                   0.07082       0.078520       0.085230   \n",
       "distancia_competidores  300000.00000  300000.000000  300000.000000   \n",
       "clientes                   260.00000     517.000000     761.000000   \n",
       "week_of_month                2.00000       3.000000       4.000000   \n",
       "month                        3.00000       6.000000       9.000000   \n",
       "day                          8.00000      15.000000      22.000000   \n",
       "desconto                     0.00000       0.000000       0.000000   \n",
       "\n",
       "                                  max  \n",
       "id                      276063.000000  \n",
       "loja                        45.000000  \n",
       "setor                       99.000000  \n",
       "vendas_semanais         999967.424022  \n",
       "feriado                      1.000000  \n",
       "tamanho                 219622.000000  \n",
       "temperatura                 37.588889  \n",
       "combustivel                  4.211000  \n",
       "desemprego                   0.140210  \n",
       "distancia_competidores  300000.000000  \n",
       "clientes                   999.000000  \n",
       "week_of_month                5.000000  \n",
       "month                       11.000000  \n",
       "day                         30.000000  \n",
       "desconto                 75070.480000  "
      ]
     },
     "execution_count": 30,
     "metadata": {},
     "output_type": "execute_result"
    }
   ],
   "source": [
    "df3.describe().T"
   ]
  },
  {
   "cell_type": "code",
   "execution_count": 134,
   "id": "b9b40d4e",
   "metadata": {
    "ExecuteTime": {
     "end_time": "2023-12-19T23:01:51.972002Z",
     "start_time": "2023-12-19T23:01:51.164152Z"
    }
   },
   "outputs": [
    {
     "data": {
      "image/png": "[encoded data removed]",
      "text/plain": [
       "<Figure size 864x432 with 1 Axes>"
      ]
     },
     "metadata": {},
     "output_type": "display_data"
    }
   ],
   "source": [
    "# Cria o gráfico\n",
    "fig = plt.figure( figsize = (12, 6))\n",
    "ax  = fig.add_axes([0, 0, 1, 1])\n",
    "\n",
    "# Configura o título e os eixos\n",
    "ax.set_title('Frequência de vendas')\n",
    "ax.set_xlabel('Qtde de vendas')\n",
    "ax.set_ylabel('Frequência')\n",
    "\n",
    "# Plota e mostra o gráfico\n",
    "ax.hist(df3['vendas_semanais'], bins=40, color='darkgrey')\n",
    "\n",
    "plt.show()"
   ]
  },
  {
   "cell_type": "code",
   "execution_count": 32,
   "id": "b1ee5a0b",
   "metadata": {
    "ExecuteTime": {
     "end_time": "2023-12-19T22:00:41.040817Z",
     "start_time": "2023-12-19T22:00:40.561666Z"
    }
   },
   "outputs": [
    {
     "data": {
      "image/png": "[encoded data removed]",
      "text/plain": [
       "<Figure size 1440x432 with 1 Axes>"
      ]
     },
     "metadata": {
      "needs_background": "light"
     },
     "output_type": "display_data"
    }
   ],
   "source": [
    "# Criando o boxplot\n",
    "plt.figure(figsize=(20, 6)) \n",
    "sns.boxplot(x=df3['vendas_semanais'], color='green')\n",
    "plt.title('Boxplot das Vendas Semanais')\n",
    "plt.xlabel('Vendas Semanais')\n",
    "plt.show()"
   ]
  },
  {
   "cell_type": "markdown",
   "id": "65bf2dd5",
   "metadata": {
    "heading_collapsed": true
   },
   "source": [
    "##### 3.1.1.1. Análise de outliers"
   ]
  },
  {
   "cell_type": "code",
   "execution_count": 33,
   "id": "cfa1cf32",
   "metadata": {
    "ExecuteTime": {
     "end_time": "2023-12-19T22:00:41.072085Z",
     "start_time": "2023-12-19T22:00:41.047366Z"
    },
    "hidden": true
   },
   "outputs": [],
   "source": [
    "q1 = df3['vendas_semanais'].quantile(0.25)\n",
    "q3 = df3['vendas_semanais'].quantile(0.75)"
   ]
  },
  {
   "cell_type": "code",
   "execution_count": 34,
   "id": "0ebe63ae",
   "metadata": {
    "ExecuteTime": {
     "end_time": "2023-12-19T22:00:41.103141Z",
     "start_time": "2023-12-19T22:00:41.076091Z"
    },
    "hidden": true
   },
   "outputs": [
    {
     "data": {
      "text/plain": [
       "21445.5425"
      ]
     },
     "execution_count": 34,
     "metadata": {},
     "output_type": "execute_result"
    }
   ],
   "source": [
    "iqr = q3 - q1\n",
    "iqr"
   ]
  },
  {
   "cell_type": "code",
   "execution_count": 35,
   "id": "8e7e83cc",
   "metadata": {
    "ExecuteTime": {
     "end_time": "2023-12-19T22:00:41.118688Z",
     "start_time": "2023-12-19T22:00:41.107144Z"
    },
    "hidden": true
   },
   "outputs": [],
   "source": [
    "limite_superior = q3 + 1.5 * iqr\n",
    "limite_inferior = q1 - 1.5 * iqr"
   ]
  },
  {
   "cell_type": "code",
   "execution_count": 36,
   "id": "6e5acb14",
   "metadata": {
    "ExecuteTime": {
     "end_time": "2023-12-19T22:00:41.151002Z",
     "start_time": "2023-12-19T22:00:41.125242Z"
    },
    "hidden": true
   },
   "outputs": [
    {
     "data": {
      "text/plain": [
       "55898.396250000005"
      ]
     },
     "execution_count": 36,
     "metadata": {},
     "output_type": "execute_result"
    }
   ],
   "source": [
    "limite_superior"
   ]
  },
  {
   "cell_type": "code",
   "execution_count": 37,
   "id": "dd1809f5",
   "metadata": {
    "ExecuteTime": {
     "end_time": "2023-12-19T22:00:41.182080Z",
     "start_time": "2023-12-19T22:00:41.155908Z"
    },
    "hidden": true
   },
   "outputs": [
    {
     "data": {
      "text/plain": [
       "-29883.77375"
      ]
     },
     "execution_count": 37,
     "metadata": {},
     "output_type": "execute_result"
    }
   ],
   "source": [
    "limite_inferior"
   ]
  },
  {
   "cell_type": "code",
   "execution_count": 38,
   "id": "e0f31edb",
   "metadata": {
    "ExecuteTime": {
     "end_time": "2023-12-19T22:00:41.212798Z",
     "start_time": "2023-12-19T22:00:41.188078Z"
    },
    "hidden": true
   },
   "outputs": [
    {
     "data": {
      "text/html": [
       "<div>\n",
       "<style scoped>\n",
       "    .dataframe tbody tr th:only-of-type {\n",
       "        vertical-align: middle;\n",
       "    }\n",
       "\n",
       "    .dataframe tbody tr th {\n",
       "        vertical-align: top;\n",
       "    }\n",
       "\n",
       "    .dataframe thead th {\n",
       "        text-align: right;\n",
       "    }\n",
       "</style>\n",
       "<table border=\"1\" class=\"dataframe\">\n",
       "  <thead>\n",
       "    <tr style=\"text-align: right;\">\n",
       "      <th></th>\n",
       "      <th>id</th>\n",
       "      <th>loja</th>\n",
       "      <th>setor</th>\n",
       "      <th>data</th>\n",
       "      <th>vendas_semanais</th>\n",
       "      <th>feriado</th>\n",
       "      <th>tipo</th>\n",
       "      <th>tamanho</th>\n",
       "      <th>temperatura</th>\n",
       "      <th>combustivel</th>\n",
       "      <th>desemprego</th>\n",
       "      <th>distancia_competidores</th>\n",
       "      <th>clientes</th>\n",
       "      <th>week_of_year</th>\n",
       "      <th>week_of_month</th>\n",
       "      <th>month</th>\n",
       "      <th>day</th>\n",
       "      <th>tipo_de_loja</th>\n",
       "      <th>desconto</th>\n",
       "    </tr>\n",
       "  </thead>\n",
       "  <tbody>\n",
       "  </tbody>\n",
       "</table>\n",
       "</div>"
      ],
      "text/plain": [
       "Empty DataFrame\n",
       "Columns: [id, loja, setor, data, vendas_semanais, feriado, tipo, tamanho, temperatura, combustivel, desemprego, distancia_competidores, clientes, week_of_year, week_of_month, month, day, tipo_de_loja, desconto]\n",
       "Index: []"
      ]
     },
     "execution_count": 38,
     "metadata": {},
     "output_type": "execute_result"
    }
   ],
   "source": [
    "df3.loc[df3['vendas_semanais'] < 0, :]"
   ]
  },
  {
   "cell_type": "markdown",
   "id": "5c8542cb",
   "metadata": {},
   "source": [
    "#### 3.1.2. Tamanho da loja"
   ]
  },
  {
   "cell_type": "code",
   "execution_count": 138,
   "id": "28231a4e",
   "metadata": {
    "ExecuteTime": {
     "end_time": "2023-12-19T23:04:36.740618Z",
     "start_time": "2023-12-19T23:04:35.769594Z"
    }
   },
   "outputs": [
    {
     "data": {
      "image/png": "[encoded data removed]",
      "text/plain": [
       "<Figure size 864x432 with 1 Axes>"
      ]
     },
     "metadata": {},
     "output_type": "display_data"
    }
   ],
   "source": [
    "# Cria o gráfico\n",
    "fig = plt.figure( figsize = (12, 6))\n",
    "ax = fig.add_axes([0, 0, 1, 1])\n",
    "\n",
    "# Configura o título e os eixos\n",
    "ax.set_title('Frequência de tamaho das lojas', fontsize=25)\n",
    "ax.set_xlabel('Tamanhos', fontsize=20)\n",
    "ax.set_ylabel('Frequência', fontsize=20)\n",
    "\n",
    "# Plota e mostra o gráfico\n",
    "ax.hist(df3['tamanho'], bins=100, color='darkgrey')\n",
    "plt.show()"
   ]
  },
  {
   "cell_type": "code",
   "execution_count": 139,
   "id": "5120c243",
   "metadata": {
    "ExecuteTime": {
     "end_time": "2023-12-19T23:05:46.863615Z",
     "start_time": "2023-12-19T23:05:46.151541Z"
    }
   },
   "outputs": [
    {
     "data": {
      "image/png": "[encoded data removed]",
      "text/plain": [
       "<Figure size 1440x432 with 1 Axes>"
      ]
     },
     "metadata": {},
     "output_type": "display_data"
    }
   ],
   "source": [
    "# Criando o boxplot\n",
    "plt.figure(figsize=(20, 6)) \n",
    "sns.boxplot(x=df3['tamanho'], color='green')\n",
    "plt.title('Boxplot dos tamanhos das lojas')\n",
    "plt.show()"
   ]
  },
  {
   "cell_type": "markdown",
   "id": "0e3eedcd",
   "metadata": {
    "heading_collapsed": true
   },
   "source": [
    "### 3.2. Análise bivariada"
   ]
  },
  {
   "cell_type": "markdown",
   "id": "a12060a5",
   "metadata": {
    "heading_collapsed": true,
    "hidden": true
   },
   "source": [
    "#### 3.2.1. Vendas por sazonalidade"
   ]
  },
  {
   "cell_type": "code",
   "execution_count": 41,
   "id": "c9c713eb",
   "metadata": {
    "ExecuteTime": {
     "end_time": "2023-12-19T22:00:44.477632Z",
     "start_time": "2023-12-19T22:00:43.122283Z"
    },
    "hidden": true
   },
   "outputs": [
    {
     "data": {
      "image/png": "[encoded data removed]",
      "text/plain": [
       "<Figure size 1080x432 with 1 Axes>"
      ]
     },
     "metadata": {
      "needs_background": "light"
     },
     "output_type": "display_data"
    }
   ],
   "source": [
    "# Calcula a média da receita para cada semana\n",
    "df_semanal = df3.groupby(['week_of_year', 'month'])['vendas_semanais'].mean().reset_index()\n",
    "\n",
    "# Calcula a soma das vendas_semanais por mês\n",
    "df_soma_mensal = df3.groupby(['month'])['vendas_semanais'].sum().reset_index()\n",
    "\n",
    "# Encontra o mês com o maior total de vendas_semanais\n",
    "mes_maior_venda = df_soma_mensal.loc[df_soma_mensal['vendas_semanais'].idxmax(), 'month']\n",
    "\n",
    "# Encontra o mês com a menor média de vendas_semanais\n",
    "mes_menor_media = df_semanal.groupby('month')['vendas_semanais'].mean().idxmin()\n",
    "\n",
    "# Cria novas colunas indicando se o mês é o mês com as maiores ou menores vendas\n",
    "df_semanal['maior_venda'] = df_semanal['month'] == mes_maior_venda\n",
    "df_semanal['menor_media'] = df_semanal['month'] == mes_menor_media\n",
    "\n",
    "# Plota o gráfico de barras\n",
    "plt.figure(figsize=(15, 6))\n",
    "\n",
    "# Destaca as semanas que representam o início de cada mês\n",
    "cores = df_semanal['month'].map({1: 'black', 2: 'darkgray', 3: 'black', 4: 'darkgray', 5: 'black', 6: 'darkgray', 7: 'black', 8: 'darkgray', 9: 'black', 10: 'darkgray', 11: 'black', 12: 'darkgray'})\n",
    "\n",
    "# Ajusta cores para destacar o mês com a menor média em vermelho\n",
    "cores[df_semanal['menor_media']] = 'red'\n",
    "\n",
    "# Barra principal\n",
    "barra_principal = plt.bar(df_semanal['week_of_year'], df_semanal['vendas_semanais'], color=cores)\n",
    "\n",
    "# Adiciona barras destacadas apenas para o mês com as maiores vendas\n",
    "barra_destacada_maior_venda = plt.bar(df_semanal[df_semanal['maior_venda']]['week_of_year'], df_semanal[df_semanal['maior_venda']]['vendas_semanais'], color='green')\n",
    "\n",
    "# Adiciona barras destacadas apenas para o mês com a menor média\n",
    "barra_destacada_menor_media = plt.bar(df_semanal[df_semanal['menor_media']]['week_of_year'], df_semanal[df_semanal['menor_media']]['vendas_semanais'], color='red')\n",
    "\n",
    "# Cria patches para as legendas\n",
    "patch_green = mpatches.Patch(color='green', label='Mês com maior média de venda')\n",
    "patch_red = mpatches.Patch(color='red', label='Mês com menor média de venda')\n",
    "\n",
    "# Adiciona a legenda\n",
    "plt.legend(handles=[patch_red, patch_green])\n",
    "\n",
    "plt.xlabel('Semana do Ano')\n",
    "plt.ylabel('Receita Média Semanal')\n",
    "plt.title('Receita Média por Semana ao Longo do Ano')\n",
    "plt.xticks(rotation=45)\n",
    "\n",
    "plt.show()"
   ]
  },
  {
   "cell_type": "markdown",
   "id": "9d20da49",
   "metadata": {
    "heading_collapsed": true,
    "hidden": true
   },
   "source": [
    "#### 3.2.2. Vendas por tipo"
   ]
  },
  {
   "cell_type": "code",
   "execution_count": 42,
   "id": "9212671e",
   "metadata": {
    "ExecuteTime": {
     "end_time": "2023-12-19T22:00:44.886571Z",
     "start_time": "2023-12-19T22:00:44.483185Z"
    },
    "hidden": true
   },
   "outputs": [
    {
     "data": {
      "image/png": "[encoded data removed]",
      "text/plain": [
       "<Figure size 1080x432 with 1 Axes>"
      ]
     },
     "metadata": {
      "needs_background": "light"
     },
     "output_type": "display_data"
    }
   ],
   "source": [
    "# Filtra e agrupa\n",
    "aux = df3.groupby('tipo')['vendas_semanais'].sum().reset_index()\n",
    "aux = aux.sort_values('vendas_semanais')\n",
    "\n",
    "# Criação do gráfico de barras horizontais\n",
    "plt.figure(figsize=(15, 6))\n",
    "\n",
    "# Configuração do estilo do Seaborn\n",
    "sns.set(style=\"whitegrid\")\n",
    "\n",
    "# Criação do gráfico de barras\n",
    "ax = sns.barplot(\n",
    "    x='vendas_semanais',\n",
    "    y='tipo',\n",
    "    data=aux.sort_values('vendas_semanais', ascending=False),\n",
    "    ci=None,\n",
    "    color='black'  # Define a cor preta para todas as barras\n",
    ")\n",
    "\n",
    "# Destaca a barra maior\n",
    "max_index = aux['vendas_semanais'].idxmax()\n",
    "ax.patches[max_index].set_facecolor('green')\n",
    "\n",
    "# Adiciona rótulos e título ao gráfico\n",
    "plt.xlabel('Vendas Semanais')\n",
    "plt.ylabel('')\n",
    "plt.title('Vendas Semanais por Tipo')\n",
    "\n",
    "# Adiciona rótulos com os valores no final das barras\n",
    "for i, v in enumerate(aux.sort_values('vendas_semanais', ascending=False).head(10)['vendas_semanais']):\n",
    "    ax.text(v + 2, i, f' $ {v:,.2f}', color='black', ha='left', va='center')\n",
    "    \n",
    "# Remove o frame e os valores do eixo x\n",
    "ax.set_frame_on(False)\n",
    "ax.get_xaxis().set_visible(False)\n",
    "\n",
    "# Exibe o gráfico\n",
    "plt.show()"
   ]
  },
  {
   "cell_type": "markdown",
   "id": "cc627fc9",
   "metadata": {
    "heading_collapsed": true,
    "hidden": true
   },
   "source": [
    "#### 3.2.3. Vendas por setor"
   ]
  },
  {
   "cell_type": "code",
   "execution_count": 43,
   "id": "d17d50f4",
   "metadata": {
    "ExecuteTime": {
     "end_time": "2023-12-19T22:00:45.058361Z",
     "start_time": "2023-12-19T22:00:44.891173Z"
    },
    "hidden": true
   },
   "outputs": [
    {
     "data": {
      "text/html": [
       "<div>\n",
       "<style scoped>\n",
       "    .dataframe tbody tr th:only-of-type {\n",
       "        vertical-align: middle;\n",
       "    }\n",
       "\n",
       "    .dataframe tbody tr th {\n",
       "        vertical-align: top;\n",
       "    }\n",
       "\n",
       "    .dataframe thead th {\n",
       "        text-align: right;\n",
       "    }\n",
       "</style>\n",
       "<table border=\"1\" class=\"dataframe\">\n",
       "  <thead>\n",
       "    <tr style=\"text-align: right;\">\n",
       "      <th></th>\n",
       "      <th>setor</th>\n",
       "      <th>loja</th>\n",
       "      <th>tamanho</th>\n",
       "    </tr>\n",
       "  </thead>\n",
       "  <tbody>\n",
       "    <tr>\n",
       "      <th>0</th>\n",
       "      <td>1</td>\n",
       "      <td>[17, 12, 3, 42, 26, 5, 34, 21, 2, 41, 9, 10, 1...</td>\n",
       "      <td>45</td>\n",
       "    </tr>\n",
       "    <tr>\n",
       "      <th>75</th>\n",
       "      <td>95</td>\n",
       "      <td>[17, 12, 3, 42, 26, 5, 34, 21, 2, 41, 9, 10, 1...</td>\n",
       "      <td>45</td>\n",
       "    </tr>\n",
       "    <tr>\n",
       "      <th>72</th>\n",
       "      <td>92</td>\n",
       "      <td>[17, 12, 3, 42, 26, 5, 34, 21, 2, 41, 9, 10, 1...</td>\n",
       "      <td>45</td>\n",
       "    </tr>\n",
       "    <tr>\n",
       "      <th>37</th>\n",
       "      <td>40</td>\n",
       "      <td>[17, 12, 3, 42, 26, 5, 34, 21, 2, 41, 9, 10, 1...</td>\n",
       "      <td>45</td>\n",
       "    </tr>\n",
       "    <tr>\n",
       "      <th>39</th>\n",
       "      <td>42</td>\n",
       "      <td>[17, 12, 3, 42, 26, 5, 34, 21, 2, 41, 9, 10, 1...</td>\n",
       "      <td>45</td>\n",
       "    </tr>\n",
       "    <tr>\n",
       "      <th>...</th>\n",
       "      <td>...</td>\n",
       "      <td>...</td>\n",
       "      <td>...</td>\n",
       "    </tr>\n",
       "    <tr>\n",
       "      <th>62</th>\n",
       "      <td>78</td>\n",
       "      <td>[17, 12, 2, 15, 23, 16, 45, 8, 27, 13, 1, 28, ...</td>\n",
       "      <td>15</td>\n",
       "    </tr>\n",
       "    <tr>\n",
       "      <th>47</th>\n",
       "      <td>50</td>\n",
       "      <td>[26, 10, 15, 23, 27, 13, 20, 18, 19, 24, 25, 1...</td>\n",
       "      <td>13</td>\n",
       "    </tr>\n",
       "    <tr>\n",
       "      <th>61</th>\n",
       "      <td>77</td>\n",
       "      <td>[17, 3, 15]</td>\n",
       "      <td>3</td>\n",
       "    </tr>\n",
       "    <tr>\n",
       "      <th>56</th>\n",
       "      <td>65</td>\n",
       "      <td>[34]</td>\n",
       "      <td>1</td>\n",
       "    </tr>\n",
       "    <tr>\n",
       "      <th>40</th>\n",
       "      <td>43</td>\n",
       "      <td>[15]</td>\n",
       "      <td>1</td>\n",
       "    </tr>\n",
       "  </tbody>\n",
       "</table>\n",
       "<p>80 rows × 3 columns</p>\n",
       "</div>"
      ],
      "text/plain": [
       "    setor                                               loja  tamanho\n",
       "0       1  [17, 12, 3, 42, 26, 5, 34, 21, 2, 41, 9, 10, 1...       45\n",
       "75     95  [17, 12, 3, 42, 26, 5, 34, 21, 2, 41, 9, 10, 1...       45\n",
       "72     92  [17, 12, 3, 42, 26, 5, 34, 21, 2, 41, 9, 10, 1...       45\n",
       "37     40  [17, 12, 3, 42, 26, 5, 34, 21, 2, 41, 9, 10, 1...       45\n",
       "39     42  [17, 12, 3, 42, 26, 5, 34, 21, 2, 41, 9, 10, 1...       45\n",
       "..    ...                                                ...      ...\n",
       "62     78  [17, 12, 2, 15, 23, 16, 45, 8, 27, 13, 1, 28, ...       15\n",
       "47     50  [26, 10, 15, 23, 27, 13, 20, 18, 19, 24, 25, 1...       13\n",
       "61     77                                        [17, 3, 15]        3\n",
       "56     65                                               [34]        1\n",
       "40     43                                               [15]        1\n",
       "\n",
       "[80 rows x 3 columns]"
      ]
     },
     "execution_count": 43,
     "metadata": {},
     "output_type": "execute_result"
    }
   ],
   "source": [
    "# Os setores 65 e 43 só existem nas lojas 34 e 15\n",
    "# Setores únicos por loja\n",
    "loja_por_setor = df3.groupby('setor')['loja'].unique().reset_index()\n",
    "loja_por_setor['tamanho'] = loja_por_setor['loja'].apply(lambda x: len(x))\n",
    "\n",
    "loja_por_setor = loja_por_setor.sort_values(by='tamanho', ascending=False)\n",
    "loja_por_setor"
   ]
  },
  {
   "cell_type": "code",
   "execution_count": 44,
   "id": "2c970bca",
   "metadata": {
    "ExecuteTime": {
     "end_time": "2023-12-19T22:00:47.214501Z",
     "start_time": "2023-12-19T22:00:45.063673Z"
    },
    "hidden": true
   },
   "outputs": [
    {
     "data": {
      "image/png": "[encoded data removed]",
      "text/plain": [
       "<Figure size 1080x1584 with 1 Axes>"
      ]
     },
     "metadata": {},
     "output_type": "display_data"
    }
   ],
   "source": [
    "# Filtra e agrupa\n",
    "aux = df3.groupby('setor')['vendas_semanais'].sum().reset_index()\n",
    "aux = aux.sort_values('vendas_semanais')\n",
    "\n",
    "# Convertendo 'setor' para texto\n",
    "aux['setor'] = aux['setor'].astype(str)\n",
    "\n",
    "# Calcula a média das vendas\n",
    "# media_vendas = aux['vendas_semanais'].mean()\n",
    "\n",
    "# Configuração estética opcional\n",
    "sns.set(style=\"white\")\n",
    "\n",
    "# Criação do gráfico de barras horizontais\n",
    "plt.figure(figsize=(15, 22))\n",
    "ax = sns.barplot(\n",
    "     x='vendas_semanais', \n",
    "     y='setor', \n",
    "     data=aux.sort_values('vendas_semanais', ascending=False), \n",
    "     ci=None, \n",
    "     palette=['green' if i < 3 else 'black' for i in range(len(aux))]\n",
    "#    palette=['green' if valor > media_vendas else 'black' for valor in aux['vendas_semanais']]\n",
    ")\n",
    "\n",
    "# Adiciona rótulos e título ao gráfico\n",
    "plt.xlabel('Vendas Semanais')\n",
    "plt.ylabel('Setor')\n",
    "plt.title('Vendas Semanais por Setor (Top 3)')\n",
    "\n",
    "# Adiciona rótulos com os valores no final das barras\n",
    "for i, v in enumerate(aux.sort_values('vendas_semanais', ascending=False).head(10)['vendas_semanais']):\n",
    "    ax.text(v + 2, i, f' $ {v:,.2f}', color='black', ha='left', va='center')\n",
    "\n",
    "# Remove o frame e os valores do eixo x\n",
    "ax.set_frame_on(False)\n",
    "ax.get_xaxis().set_visible(False)    \n",
    "\n",
    "# Exibe o gráfico\n",
    "plt.show()"
   ]
  },
  {
   "cell_type": "markdown",
   "id": "0d179b42",
   "metadata": {
    "heading_collapsed": true,
    "hidden": true
   },
   "source": [
    "#### 3.2.4. Vendas por desconto"
   ]
  },
  {
   "cell_type": "code",
   "execution_count": 45,
   "id": "2cdfbc5b",
   "metadata": {
    "ExecuteTime": {
     "end_time": "2023-12-19T22:00:47.309101Z",
     "start_time": "2023-12-19T22:00:47.221536Z"
    },
    "hidden": true
   },
   "outputs": [
    {
     "data": {
      "text/html": [
       "<div>\n",
       "<style scoped>\n",
       "    .dataframe tbody tr th:only-of-type {\n",
       "        vertical-align: middle;\n",
       "    }\n",
       "\n",
       "    .dataframe tbody tr th {\n",
       "        vertical-align: top;\n",
       "    }\n",
       "\n",
       "    .dataframe thead th {\n",
       "        text-align: right;\n",
       "    }\n",
       "</style>\n",
       "<table border=\"1\" class=\"dataframe\">\n",
       "  <thead>\n",
       "    <tr style=\"text-align: right;\">\n",
       "      <th></th>\n",
       "      <th>desconto</th>\n",
       "      <th>vendas_semanais</th>\n",
       "    </tr>\n",
       "  </thead>\n",
       "  <tbody>\n",
       "    <tr>\n",
       "      <th>0</th>\n",
       "      <td>0.00</td>\n",
       "      <td>63480.782438</td>\n",
       "    </tr>\n",
       "    <tr>\n",
       "      <th>1</th>\n",
       "      <td>603.48</td>\n",
       "      <td>55890.006910</td>\n",
       "    </tr>\n",
       "    <tr>\n",
       "      <th>2</th>\n",
       "      <td>979.35</td>\n",
       "      <td>62421.596967</td>\n",
       "    </tr>\n",
       "    <tr>\n",
       "      <th>3</th>\n",
       "      <td>1042.10</td>\n",
       "      <td>95746.232995</td>\n",
       "    </tr>\n",
       "    <tr>\n",
       "      <th>4</th>\n",
       "      <td>1055.91</td>\n",
       "      <td>42144.793221</td>\n",
       "    </tr>\n",
       "    <tr>\n",
       "      <th>...</th>\n",
       "      <td>...</td>\n",
       "      <td>...</td>\n",
       "    </tr>\n",
       "    <tr>\n",
       "      <th>86</th>\n",
       "      <td>59076.80</td>\n",
       "      <td>85295.918882</td>\n",
       "    </tr>\n",
       "    <tr>\n",
       "      <th>87</th>\n",
       "      <td>61628.71</td>\n",
       "      <td>70495.290693</td>\n",
       "    </tr>\n",
       "    <tr>\n",
       "      <th>88</th>\n",
       "      <td>64363.19</td>\n",
       "      <td>40554.899389</td>\n",
       "    </tr>\n",
       "    <tr>\n",
       "      <th>89</th>\n",
       "      <td>66157.93</td>\n",
       "      <td>47124.945089</td>\n",
       "    </tr>\n",
       "    <tr>\n",
       "      <th>90</th>\n",
       "      <td>75070.48</td>\n",
       "      <td>63271.425516</td>\n",
       "    </tr>\n",
       "  </tbody>\n",
       "</table>\n",
       "<p>91 rows × 2 columns</p>\n",
       "</div>"
      ],
      "text/plain": [
       "    desconto  vendas_semanais\n",
       "0       0.00     63480.782438\n",
       "1     603.48     55890.006910\n",
       "2     979.35     62421.596967\n",
       "3    1042.10     95746.232995\n",
       "4    1055.91     42144.793221\n",
       "..       ...              ...\n",
       "86  59076.80     85295.918882\n",
       "87  61628.71     70495.290693\n",
       "88  64363.19     40554.899389\n",
       "89  66157.93     47124.945089\n",
       "90  75070.48     63271.425516\n",
       "\n",
       "[91 rows x 2 columns]"
      ]
     },
     "execution_count": 45,
     "metadata": {},
     "output_type": "execute_result"
    }
   ],
   "source": [
    "# Filtra e agrupa\n",
    "aux = df3.groupby('desconto')['vendas_semanais'].mean().reset_index()\n",
    "aux"
   ]
  },
  {
   "cell_type": "markdown",
   "id": "925651cc",
   "metadata": {
    "heading_collapsed": true
   },
   "source": [
    "### 3.3. Análise Multivariada"
   ]
  },
  {
   "cell_type": "markdown",
   "id": "63619a99",
   "metadata": {
    "heading_collapsed": true,
    "hidden": true
   },
   "source": [
    "#### 3.3.1. Profile"
   ]
  },
  {
   "cell_type": "code",
   "execution_count": 46,
   "id": "373c35a2",
   "metadata": {
    "ExecuteTime": {
     "end_time": "2023-12-19T22:00:47.325095Z",
     "start_time": "2023-12-19T22:00:47.316099Z"
    },
    "hidden": true
   },
   "outputs": [],
   "source": [
    "#profile = ydata_profiling.ProfileReport(df3, minimal=False)\n",
    "\n",
    "#profile = df3.profile_report(\n",
    "#    correlations={\n",
    "#        \"pearson\": {\"calculate\": True},\n",
    "#        \"spearman\": {\"calculate\": True},\n",
    "#        \"kendall\": {\"calculate\": True},\n",
    "#        \"cramers\": {\"calculate\": True},\n",
    "#        \"phi_k\": {\"calculate\": False},\n",
    "#    },)"
   ]
  },
  {
   "cell_type": "code",
   "execution_count": 47,
   "id": "90af28ff",
   "metadata": {
    "ExecuteTime": {
     "end_time": "2023-12-19T22:00:47.356095Z",
     "start_time": "2023-12-19T22:00:47.332096Z"
    },
    "hidden": true
   },
   "outputs": [],
   "source": [
    "#profile"
   ]
  },
  {
   "cell_type": "markdown",
   "id": "d5e14dbc",
   "metadata": {
    "heading_collapsed": true,
    "hidden": true
   },
   "source": [
    "#### 3.3.2. HeatMap"
   ]
  },
  {
   "cell_type": "code",
   "execution_count": null,
   "id": "48108280",
   "metadata": {
    "ExecuteTime": {
     "end_time": "2023-12-16T16:40:35.911907Z",
     "start_time": "2023-12-16T16:40:35.893821Z"
    },
    "hidden": true
   },
   "outputs": [],
   "source": []
  },
  {
   "cell_type": "code",
   "execution_count": 48,
   "id": "5ff3f8e5",
   "metadata": {
    "ExecuteTime": {
     "end_time": "2023-12-19T22:00:50.215505Z",
     "start_time": "2023-12-19T22:00:47.363096Z"
    },
    "hidden": true
   },
   "outputs": [
    {
     "name": "stderr",
     "output_type": "stream",
     "text": [
      "C:\\Users\\paula\\AppData\\Local\\Temp\\ipykernel_12648\\1603569551.py:7: UserWarning: FixedFormatter should only be used together with FixedLocator\n",
      "  ax.set_xticklabels(ax.get_xticklabels(), fontsize=15)\n",
      "C:\\Users\\paula\\AppData\\Local\\Temp\\ipykernel_12648\\1603569551.py:8: UserWarning: FixedFormatter should only be used together with FixedLocator\n",
      "  ax.set_yticklabels(ax.get_yticklabels(), fontsize=15)\n"
     ]
    },
    {
     "data": {
      "image/png": "[encoded data removed]",
      "text/plain": [
       "<Figure size 1152x792 with 2 Axes>"
      ]
     },
     "metadata": {},
     "output_type": "display_data"
    }
   ],
   "source": [
    "# Criar o mapa de calor\n",
    "corr = df3.corr(method='pearson')\n",
    "fig, ax = plt.subplots(figsize=(16, 11))\n",
    "\n",
    "# Configura o título e os eixos\n",
    "ax.set_title('Mapa de calor', fontsize=25)\n",
    "ax.set_xticklabels(ax.get_xticklabels(), fontsize=15)\n",
    "ax.set_yticklabels(ax.get_yticklabels(), fontsize=15)\n",
    "\n",
    "# Plota e mostra o gráfico\n",
    "ax = sns.heatmap(corr, annot=True, cmap='Reds', ax=ax)\n",
    "plt.show()"
   ]
  },
  {
   "cell_type": "markdown",
   "id": "ee4df390",
   "metadata": {
    "heading_collapsed": true
   },
   "source": [
    "# III. Preparação dos dados"
   ]
  },
  {
   "cell_type": "markdown",
   "id": "09f5b386",
   "metadata": {
    "heading_collapsed": true,
    "hidden": true
   },
   "source": [
    "## 4. DATA PREPARATION"
   ]
  },
  {
   "cell_type": "code",
   "execution_count": 49,
   "id": "319cac62",
   "metadata": {
    "ExecuteTime": {
     "end_time": "2023-12-19T22:00:50.326063Z",
     "start_time": "2023-12-19T22:00:50.221511Z"
    },
    "hidden": true
   },
   "outputs": [
    {
     "data": {
      "text/plain": [
       "Index(['id', 'loja', 'setor', 'data', 'vendas_semanais', 'feriado', 'tipo',\n",
       "       'tamanho', 'temperatura', 'combustivel', 'desemprego',\n",
       "       'distancia_competidores', 'clientes', 'week_of_year', 'week_of_month',\n",
       "       'month', 'day', 'tipo_de_loja', 'desconto'],\n",
       "      dtype='object')"
      ]
     },
     "execution_count": 49,
     "metadata": {},
     "output_type": "execute_result"
    }
   ],
   "source": [
    "df4 = df3.copy()\n",
    "df4['week_of_year'] = df4['week_of_year'].astype(int)\n",
    "df4.columns"
   ]
  },
  {
   "cell_type": "markdown",
   "id": "cb162d5e",
   "metadata": {
    "heading_collapsed": true,
    "hidden": true
   },
   "source": [
    "### 4.1 Rescala de Variáveis Numéricas"
   ]
  },
  {
   "cell_type": "code",
   "execution_count": 50,
   "id": "54e2dcf9",
   "metadata": {
    "ExecuteTime": {
     "end_time": "2023-12-19T22:00:50.499636Z",
     "start_time": "2023-12-19T22:00:50.335077Z"
    },
    "hidden": true
   },
   "outputs": [],
   "source": [
    "mm = pp.MinMaxScaler()   # Mantem a mesma distribuição, com outro shape, e colocando de 0 a 1\n",
    "ss = pp.StandardScaler() # Rescala os dados\n",
    "rs = pp.RobustScaler()\n",
    "\n",
    "df4['tamanho']      = ss.fit_transform(df4[['tamanho']])\n",
    "df4['temperatura']  = ss.fit_transform(df4[['temperatura']])\n",
    "\n",
    "df4['desconto']     = mm.fit_transform(df4[['desconto']])\n",
    "df4['week_of_year'] = mm.fit_transform(df4[['week_of_year']])\n",
    "df4['clientes']     = mm.fit_transform(df4[['clientes']])\n",
    "\n",
    "df4['distancia_competidores'] = rs.fit_transform(df4[['distancia_competidores']])"
   ]
  },
  {
   "cell_type": "markdown",
   "id": "63255a3d",
   "metadata": {
    "heading_collapsed": true,
    "hidden": true
   },
   "source": [
    "### 4.2 Encodar Variáveis Categóricas"
   ]
  },
  {
   "cell_type": "code",
   "execution_count": 51,
   "id": "fe0de903",
   "metadata": {
    "ExecuteTime": {
     "end_time": "2023-12-19T22:00:52.867924Z",
     "start_time": "2023-12-19T22:00:50.503641Z"
    },
    "hidden": true
   },
   "outputs": [],
   "source": [
    "#'feriado' - One Hot Encoding\n",
    "df4 = pd.get_dummies(df4,prefix=['feriado'],dtype='int64',columns=['feriado'])\n",
    "\n",
    "#'tipo' - Label Encoding\n",
    "le = pp.LabelEncoder()\n",
    "df4['tipo'] = le.fit_transform(df4['tipo'])\n",
    "\n",
    "#'tipo_de_loja' - One Hot Encoding\n",
    "df4 = pd.get_dummies(df4,prefix=['tipo_de_loja'],dtype='int64',columns=['tipo_de_loja'])\n",
    "\n",
    "# Encoding para week_of_month\n",
    "df4['week_of_month_sin'] = df4['week_of_month'].apply(lambda x: np.sin(x * (2 * np.pi / 4))) \n",
    "df4['week_of_month_cos'] = df4['week_of_month'].apply(lambda x: np.cos(x * (2 * np.pi / 4)))\n",
    "df4 = df4.drop(['week_of_month'],axis=1)\n",
    "\n",
    "# Encoding para day\n",
    "df4['day_sin'] = df4['day'].apply(lambda x: np.sin(x * (2 * np.pi / 30))) \n",
    "df4['day_cos'] = df4['day'].apply(lambda x: np.cos(x * (2 * np.pi / 30)))\n",
    "df4 = df4.drop(['day'],axis=1)"
   ]
  },
  {
   "cell_type": "markdown",
   "id": "8b964cfb",
   "metadata": {
    "heading_collapsed": true,
    "hidden": true
   },
   "source": [
    "### 4.3 Normalização do Fenômeno"
   ]
  },
  {
   "cell_type": "code",
   "execution_count": 52,
   "id": "d1306c15",
   "metadata": {
    "ExecuteTime": {
     "end_time": "2023-12-19T22:00:52.916028Z",
     "start_time": "2023-12-19T22:00:52.872974Z"
    },
    "hidden": true
   },
   "outputs": [],
   "source": [
    "df4['vendas_semanais'] = np.log1p(df4['vendas_semanais'])"
   ]
  },
  {
   "cell_type": "code",
   "execution_count": 53,
   "id": "8b6b56f9",
   "metadata": {
    "ExecuteTime": {
     "end_time": "2023-12-19T22:00:52.948036Z",
     "start_time": "2023-12-19T22:00:52.920037Z"
    },
    "hidden": true
   },
   "outputs": [
    {
     "data": {
      "text/plain": [
       "count    121996.000000\n",
       "mean          8.788319\n",
       "std           2.277845\n",
       "min           0.693147\n",
       "25%           7.734358\n",
       "50%           9.025337\n",
       "75%          10.074541\n",
       "max          13.815479\n",
       "Name: vendas_semanais, dtype: float64"
      ]
     },
     "execution_count": 53,
     "metadata": {},
     "output_type": "execute_result"
    }
   ],
   "source": [
    "df4['vendas_semanais'].describe()"
   ]
  },
  {
   "cell_type": "markdown",
   "id": "67ccbe11",
   "metadata": {
    "heading_collapsed": true,
    "hidden": true
   },
   "source": [
    "## 5. FEATURE SELECTION"
   ]
  },
  {
   "cell_type": "code",
   "execution_count": 54,
   "id": "1d28b2e8",
   "metadata": {
    "ExecuteTime": {
     "end_time": "2023-12-19T22:00:52.996123Z",
     "start_time": "2023-12-19T22:00:52.954050Z"
    },
    "hidden": true
   },
   "outputs": [],
   "source": [
    "df5 = df4.copy()"
   ]
  },
  {
   "cell_type": "code",
   "execution_count": 55,
   "id": "36732c64",
   "metadata": {
    "ExecuteTime": {
     "end_time": "2023-12-19T22:00:53.042691Z",
     "start_time": "2023-12-19T22:00:53.000121Z"
    },
    "hidden": true
   },
   "outputs": [],
   "source": [
    "x_train_n = df5.drop(['id', 'vendas_semanais', 'data'], axis=1)\n",
    "y_train_n = df5['vendas_semanais']"
   ]
  },
  {
   "cell_type": "markdown",
   "id": "77871eee",
   "metadata": {
    "heading_collapsed": true,
    "hidden": true
   },
   "source": [
    "### 5.1. Feature Importance"
   ]
  },
  {
   "cell_type": "code",
   "execution_count": 56,
   "id": "2917f1ae",
   "metadata": {
    "ExecuteTime": {
     "end_time": "2023-12-19T22:01:07.626332Z",
     "start_time": "2023-12-19T22:00:53.047701Z"
    },
    "hidden": true
   },
   "outputs": [
    {
     "data": {
      "text/plain": [
       "ExtraTreesRegressor(n_jobs=-1, random_state=0)"
      ]
     },
     "execution_count": 56,
     "metadata": {},
     "output_type": "execute_result"
    }
   ],
   "source": [
    "# Model definition\n",
    "forest = en.ExtraTreesRegressor(n_estimators=100, random_state=0, n_jobs=-1)\n",
    "forest.fit(x_train_n, y_train_n)"
   ]
  },
  {
   "cell_type": "code",
   "execution_count": 57,
   "id": "58fc46f8",
   "metadata": {
    "ExecuteTime": {
     "end_time": "2023-12-19T22:01:09.258326Z",
     "start_time": "2023-12-19T22:01:07.632334Z"
    },
    "hidden": true
   },
   "outputs": [
    {
     "name": "stdout",
     "output_type": "stream",
     "text": [
      "Feature Ranking\n",
      "                  feature  importance\n",
      "0                   setor    0.549072\n",
      "0                 tamanho    0.049808\n",
      "0                    tipo    0.048196\n",
      "0                clientes    0.039146\n",
      "0             temperatura    0.038042\n",
      "0                    loja    0.035729\n",
      "0             combustivel    0.034871\n",
      "0              desemprego    0.033885\n",
      "0            week_of_year    0.032879\n",
      "0                   month    0.029254\n",
      "0                 day_sin    0.026516\n",
      "0                 day_cos    0.025797\n",
      "0       week_of_month_sin    0.014257\n",
      "0          tipo_de_loja_A    0.013916\n",
      "0       week_of_month_cos    0.013824\n",
      "0                desconto    0.002909\n",
      "0  distancia_competidores    0.002765\n",
      "0          tipo_de_loja_B    0.002500\n",
      "0               feriado_1    0.002440\n",
      "0               feriado_0    0.002432\n",
      "0          tipo_de_loja_C    0.001762\n"
     ]
    },
    {
     "data": {
      "image/png": "[encoded data removed]",
      "text/plain": [
       "<Figure size 432x288 with 1 Axes>"
      ]
     },
     "metadata": {},
     "output_type": "display_data"
    }
   ],
   "source": [
    "importances = forest.feature_importances_      # Salva as importâncias das features\n",
    "std = np.std([tree.feature_importances_ for tree in forest.estimators_],axis=0)\n",
    "indices = np.argsort(importances)[::-1]        # Importâncias das árvores ordenadas pelo maior valor\n",
    "\n",
    "#print the feature ranking\n",
    "print('Feature Ranking')\n",
    "df = pd.DataFrame()\n",
    "for i,j in zip(x_train_n,forest.feature_importances_):\n",
    "    aux = pd.DataFrame({'feature': i, 'importance': j},index=[0])\n",
    "    df = pd.concat([df,aux],axis=0)\n",
    "    \n",
    "print(df.sort_values('importance',ascending=False))\n",
    "\n",
    "# Plot the impurity-based feature importances of the forest\n",
    "plt.figure()\n",
    "plt.title('Feature Importances')\n",
    "plt.bar(range(x_train_n.shape[1]),importances[indices],color='r',yerr=std[indices],align='center')\n",
    "plt.xticks(range(x_train_n.shape[1]),indices)\n",
    "plt.xlim([-1,x_train_n.shape[1]])\n",
    "plt.show()"
   ]
  },
  {
   "cell_type": "markdown",
   "id": "292ef5c5",
   "metadata": {
    "heading_collapsed": true,
    "hidden": true
   },
   "source": [
    "### 5.2. Definir o período de datas"
   ]
  },
  {
   "cell_type": "code",
   "execution_count": 58,
   "id": "4a12d85c",
   "metadata": {
    "ExecuteTime": {
     "end_time": "2023-12-19T22:01:09.290313Z",
     "start_time": "2023-12-19T22:01:09.264324Z"
    },
    "hidden": true
   },
   "outputs": [
    {
     "name": "stdout",
     "output_type": "stream",
     "text": [
      "A data limite é: 2023-09-16\n"
     ]
    }
   ],
   "source": [
    "# Definir as datas\n",
    "data_inicial = datetime.strptime('2023-01-07', '%Y-%m-%d')\n",
    "data_final   = datetime.strptime('2023-11-18', '%Y-%m-%d')\n",
    "\n",
    "# Calcular a diferença em dias\n",
    "diferenca_dias = (data_final - data_inicial).days\n",
    "\n",
    "# Calcular 80% da diferença em dias\n",
    "dias_limite = diferenca_dias * 0.8\n",
    "\n",
    "# Somar a data inicial com os dias limite\n",
    "data_limite = data_inicial + timedelta(days=dias_limite)\n",
    "\n",
    "# Exibir a data limite\n",
    "print(f'A data limite é: {data_limite.strftime(\"%Y-%m-%d\")}')"
   ]
  },
  {
   "cell_type": "code",
   "execution_count": 59,
   "id": "ddfae548",
   "metadata": {
    "ExecuteTime": {
     "end_time": "2023-12-19T22:01:09.383922Z",
     "start_time": "2023-12-19T22:01:09.299326Z"
    },
    "hidden": true
   },
   "outputs": [
    {
     "name": "stdout",
     "output_type": "stream",
     "text": [
      "Limites do X_train: 2023-01-07 00:00:00 - 2023-09-09 00:00:00\n",
      "Limites do X_test: 2023-09-16 00:00:00 - 2023-11-18 00:00:00\n"
     ]
    }
   ],
   "source": [
    "# Definir os limites de datas\n",
    "limite_data_teste = '2023-09-16'\n",
    "\n",
    "# Definir o dataset de treino\n",
    "X_train_full_FUll = df5.copy()\n",
    "Y_train_full      = X_train_full_FUll['vendas_semanais']\n",
    "\n",
    "# Definir o dataset de treino\n",
    "X_train_full      = df5[df5['data'] < limite_data_teste]\n",
    "Y_train           = X_train_full['vendas_semanais']\n",
    "\n",
    "# Definir o dataset de teste\n",
    "X_test_full       = df5[df5['data'] >= limite_data_teste]\n",
    "Y_test            = X_test_full['vendas_semanais']\n",
    "\n",
    "# Exibir os limites de datas\n",
    "min_xtrain        = X_train_full['data'].min()\n",
    "max_xtrain        = X_train_full['data'].max()\n",
    "\n",
    "min_xtest         = X_test_full['data'].min()\n",
    "max_xtest         = X_test_full['data'].max()\n",
    "\n",
    "print(f'Limites do X_train: {min_xtrain} - {max_xtrain}')\n",
    "print(f'Limites do X_test: {min_xtest} - {max_xtest}')"
   ]
  },
  {
   "cell_type": "markdown",
   "id": "454f8f1e",
   "metadata": {
    "heading_collapsed": true
   },
   "source": [
    "# IV. Modelagem"
   ]
  },
  {
   "cell_type": "markdown",
   "id": "e7da9870",
   "metadata": {
    "heading_collapsed": true,
    "hidden": true
   },
   "source": [
    "## 6. MACHINE LEARNING MODELING"
   ]
  },
  {
   "cell_type": "code",
   "execution_count": 61,
   "id": "f84b7e03",
   "metadata": {
    "ExecuteTime": {
     "end_time": "2023-12-19T22:02:53.467455Z",
     "start_time": "2023-12-19T22:02:53.420873Z"
    },
    "hidden": true
   },
   "outputs": [],
   "source": [
    "X_train = X_train_full.drop(['id', 'vendas_semanais', 'data'], axis=1)\n",
    "X_test  = X_test_full.drop(['id', 'vendas_semanais', 'data'], axis=1)"
   ]
  },
  {
   "cell_type": "markdown",
   "id": "6ed53368",
   "metadata": {
    "heading_collapsed": true,
    "hidden": true
   },
   "source": [
    "### 6.1. Treinar, testar e medir"
   ]
  },
  {
   "cell_type": "markdown",
   "id": "447ce970",
   "metadata": {
    "heading_collapsed": true,
    "hidden": true
   },
   "source": [
    "#### 6.1.1 Linear Regression"
   ]
  },
  {
   "cell_type": "code",
   "execution_count": 64,
   "id": "26f2a17c",
   "metadata": {
    "ExecuteTime": {
     "end_time": "2023-12-19T22:10:26.877856Z",
     "start_time": "2023-12-19T22:10:26.687765Z"
    },
    "hidden": true
   },
   "outputs": [
    {
     "name": "stdout",
     "output_type": "stream",
     "text": [
      "Root Mean Squared Error (RMSE): 202273.69256440614\n",
      "CPU times: total: 203 ms\n",
      "Wall time: 165 ms\n"
     ]
    }
   ],
   "source": [
    "%%time\n",
    "# Criar uma instância do modelo de regressão linear\n",
    "modelo_regressao = LinearRegression()\n",
    "\n",
    "# Treinar o modelo com os dados de treinamento\n",
    "modelo_regressao.fit(X_train, Y_train)\n",
    "\n",
    "# Fazer previsões no conjunto de teste\n",
    "y_pred_lr = modelo_regressao.predict(X_test)\n",
    "\n",
    "# Calcular o RMSE\n",
    "rmse = np.sqrt(mean_squared_error(np.expm1(Y_test), np.expm1(y_pred_lr)))\n",
    "print(f\"Root Mean Squared Error (RMSE): {rmse}\")"
   ]
  },
  {
   "cell_type": "code",
   "execution_count": 68,
   "id": "b6c6aa37",
   "metadata": {
    "ExecuteTime": {
     "end_time": "2023-12-19T22:12:14.074187Z",
     "start_time": "2023-12-19T22:12:14.021633Z"
    },
    "hidden": true
   },
   "outputs": [
    {
     "data": {
      "text/html": [
       "<div>\n",
       "<style scoped>\n",
       "    .dataframe tbody tr th:only-of-type {\n",
       "        vertical-align: middle;\n",
       "    }\n",
       "\n",
       "    .dataframe tbody tr th {\n",
       "        vertical-align: top;\n",
       "    }\n",
       "\n",
       "    .dataframe thead th {\n",
       "        text-align: right;\n",
       "    }\n",
       "</style>\n",
       "<table border=\"1\" class=\"dataframe\">\n",
       "  <thead>\n",
       "    <tr style=\"text-align: right;\">\n",
       "      <th></th>\n",
       "      <th>Model Name</th>\n",
       "      <th>MAE</th>\n",
       "      <th>MAPE</th>\n",
       "      <th>MSE</th>\n",
       "      <th>RMSE</th>\n",
       "      <th>R2</th>\n",
       "    </tr>\n",
       "  </thead>\n",
       "  <tbody>\n",
       "    <tr>\n",
       "      <th>0</th>\n",
       "      <td>Linear Regression</td>\n",
       "      <td>58275.683623</td>\n",
       "      <td>21.020743</td>\n",
       "      <td>4.091465e+10</td>\n",
       "      <td>202273.692564</td>\n",
       "      <td>-0.074016</td>\n",
       "    </tr>\n",
       "  </tbody>\n",
       "</table>\n",
       "</div>"
      ],
      "text/plain": [
       "          Model Name           MAE       MAPE           MSE           RMSE  \\\n",
       "0  Linear Regression  58275.683623  21.020743  4.091465e+10  202273.692564   \n",
       "\n",
       "         R2  \n",
       "0 -0.074016  "
      ]
     },
     "execution_count": 68,
     "metadata": {},
     "output_type": "execute_result"
    }
   ],
   "source": [
    "# Performance\n",
    "lr_result = ml_error('Linear Regression', np.expm1(Y_test), np.expm1(y_pred_lr))\n",
    "lr_result"
   ]
  },
  {
   "cell_type": "code",
   "execution_count": 69,
   "id": "85c2c2e1",
   "metadata": {
    "ExecuteTime": {
     "end_time": "2023-12-19T22:12:27.137704Z",
     "start_time": "2023-12-19T22:12:26.505260Z"
    },
    "hidden": true
   },
   "outputs": [
    {
     "name": "stdout",
     "output_type": "stream",
     "text": [
      "K = 5\n",
      "K = 4\n",
      "K = 3\n",
      "K = 2\n",
      "K = 1\n"
     ]
    },
    {
     "data": {
      "text/html": [
       "<div>\n",
       "<style scoped>\n",
       "    .dataframe tbody tr th:only-of-type {\n",
       "        vertical-align: middle;\n",
       "    }\n",
       "\n",
       "    .dataframe tbody tr th {\n",
       "        vertical-align: top;\n",
       "    }\n",
       "\n",
       "    .dataframe thead th {\n",
       "        text-align: right;\n",
       "    }\n",
       "</style>\n",
       "<table border=\"1\" class=\"dataframe\">\n",
       "  <thead>\n",
       "    <tr style=\"text-align: right;\">\n",
       "      <th></th>\n",
       "      <th>Model Name</th>\n",
       "      <th>RSME CV</th>\n",
       "    </tr>\n",
       "  </thead>\n",
       "  <tbody>\n",
       "    <tr>\n",
       "      <th>0</th>\n",
       "      <td>Linear Regression</td>\n",
       "      <td>208397.91 +/- 1253.01</td>\n",
       "    </tr>\n",
       "  </tbody>\n",
       "</table>\n",
       "</div>"
      ],
      "text/plain": [
       "          Model Name                RSME CV\n",
       "0  Linear Regression  208397.91 +/- 1253.01"
      ]
     },
     "execution_count": 69,
     "metadata": {},
     "output_type": "execute_result"
    }
   ],
   "source": [
    "lr_cv = cross_validation(X_train_full, 5, 'Linear Regression', modelo_regressao, verbose=True)\n",
    "lr_cv"
   ]
  },
  {
   "cell_type": "markdown",
   "id": "f2ad286f",
   "metadata": {
    "heading_collapsed": true,
    "hidden": true
   },
   "source": [
    "#### 6.1.2 Lasso"
   ]
  },
  {
   "cell_type": "code",
   "execution_count": 70,
   "id": "78839237",
   "metadata": {
    "ExecuteTime": {
     "end_time": "2023-12-19T22:15:16.366883Z",
     "start_time": "2023-12-19T22:15:16.254318Z"
    },
    "hidden": true
   },
   "outputs": [
    {
     "name": "stdout",
     "output_type": "stream",
     "text": [
      "Root Mean Squared Error (RMSE) para Regressão Lasso: 202701.18127561567\n",
      "CPU times: total: 93.8 ms\n",
      "Wall time: 93.5 ms\n"
     ]
    }
   ],
   "source": [
    "%%time\n",
    "# Criar uma instância do modelo Lasso\n",
    "modelo_lasso = Lasso(alpha=1.0, random_state=42)\n",
    "\n",
    "# Treinar o modelo com os dados de treinamento\n",
    "modelo_lasso.fit(X_train, Y_train)\n",
    "\n",
    "# Fazer previsões no conjunto de teste\n",
    "y_pred_lasso = modelo_lasso.predict(X_test)\n",
    "\n",
    "# Calcular o RMSE\n",
    "rmse_lasso = np.sqrt(mean_squared_error(np.expm1(Y_test), np.expm1(y_pred_lasso)))\n",
    "print(f\"Root Mean Squared Error (RMSE) para Regressão Lasso: {rmse_lasso}\")"
   ]
  },
  {
   "cell_type": "code",
   "execution_count": 105,
   "id": "4b1fdb15",
   "metadata": {
    "ExecuteTime": {
     "end_time": "2023-12-19T22:34:53.579772Z",
     "start_time": "2023-12-19T22:34:53.522237Z"
    },
    "hidden": true
   },
   "outputs": [
    {
     "data": {
      "text/html": [
       "<div>\n",
       "<style scoped>\n",
       "    .dataframe tbody tr th:only-of-type {\n",
       "        vertical-align: middle;\n",
       "    }\n",
       "\n",
       "    .dataframe tbody tr th {\n",
       "        vertical-align: top;\n",
       "    }\n",
       "\n",
       "    .dataframe thead th {\n",
       "        text-align: right;\n",
       "    }\n",
       "</style>\n",
       "<table border=\"1\" class=\"dataframe\">\n",
       "  <thead>\n",
       "    <tr style=\"text-align: right;\">\n",
       "      <th></th>\n",
       "      <th>Model Name</th>\n",
       "      <th>MAE</th>\n",
       "      <th>MAPE</th>\n",
       "      <th>MSE</th>\n",
       "      <th>RMSE</th>\n",
       "      <th>R2</th>\n",
       "    </tr>\n",
       "  </thead>\n",
       "  <tbody>\n",
       "    <tr>\n",
       "      <th>0</th>\n",
       "      <td>Linear Regression - Lasso</td>\n",
       "      <td>58632.79288</td>\n",
       "      <td>24.681398</td>\n",
       "      <td>4.108777e+10</td>\n",
       "      <td>202701.181276</td>\n",
       "      <td>-0.07856</td>\n",
       "    </tr>\n",
       "  </tbody>\n",
       "</table>\n",
       "</div>"
      ],
      "text/plain": [
       "                  Model Name          MAE       MAPE           MSE  \\\n",
       "0  Linear Regression - Lasso  58632.79288  24.681398  4.108777e+10   \n",
       "\n",
       "            RMSE       R2  \n",
       "0  202701.181276 -0.07856  "
      ]
     },
     "execution_count": 105,
     "metadata": {},
     "output_type": "execute_result"
    }
   ],
   "source": [
    "# Performance\n",
    "lasso_result = ml_error('Linear Regression - Lasso', np.expm1(Y_test), np.expm1(y_pred_lasso))\n",
    "lasso_result"
   ]
  },
  {
   "cell_type": "code",
   "execution_count": 72,
   "id": "804a6a79",
   "metadata": {
    "ExecuteTime": {
     "end_time": "2023-12-19T22:16:19.260882Z",
     "start_time": "2023-12-19T22:16:18.688540Z"
    },
    "hidden": true
   },
   "outputs": [
    {
     "name": "stdout",
     "output_type": "stream",
     "text": [
      "K = 5\n",
      "K = 4\n",
      "K = 3\n",
      "K = 2\n",
      "K = 1\n",
      "CPU times: total: 1.33 s\n",
      "Wall time: 545 ms\n"
     ]
    },
    {
     "data": {
      "text/html": [
       "<div>\n",
       "<style scoped>\n",
       "    .dataframe tbody tr th:only-of-type {\n",
       "        vertical-align: middle;\n",
       "    }\n",
       "\n",
       "    .dataframe tbody tr th {\n",
       "        vertical-align: top;\n",
       "    }\n",
       "\n",
       "    .dataframe thead th {\n",
       "        text-align: right;\n",
       "    }\n",
       "</style>\n",
       "<table border=\"1\" class=\"dataframe\">\n",
       "  <thead>\n",
       "    <tr style=\"text-align: right;\">\n",
       "      <th></th>\n",
       "      <th>Model Name</th>\n",
       "      <th>RSME CV</th>\n",
       "    </tr>\n",
       "  </thead>\n",
       "  <tbody>\n",
       "    <tr>\n",
       "      <th>0</th>\n",
       "      <td>Linear Regression - Lasso</td>\n",
       "      <td>208847.92 +/- 1230.44</td>\n",
       "    </tr>\n",
       "  </tbody>\n",
       "</table>\n",
       "</div>"
      ],
      "text/plain": [
       "                  Model Name                RSME CV\n",
       "0  Linear Regression - Lasso  208847.92 +/- 1230.44"
      ]
     },
     "execution_count": 72,
     "metadata": {},
     "output_type": "execute_result"
    }
   ],
   "source": [
    "%%time\n",
    "lasso_cv = cross_validation(X_train_full,5,'Linear Regression - Lasso', modelo_lasso, verbose=True)\n",
    "lasso_cv "
   ]
  },
  {
   "cell_type": "markdown",
   "id": "7418bde2",
   "metadata": {
    "heading_collapsed": true,
    "hidden": true
   },
   "source": [
    "#### 6.1.3 Random Forest"
   ]
  },
  {
   "cell_type": "code",
   "execution_count": 73,
   "id": "27ebbb46",
   "metadata": {
    "ExecuteTime": {
     "end_time": "2023-12-19T22:17:35.342023Z",
     "start_time": "2023-12-19T22:17:20.114187Z"
    },
    "hidden": true
   },
   "outputs": [
    {
     "name": "stdout",
     "output_type": "stream",
     "text": [
      "Root Mean Squared Error (RMSE) para Random Forest: 198268.2769354889\n",
      "CPU times: total: 1min 49s\n",
      "Wall time: 15.2 s\n"
     ]
    }
   ],
   "source": [
    "%%time\n",
    "# Criar uma instância do modelo de Random Forest\n",
    "modelo_random_forest = en.RandomForestRegressor(n_estimators=100, random_state=42, n_jobs=-1)\n",
    "\n",
    "# Treinar o modelo com os dados de treinamento\n",
    "modelo_random_forest.fit(X_train, Y_train)\n",
    "\n",
    "# Fazer previsões no conjunto de teste\n",
    "y_pred_rf = modelo_random_forest.predict(X_test)\n",
    "\n",
    "# Calcular o RMSE\n",
    "rmse_rf = np.sqrt(mean_squared_error(np.expm1(Y_test), np.expm1(y_pred_rf)))\n",
    "print(f\"Root Mean Squared Error (RMSE) para Random Forest: {rmse_rf}\")"
   ]
  },
  {
   "cell_type": "code",
   "execution_count": 107,
   "id": "9c9f7600",
   "metadata": {
    "ExecuteTime": {
     "end_time": "2023-12-19T22:35:11.422324Z",
     "start_time": "2023-12-19T22:35:11.369323Z"
    },
    "hidden": true
   },
   "outputs": [
    {
     "data": {
      "text/html": [
       "<div>\n",
       "<style scoped>\n",
       "    .dataframe tbody tr th:only-of-type {\n",
       "        vertical-align: middle;\n",
       "    }\n",
       "\n",
       "    .dataframe tbody tr th {\n",
       "        vertical-align: top;\n",
       "    }\n",
       "\n",
       "    .dataframe thead th {\n",
       "        text-align: right;\n",
       "    }\n",
       "</style>\n",
       "<table border=\"1\" class=\"dataframe\">\n",
       "  <thead>\n",
       "    <tr style=\"text-align: right;\">\n",
       "      <th></th>\n",
       "      <th>Model Name</th>\n",
       "      <th>MAE</th>\n",
       "      <th>MAPE</th>\n",
       "      <th>MSE</th>\n",
       "      <th>RMSE</th>\n",
       "      <th>R2</th>\n",
       "    </tr>\n",
       "  </thead>\n",
       "  <tbody>\n",
       "    <tr>\n",
       "      <th>0</th>\n",
       "      <td>Random Forest</td>\n",
       "      <td>54265.122607</td>\n",
       "      <td>2.930018</td>\n",
       "      <td>3.931031e+10</td>\n",
       "      <td>198268.276935</td>\n",
       "      <td>-0.031902</td>\n",
       "    </tr>\n",
       "  </tbody>\n",
       "</table>\n",
       "</div>"
      ],
      "text/plain": [
       "      Model Name           MAE      MAPE           MSE           RMSE  \\\n",
       "0  Random Forest  54265.122607  2.930018  3.931031e+10  198268.276935   \n",
       "\n",
       "         R2  \n",
       "0 -0.031902  "
      ]
     },
     "execution_count": 107,
     "metadata": {},
     "output_type": "execute_result"
    }
   ],
   "source": [
    "# Performance\n",
    "rf_result = ml_error('Random Forest', np.expm1(Y_test), np.expm1(y_pred_rf))\n",
    "rf_result"
   ]
  },
  {
   "cell_type": "code",
   "execution_count": 75,
   "id": "5babbe90",
   "metadata": {
    "ExecuteTime": {
     "end_time": "2023-12-19T22:18:42.000344Z",
     "start_time": "2023-12-19T22:18:09.061274Z"
    },
    "hidden": true
   },
   "outputs": [
    {
     "name": "stdout",
     "output_type": "stream",
     "text": [
      "K = 5\n",
      "K = 4\n",
      "K = 3\n",
      "K = 2\n",
      "K = 1\n",
      "CPU times: total: 3min 42s\n",
      "Wall time: 32.9 s\n"
     ]
    },
    {
     "data": {
      "text/html": [
       "<div>\n",
       "<style scoped>\n",
       "    .dataframe tbody tr th:only-of-type {\n",
       "        vertical-align: middle;\n",
       "    }\n",
       "\n",
       "    .dataframe tbody tr th {\n",
       "        vertical-align: top;\n",
       "    }\n",
       "\n",
       "    .dataframe thead th {\n",
       "        text-align: right;\n",
       "    }\n",
       "</style>\n",
       "<table border=\"1\" class=\"dataframe\">\n",
       "  <thead>\n",
       "    <tr style=\"text-align: right;\">\n",
       "      <th></th>\n",
       "      <th>Model Name</th>\n",
       "      <th>RSME CV</th>\n",
       "    </tr>\n",
       "  </thead>\n",
       "  <tbody>\n",
       "    <tr>\n",
       "      <th>0</th>\n",
       "      <td>Random Forest</td>\n",
       "      <td>205103.3 +/- 1315.44</td>\n",
       "    </tr>\n",
       "  </tbody>\n",
       "</table>\n",
       "</div>"
      ],
      "text/plain": [
       "      Model Name               RSME CV\n",
       "0  Random Forest  205103.3 +/- 1315.44"
      ]
     },
     "execution_count": 75,
     "metadata": {},
     "output_type": "execute_result"
    }
   ],
   "source": [
    "%%time\n",
    "rf_cv = cross_validation(X_train_full,5,'Random Forest',modelo_random_forest,verbose=True)\n",
    "rf_cv"
   ]
  },
  {
   "cell_type": "markdown",
   "id": "7c3e6065",
   "metadata": {
    "heading_collapsed": true,
    "hidden": true
   },
   "source": [
    "#### 6.1.4 XGBoost"
   ]
  },
  {
   "cell_type": "code",
   "execution_count": 78,
   "id": "7919c034",
   "metadata": {
    "ExecuteTime": {
     "end_time": "2023-12-19T22:19:28.850834Z",
     "start_time": "2023-12-19T22:19:25.465451Z"
    },
    "hidden": true
   },
   "outputs": [
    {
     "name": "stdout",
     "output_type": "stream",
     "text": [
      "Root Mean Squared Error (RMSE) para XGBoost: 198894.41303392552\n",
      "CPU times: total: 23.3 s\n",
      "Wall time: 3.37 s\n"
     ]
    }
   ],
   "source": [
    "%%time\n",
    "# Criar uma instância do modelo XGBoost\n",
    "modelo_xgboost = XGBRegressor(n_estimators=100, random_state=42)\n",
    "\n",
    "# Treinar o modelo com os dados de treinamento\n",
    "modelo_xgboost.fit(X_train, Y_train)\n",
    "\n",
    "# Fazer previsões no conjunto de teste\n",
    "y_pred_xgb = modelo_xgboost.predict(X_test)\n",
    "\n",
    "# Calcular o RMSE\n",
    "rmse_xgboost = np.sqrt(mean_squared_error(np.expm1(Y_test), np.expm1(y_pred_xgb)))\n",
    "print(f\"Root Mean Squared Error (RMSE) para XGBoost: {rmse_xgboost}\")"
   ]
  },
  {
   "cell_type": "code",
   "execution_count": 104,
   "id": "29f151fe",
   "metadata": {
    "ExecuteTime": {
     "end_time": "2023-12-19T22:34:16.363045Z",
     "start_time": "2023-12-19T22:34:16.307057Z"
    },
    "hidden": true
   },
   "outputs": [
    {
     "data": {
      "text/html": [
       "<div>\n",
       "<style scoped>\n",
       "    .dataframe tbody tr th:only-of-type {\n",
       "        vertical-align: middle;\n",
       "    }\n",
       "\n",
       "    .dataframe tbody tr th {\n",
       "        vertical-align: top;\n",
       "    }\n",
       "\n",
       "    .dataframe thead th {\n",
       "        text-align: right;\n",
       "    }\n",
       "</style>\n",
       "<table border=\"1\" class=\"dataframe\">\n",
       "  <thead>\n",
       "    <tr style=\"text-align: right;\">\n",
       "      <th></th>\n",
       "      <th>Model Name</th>\n",
       "      <th>MAE</th>\n",
       "      <th>MAPE</th>\n",
       "      <th>MSE</th>\n",
       "      <th>RMSE</th>\n",
       "      <th>R2</th>\n",
       "    </tr>\n",
       "  </thead>\n",
       "  <tbody>\n",
       "    <tr>\n",
       "      <th>0</th>\n",
       "      <td>XGBoost Regressor</td>\n",
       "      <td>50594.601173</td>\n",
       "      <td>1.516954</td>\n",
       "      <td>3.955899e+10</td>\n",
       "      <td>198894.413034</td>\n",
       "      <td>-0.038429</td>\n",
       "    </tr>\n",
       "  </tbody>\n",
       "</table>\n",
       "</div>"
      ],
      "text/plain": [
       "          Model Name           MAE      MAPE           MSE           RMSE  \\\n",
       "0  XGBoost Regressor  50594.601173  1.516954  3.955899e+10  198894.413034   \n",
       "\n",
       "         R2  \n",
       "0 -0.038429  "
      ]
     },
     "execution_count": 104,
     "metadata": {},
     "output_type": "execute_result"
    }
   ],
   "source": [
    "# Performance\n",
    "xgb_result = ml_error('XGBoost Regressor', np.expm1(Y_test), np.expm1(y_pred_xgb))\n",
    "xgb_result"
   ]
  },
  {
   "cell_type": "code",
   "execution_count": 80,
   "id": "8f4d766c",
   "metadata": {
    "ExecuteTime": {
     "end_time": "2023-12-19T22:19:55.417583Z",
     "start_time": "2023-12-19T22:19:47.546834Z"
    },
    "hidden": true
   },
   "outputs": [
    {
     "name": "stdout",
     "output_type": "stream",
     "text": [
      "K = 5\n",
      "K = 4\n",
      "K = 3\n",
      "K = 2\n",
      "K = 1\n",
      "CPU times: total: 52.5 s\n",
      "Wall time: 7.86 s\n"
     ]
    },
    {
     "data": {
      "text/html": [
       "<div>\n",
       "<style scoped>\n",
       "    .dataframe tbody tr th:only-of-type {\n",
       "        vertical-align: middle;\n",
       "    }\n",
       "\n",
       "    .dataframe tbody tr th {\n",
       "        vertical-align: top;\n",
       "    }\n",
       "\n",
       "    .dataframe thead th {\n",
       "        text-align: right;\n",
       "    }\n",
       "</style>\n",
       "<table border=\"1\" class=\"dataframe\">\n",
       "  <thead>\n",
       "    <tr style=\"text-align: right;\">\n",
       "      <th></th>\n",
       "      <th>Model Name</th>\n",
       "      <th>RSME CV</th>\n",
       "    </tr>\n",
       "  </thead>\n",
       "  <tbody>\n",
       "    <tr>\n",
       "      <th>0</th>\n",
       "      <td>XGBoost</td>\n",
       "      <td>206824.68 +/- 2026.73</td>\n",
       "    </tr>\n",
       "  </tbody>\n",
       "</table>\n",
       "</div>"
      ],
      "text/plain": [
       "  Model Name                RSME CV\n",
       "0    XGBoost  206824.68 +/- 2026.73"
      ]
     },
     "execution_count": 80,
     "metadata": {},
     "output_type": "execute_result"
    }
   ],
   "source": [
    "%%time\n",
    "xgb_cv = cross_validation(X_train_full,5,'XGBoost', modelo_xgboost, verbose=True)\n",
    "xgb_cv"
   ]
  },
  {
   "cell_type": "markdown",
   "id": "92de2d1c",
   "metadata": {
    "heading_collapsed": true,
    "hidden": true
   },
   "source": [
    "#### 6.1.5 LGBM Model"
   ]
  },
  {
   "cell_type": "code",
   "execution_count": 81,
   "id": "e7fb5972",
   "metadata": {
    "ExecuteTime": {
     "end_time": "2023-12-19T22:20:34.209894Z",
     "start_time": "2023-12-19T22:20:32.470732Z"
    },
    "hidden": true
   },
   "outputs": [
    {
     "name": "stdout",
     "output_type": "stream",
     "text": [
      "[LightGBM] [Warning] Auto-choosing row-wise multi-threading, the overhead of testing was 0.008738 seconds.\n",
      "You can set `force_row_wise=true` to remove the overhead.\n",
      "And if memory is not enough, you can set `force_col_wise=true`.\n",
      "[LightGBM] [Info] Total Bins 1079\n",
      "[LightGBM] [Info] Number of data points in the train set: 95385, number of used features: 19\n",
      "[LightGBM] [Info] Start training from score 8.787567\n",
      "Root Mean Squared Error (RMSE) para LightGBM: 199271.3479651534\n",
      "CPU times: total: 2.42 s\n",
      "Wall time: 1.71 s\n"
     ]
    }
   ],
   "source": [
    "%%time\n",
    "# Criar uma instância do modelo LightGBM\n",
    "modelo_lgbm = LGBMRegressor(n_estimators=100, random_state=42)\n",
    "\n",
    "# Treinar o modelo com os dados de treinamento\n",
    "modelo_lgbm.fit(X_train, Y_train)\n",
    "\n",
    "# Fazer previsões no conjunto de teste\n",
    "y_pred_lgbm = modelo_lgbm.predict(X_test)\n",
    "\n",
    "# Calcular o RMSE\n",
    "rmse_lgbm = np.sqrt(mean_squared_error(np.expm1(Y_test),np.expm1(y_pred_lgbm)))\n",
    "print(f\"Root Mean Squared Error (RMSE) para LightGBM: {rmse_lgbm}\")"
   ]
  },
  {
   "cell_type": "code",
   "execution_count": 103,
   "id": "82a2ab3c",
   "metadata": {
    "ExecuteTime": {
     "end_time": "2023-12-19T22:33:59.944870Z",
     "start_time": "2023-12-19T22:33:59.903887Z"
    },
    "hidden": true
   },
   "outputs": [
    {
     "data": {
      "text/html": [
       "<div>\n",
       "<style scoped>\n",
       "    .dataframe tbody tr th:only-of-type {\n",
       "        vertical-align: middle;\n",
       "    }\n",
       "\n",
       "    .dataframe tbody tr th {\n",
       "        vertical-align: top;\n",
       "    }\n",
       "\n",
       "    .dataframe thead th {\n",
       "        text-align: right;\n",
       "    }\n",
       "</style>\n",
       "<table border=\"1\" class=\"dataframe\">\n",
       "  <thead>\n",
       "    <tr style=\"text-align: right;\">\n",
       "      <th></th>\n",
       "      <th>Model Name</th>\n",
       "      <th>MAE</th>\n",
       "      <th>MAPE</th>\n",
       "      <th>MSE</th>\n",
       "      <th>RMSE</th>\n",
       "      <th>R2</th>\n",
       "    </tr>\n",
       "  </thead>\n",
       "  <tbody>\n",
       "    <tr>\n",
       "      <th>0</th>\n",
       "      <td>LGBM Model</td>\n",
       "      <td>50570.713724</td>\n",
       "      <td>1.798876</td>\n",
       "      <td>3.970907e+10</td>\n",
       "      <td>199271.347965</td>\n",
       "      <td>-0.042369</td>\n",
       "    </tr>\n",
       "  </tbody>\n",
       "</table>\n",
       "</div>"
      ],
      "text/plain": [
       "   Model Name           MAE      MAPE           MSE           RMSE        R2\n",
       "0  LGBM Model  50570.713724  1.798876  3.970907e+10  199271.347965 -0.042369"
      ]
     },
     "execution_count": 103,
     "metadata": {},
     "output_type": "execute_result"
    }
   ],
   "source": [
    "# Performance\n",
    "lgbm_result = ml_error('LGBM Model', np.expm1(Y_test), np.expm1(y_pred_lgbm))\n",
    "lgbm_result"
   ]
  },
  {
   "cell_type": "code",
   "execution_count": 83,
   "id": "ee0c97b4",
   "metadata": {
    "ExecuteTime": {
     "end_time": "2023-12-19T22:21:05.678272Z",
     "start_time": "2023-12-19T22:21:01.806469Z"
    },
    "hidden": true
   },
   "outputs": [
    {
     "name": "stdout",
     "output_type": "stream",
     "text": [
      "K = 5\n",
      "[LightGBM] [Warning] Auto-choosing row-wise multi-threading, the overhead of testing was 0.001432 seconds.\n",
      "You can set `force_row_wise=true` to remove the overhead.\n",
      "And if memory is not enough, you can set `force_col_wise=true`.\n",
      "[LightGBM] [Info] Total Bins 584\n",
      "[LightGBM] [Info] Number of data points in the train set: 13211, number of used features: 17\n",
      "[LightGBM] [Info] Start training from score 8.684756\n",
      "K = 4\n",
      "[LightGBM] [Warning] Auto-choosing row-wise multi-threading, the overhead of testing was 0.003960 seconds.\n",
      "You can set `force_row_wise=true` to remove the overhead.\n",
      "And if memory is not enough, you can set `force_col_wise=true`.\n",
      "[LightGBM] [Info] Total Bins 761\n",
      "[LightGBM] [Info] Number of data points in the train set: 29213, number of used features: 19\n",
      "[LightGBM] [Info] Start training from score 8.760524\n",
      "K = 3\n",
      "[LightGBM] [Warning] Auto-choosing row-wise multi-threading, the overhead of testing was 0.004057 seconds.\n",
      "You can set `force_row_wise=true` to remove the overhead.\n",
      "And if memory is not enough, you can set `force_col_wise=true`.\n",
      "[LightGBM] [Info] Total Bins 895\n",
      "[LightGBM] [Info] Number of data points in the train set: 45192, number of used features: 19\n",
      "[LightGBM] [Info] Start training from score 8.774049\n",
      "K = 2\n",
      "[LightGBM] [Warning] Auto-choosing row-wise multi-threading, the overhead of testing was 0.004384 seconds.\n",
      "You can set `force_row_wise=true` to remove the overhead.\n",
      "And if memory is not enough, you can set `force_col_wise=true`.\n",
      "[LightGBM] [Info] Total Bins 978\n",
      "[LightGBM] [Info] Number of data points in the train set: 61007, number of used features: 19\n",
      "[LightGBM] [Info] Start training from score 8.787624\n",
      "K = 1\n",
      "[LightGBM] [Warning] Auto-choosing row-wise multi-threading, the overhead of testing was 0.007330 seconds.\n",
      "You can set `force_row_wise=true` to remove the overhead.\n",
      "And if memory is not enough, you can set `force_col_wise=true`.\n",
      "[LightGBM] [Info] Total Bins 1072\n",
      "[LightGBM] [Info] Number of data points in the train set: 76795, number of used features: 19\n",
      "[LightGBM] [Info] Start training from score 8.793187\n",
      "CPU times: total: 8.78 s\n",
      "Wall time: 3.85 s\n"
     ]
    },
    {
     "data": {
      "text/html": [
       "<div>\n",
       "<style scoped>\n",
       "    .dataframe tbody tr th:only-of-type {\n",
       "        vertical-align: middle;\n",
       "    }\n",
       "\n",
       "    .dataframe tbody tr th {\n",
       "        vertical-align: top;\n",
       "    }\n",
       "\n",
       "    .dataframe thead th {\n",
       "        text-align: right;\n",
       "    }\n",
       "</style>\n",
       "<table border=\"1\" class=\"dataframe\">\n",
       "  <thead>\n",
       "    <tr style=\"text-align: right;\">\n",
       "      <th></th>\n",
       "      <th>Model Name</th>\n",
       "      <th>RSME CV</th>\n",
       "    </tr>\n",
       "  </thead>\n",
       "  <tbody>\n",
       "    <tr>\n",
       "      <th>0</th>\n",
       "      <td>LGBM Model</td>\n",
       "      <td>205630.23 +/- 1231.93</td>\n",
       "    </tr>\n",
       "  </tbody>\n",
       "</table>\n",
       "</div>"
      ],
      "text/plain": [
       "   Model Name                RSME CV\n",
       "0  LGBM Model  205630.23 +/- 1231.93"
      ]
     },
     "execution_count": 83,
     "metadata": {},
     "output_type": "execute_result"
    }
   ],
   "source": [
    "%%time\n",
    "lgbm_cv = cross_validation(X_train_full,5,'LGBM Model', modelo_lgbm, verbose=True)\n",
    "lgbm_cv"
   ]
  },
  {
   "cell_type": "markdown",
   "id": "27d276dc",
   "metadata": {
    "heading_collapsed": true,
    "hidden": true
   },
   "source": [
    "#### 6.1.6 Elastic Net"
   ]
  },
  {
   "cell_type": "code",
   "execution_count": 84,
   "id": "e92fcd93",
   "metadata": {
    "ExecuteTime": {
     "end_time": "2023-12-19T22:21:45.825381Z",
     "start_time": "2023-12-19T22:21:45.710840Z"
    },
    "hidden": true
   },
   "outputs": [
    {
     "name": "stdout",
     "output_type": "stream",
     "text": [
      "Root Mean Squared Error (RMSE) para Elastic Net: 202684.0419498248\n",
      "CPU times: total: 125 ms\n",
      "Wall time: 91.5 ms\n"
     ]
    }
   ],
   "source": [
    "%%time\n",
    "# Criar uma instância do modelo Elastic Net\n",
    "modelo_elasticnet = ElasticNet(alpha=1.0, l1_ratio=0.5, random_state=42)\n",
    "\n",
    "# Treinar o modelo com os dados de treinamento\n",
    "modelo_elasticnet.fit(X_train, Y_train)\n",
    "\n",
    "# Fazer previsões no conjunto de teste\n",
    "y_pred_elasticnet = modelo_elasticnet.predict(X_test)\n",
    "\n",
    "# Calcular o RMSE\n",
    "rmse_elasticnet = np.sqrt(mean_squared_error(np.expm1(Y_test), np.expm1(y_pred_elasticnet)))\n",
    "print(f\"Root Mean Squared Error (RMSE) para Elastic Net: {rmse_elasticnet}\")"
   ]
  },
  {
   "cell_type": "code",
   "execution_count": 102,
   "id": "d142ba04",
   "metadata": {
    "ExecuteTime": {
     "end_time": "2023-12-19T22:33:00.264089Z",
     "start_time": "2023-12-19T22:33:00.211510Z"
    },
    "hidden": true
   },
   "outputs": [
    {
     "data": {
      "text/html": [
       "<div>\n",
       "<style scoped>\n",
       "    .dataframe tbody tr th:only-of-type {\n",
       "        vertical-align: middle;\n",
       "    }\n",
       "\n",
       "    .dataframe tbody tr th {\n",
       "        vertical-align: top;\n",
       "    }\n",
       "\n",
       "    .dataframe thead th {\n",
       "        text-align: right;\n",
       "    }\n",
       "</style>\n",
       "<table border=\"1\" class=\"dataframe\">\n",
       "  <thead>\n",
       "    <tr style=\"text-align: right;\">\n",
       "      <th></th>\n",
       "      <th>Model Name</th>\n",
       "      <th>MAE</th>\n",
       "      <th>MAPE</th>\n",
       "      <th>MSE</th>\n",
       "      <th>RMSE</th>\n",
       "      <th>R2</th>\n",
       "    </tr>\n",
       "  </thead>\n",
       "  <tbody>\n",
       "    <tr>\n",
       "      <th>0</th>\n",
       "      <td>Elastic Net</td>\n",
       "      <td>58635.760399</td>\n",
       "      <td>24.605752</td>\n",
       "      <td>4.108082e+10</td>\n",
       "      <td>202684.04195</td>\n",
       "      <td>-0.078378</td>\n",
       "    </tr>\n",
       "  </tbody>\n",
       "</table>\n",
       "</div>"
      ],
      "text/plain": [
       "    Model Name           MAE       MAPE           MSE          RMSE        R2\n",
       "0  Elastic Net  58635.760399  24.605752  4.108082e+10  202684.04195 -0.078378"
      ]
     },
     "execution_count": 102,
     "metadata": {},
     "output_type": "execute_result"
    }
   ],
   "source": [
    "# Performance\n",
    "elasticnet_result = ml_error('Elastic Net', np.expm1(Y_test), np.expm1(y_pred_elasticnet))\n",
    "elasticnet_result"
   ]
  },
  {
   "cell_type": "code",
   "execution_count": 86,
   "id": "fad11afb",
   "metadata": {
    "ExecuteTime": {
     "end_time": "2023-12-19T22:22:13.282978Z",
     "start_time": "2023-12-19T22:22:12.801685Z"
    },
    "hidden": true
   },
   "outputs": [
    {
     "name": "stdout",
     "output_type": "stream",
     "text": [
      "K = 5\n",
      "K = 4\n",
      "K = 3\n",
      "K = 2\n",
      "K = 1\n",
      "CPU times: total: 1.17 s\n",
      "Wall time: 455 ms\n"
     ]
    },
    {
     "data": {
      "text/html": [
       "<div>\n",
       "<style scoped>\n",
       "    .dataframe tbody tr th:only-of-type {\n",
       "        vertical-align: middle;\n",
       "    }\n",
       "\n",
       "    .dataframe tbody tr th {\n",
       "        vertical-align: top;\n",
       "    }\n",
       "\n",
       "    .dataframe thead th {\n",
       "        text-align: right;\n",
       "    }\n",
       "</style>\n",
       "<table border=\"1\" class=\"dataframe\">\n",
       "  <thead>\n",
       "    <tr style=\"text-align: right;\">\n",
       "      <th></th>\n",
       "      <th>Model Name</th>\n",
       "      <th>RSME CV</th>\n",
       "    </tr>\n",
       "  </thead>\n",
       "  <tbody>\n",
       "    <tr>\n",
       "      <th>0</th>\n",
       "      <td>Elastic Net</td>\n",
       "      <td>208830.75 +/- 1230.47</td>\n",
       "    </tr>\n",
       "  </tbody>\n",
       "</table>\n",
       "</div>"
      ],
      "text/plain": [
       "    Model Name                RSME CV\n",
       "0  Elastic Net  208830.75 +/- 1230.47"
      ]
     },
     "execution_count": 86,
     "metadata": {},
     "output_type": "execute_result"
    }
   ],
   "source": [
    "%%time\n",
    "elastic_cv = cross_validation(X_train_full,5,'Elastic Net', modelo_elasticnet, verbose=True)\n",
    "elastic_cv"
   ]
  },
  {
   "cell_type": "markdown",
   "id": "2256e475",
   "metadata": {
    "heading_collapsed": true,
    "hidden": true
   },
   "source": [
    "#### 6.1.8 K-Nearest Neighbors (KNN) Regression"
   ]
  },
  {
   "cell_type": "code",
   "execution_count": 87,
   "id": "6f511c80",
   "metadata": {
    "ExecuteTime": {
     "end_time": "2023-12-19T22:24:39.747868Z",
     "start_time": "2023-12-19T22:22:44.849496Z"
    },
    "hidden": true
   },
   "outputs": [
    {
     "name": "stdout",
     "output_type": "stream",
     "text": [
      "Root Mean Squared Error (RMSE) para K-Nearest Neighbors Regression: 199835.93320336434\n",
      "CPU times: total: 1min 49s\n",
      "Wall time: 1min 54s\n"
     ]
    }
   ],
   "source": [
    "%%time\n",
    "# Criar uma instância do modelo KNN Regressor\n",
    "modelo_knn = KNeighborsRegressor(n_neighbors=7)  # O número de vizinhos (n_neighbors) é um exemplo, ajuste conforme necessário\n",
    "\n",
    "# Treinar o modelo com os dados de treinamento\n",
    "modelo_knn.fit(X_train, Y_train)\n",
    "\n",
    "# Fazer previsões no conjunto de teste\n",
    "y_pred_knn = modelo_knn.predict(X_test)\n",
    "\n",
    "# Calcular o RMSE\n",
    "rmse_knn = np.sqrt(mean_squared_error(np.expm1(Y_test), np.expm1(y_pred_knn)))\n",
    "print(f\"Root Mean Squared Error (RMSE) para K-Nearest Neighbors Regression: {rmse_knn}\")"
   ]
  },
  {
   "cell_type": "code",
   "execution_count": 101,
   "id": "bbc09872",
   "metadata": {
    "ExecuteTime": {
     "end_time": "2023-12-19T22:32:34.149827Z",
     "start_time": "2023-12-19T22:32:34.109734Z"
    },
    "hidden": true
   },
   "outputs": [
    {
     "data": {
      "text/html": [
       "<div>\n",
       "<style scoped>\n",
       "    .dataframe tbody tr th:only-of-type {\n",
       "        vertical-align: middle;\n",
       "    }\n",
       "\n",
       "    .dataframe tbody tr th {\n",
       "        vertical-align: top;\n",
       "    }\n",
       "\n",
       "    .dataframe thead th {\n",
       "        text-align: right;\n",
       "    }\n",
       "</style>\n",
       "<table border=\"1\" class=\"dataframe\">\n",
       "  <thead>\n",
       "    <tr style=\"text-align: right;\">\n",
       "      <th></th>\n",
       "      <th>Model Name</th>\n",
       "      <th>MAE</th>\n",
       "      <th>MAPE</th>\n",
       "      <th>MSE</th>\n",
       "      <th>RMSE</th>\n",
       "      <th>R2</th>\n",
       "    </tr>\n",
       "  </thead>\n",
       "  <tbody>\n",
       "    <tr>\n",
       "      <th>0</th>\n",
       "      <td>KNN</td>\n",
       "      <td>54639.495608</td>\n",
       "      <td>8.451232</td>\n",
       "      <td>3.993440e+10</td>\n",
       "      <td>199835.933203</td>\n",
       "      <td>-0.048284</td>\n",
       "    </tr>\n",
       "  </tbody>\n",
       "</table>\n",
       "</div>"
      ],
      "text/plain": [
       "  Model Name           MAE      MAPE           MSE           RMSE        R2\n",
       "0        KNN  54639.495608  8.451232  3.993440e+10  199835.933203 -0.048284"
      ]
     },
     "execution_count": 101,
     "metadata": {},
     "output_type": "execute_result"
    }
   ],
   "source": [
    "# Performance\n",
    "knn_result = ml_error('KNN', np.expm1(Y_test), np.expm1(y_pred_knn))\n",
    "knn_result"
   ]
  },
  {
   "cell_type": "code",
   "execution_count": 89,
   "id": "7eeb9536",
   "metadata": {
    "ExecuteTime": {
     "end_time": "2023-12-19T22:27:33.920378Z",
     "start_time": "2023-12-19T22:24:39.814442Z"
    },
    "hidden": true
   },
   "outputs": [
    {
     "name": "stdout",
     "output_type": "stream",
     "text": [
      "K = 5\n",
      "K = 4\n",
      "K = 3\n",
      "K = 2\n",
      "K = 1\n",
      "CPU times: total: 2min 54s\n",
      "Wall time: 2min 54s\n"
     ]
    },
    {
     "data": {
      "text/html": [
       "<div>\n",
       "<style scoped>\n",
       "    .dataframe tbody tr th:only-of-type {\n",
       "        vertical-align: middle;\n",
       "    }\n",
       "\n",
       "    .dataframe tbody tr th {\n",
       "        vertical-align: top;\n",
       "    }\n",
       "\n",
       "    .dataframe thead th {\n",
       "        text-align: right;\n",
       "    }\n",
       "</style>\n",
       "<table border=\"1\" class=\"dataframe\">\n",
       "  <thead>\n",
       "    <tr style=\"text-align: right;\">\n",
       "      <th></th>\n",
       "      <th>Model Name</th>\n",
       "      <th>RSME CV</th>\n",
       "    </tr>\n",
       "  </thead>\n",
       "  <tbody>\n",
       "    <tr>\n",
       "      <th>0</th>\n",
       "      <td>KNN</td>\n",
       "      <td>206201.62 +/- 1230.22</td>\n",
       "    </tr>\n",
       "  </tbody>\n",
       "</table>\n",
       "</div>"
      ],
      "text/plain": [
       "  Model Name                RSME CV\n",
       "0        KNN  206201.62 +/- 1230.22"
      ]
     },
     "execution_count": 89,
     "metadata": {},
     "output_type": "execute_result"
    }
   ],
   "source": [
    "%%time\n",
    "knn_cv = cross_validation(X_train_full, 5, 'KNN', modelo_knn, verbose=True)\n",
    "knn_cv"
   ]
  },
  {
   "cell_type": "markdown",
   "id": "73fb2ae2",
   "metadata": {
    "heading_collapsed": true,
    "hidden": true
   },
   "source": [
    "#### 6.1.9 Ridge"
   ]
  },
  {
   "cell_type": "code",
   "execution_count": 90,
   "id": "1d858ec2",
   "metadata": {
    "ExecuteTime": {
     "end_time": "2023-12-19T22:27:34.063528Z",
     "start_time": "2023-12-19T22:27:33.932385Z"
    },
    "hidden": true
   },
   "outputs": [
    {
     "name": "stdout",
     "output_type": "stream",
     "text": [
      "Root Mean Squared Error (RMSE) para Ridge Regression: 202271.9688272989\n",
      "CPU times: total: 141 ms\n",
      "Wall time: 105 ms\n"
     ]
    }
   ],
   "source": [
    "%%time\n",
    "# Criar uma instância do modelo Ridge\n",
    "modelo_ridge = Ridge(alpha=1.0, random_state=42)\n",
    "\n",
    "# Treinar o modelo com os dados de treinamento\n",
    "modelo_ridge.fit(X_train, Y_train)\n",
    "\n",
    "# Fazer previsões no conjunto de teste\n",
    "y_pred_ridge = modelo_ridge.predict(X_test)\n",
    "\n",
    "# Calcular o RMSE\n",
    "rmse_ridge = np.sqrt(mean_squared_error(np.expm1(Y_test), np.expm1(y_pred_ridge)))\n",
    "print(f\"Root Mean Squared Error (RMSE) para Ridge Regression: {rmse_ridge}\")"
   ]
  },
  {
   "cell_type": "code",
   "execution_count": 109,
   "id": "77076ad8",
   "metadata": {
    "ExecuteTime": {
     "end_time": "2023-12-19T22:35:27.201982Z",
     "start_time": "2023-12-19T22:35:27.159995Z"
    },
    "hidden": true
   },
   "outputs": [
    {
     "data": {
      "text/html": [
       "<div>\n",
       "<style scoped>\n",
       "    .dataframe tbody tr th:only-of-type {\n",
       "        vertical-align: middle;\n",
       "    }\n",
       "\n",
       "    .dataframe tbody tr th {\n",
       "        vertical-align: top;\n",
       "    }\n",
       "\n",
       "    .dataframe thead th {\n",
       "        text-align: right;\n",
       "    }\n",
       "</style>\n",
       "<table border=\"1\" class=\"dataframe\">\n",
       "  <thead>\n",
       "    <tr style=\"text-align: right;\">\n",
       "      <th></th>\n",
       "      <th>Model Name</th>\n",
       "      <th>MAE</th>\n",
       "      <th>MAPE</th>\n",
       "      <th>MSE</th>\n",
       "      <th>RMSE</th>\n",
       "      <th>R2</th>\n",
       "    </tr>\n",
       "  </thead>\n",
       "  <tbody>\n",
       "    <tr>\n",
       "      <th>0</th>\n",
       "      <td>Ridge</td>\n",
       "      <td>58275.484789</td>\n",
       "      <td>21.036826</td>\n",
       "      <td>4.091395e+10</td>\n",
       "      <td>202271.968827</td>\n",
       "      <td>-0.073997</td>\n",
       "    </tr>\n",
       "  </tbody>\n",
       "</table>\n",
       "</div>"
      ],
      "text/plain": [
       "  Model Name           MAE       MAPE           MSE           RMSE        R2\n",
       "0      Ridge  58275.484789  21.036826  4.091395e+10  202271.968827 -0.073997"
      ]
     },
     "execution_count": 109,
     "metadata": {},
     "output_type": "execute_result"
    }
   ],
   "source": [
    "# Performance\n",
    "ridge_result = ml_error('Ridge', np.expm1(Y_test), np.expm1(y_pred_ridge))\n",
    "ridge_result"
   ]
  },
  {
   "cell_type": "code",
   "execution_count": 114,
   "id": "51d38d64",
   "metadata": {
    "ExecuteTime": {
     "end_time": "2023-12-19T22:36:11.647368Z",
     "start_time": "2023-12-19T22:36:11.135256Z"
    },
    "hidden": true
   },
   "outputs": [
    {
     "name": "stdout",
     "output_type": "stream",
     "text": [
      "K = 5\n",
      "K = 4\n",
      "K = 3\n",
      "K = 2\n",
      "K = 1\n",
      "CPU times: total: 1.2 s\n",
      "Wall time: 474 ms\n"
     ]
    },
    {
     "data": {
      "text/html": [
       "<div>\n",
       "<style scoped>\n",
       "    .dataframe tbody tr th:only-of-type {\n",
       "        vertical-align: middle;\n",
       "    }\n",
       "\n",
       "    .dataframe tbody tr th {\n",
       "        vertical-align: top;\n",
       "    }\n",
       "\n",
       "    .dataframe thead th {\n",
       "        text-align: right;\n",
       "    }\n",
       "</style>\n",
       "<table border=\"1\" class=\"dataframe\">\n",
       "  <thead>\n",
       "    <tr style=\"text-align: right;\">\n",
       "      <th></th>\n",
       "      <th>Model Name</th>\n",
       "      <th>RSME CV</th>\n",
       "    </tr>\n",
       "  </thead>\n",
       "  <tbody>\n",
       "    <tr>\n",
       "      <th>0</th>\n",
       "      <td>Ridge</td>\n",
       "      <td>208394.03 +/- 1258.27</td>\n",
       "    </tr>\n",
       "  </tbody>\n",
       "</table>\n",
       "</div>"
      ],
      "text/plain": [
       "  Model Name                RSME CV\n",
       "0      Ridge  208394.03 +/- 1258.27"
      ]
     },
     "execution_count": 114,
     "metadata": {},
     "output_type": "execute_result"
    }
   ],
   "source": [
    "%%time\n",
    "ridge_cv = cross_validation(X_train_full,5,'Ridge',modelo_ridge,verbose=True)\n",
    "ridge_cv"
   ]
  },
  {
   "cell_type": "markdown",
   "id": "a13b6cc4",
   "metadata": {
    "heading_collapsed": true,
    "hidden": true
   },
   "source": [
    "#### 6.1.10 Gradient Boosting Regressor"
   ]
  },
  {
   "cell_type": "code",
   "execution_count": 97,
   "id": "039b187d",
   "metadata": {
    "ExecuteTime": {
     "end_time": "2023-12-19T22:29:13.469610Z",
     "start_time": "2023-12-19T22:28:00.417604Z"
    },
    "hidden": true
   },
   "outputs": [
    {
     "name": "stdout",
     "output_type": "stream",
     "text": [
      "Root Mean Squared Error (RMSE) para Gradient Boosting Regressor: 199488.88580753672\n",
      "CPU times: total: 43 s\n",
      "Wall time: 1min 13s\n"
     ]
    }
   ],
   "source": [
    "%%time\n",
    "# Criar uma instância do modelo Gradient Boosting Regressor\n",
    "modelo_gradient_boosting = GradientBoostingRegressor(n_estimators=250, random_state=42)\n",
    "\n",
    "# Treinar o modelo com os dados de treinamento\n",
    "modelo_gradient_boosting.fit(X_train, Y_train)\n",
    "\n",
    "# Fazer previsões no conjunto de teste\n",
    "y_pred_gb = modelo_gradient_boosting.predict(X_test)\n",
    "\n",
    "# Calcular o RMSE\n",
    "rmse_gradient_boosting = np.sqrt(mean_squared_error(np.expm1(Y_test), np.expm1(y_pred_gb)))\n",
    "print(f\"Root Mean Squared Error (RMSE) para Gradient Boosting Regressor: {rmse_gradient_boosting}\")"
   ]
  },
  {
   "cell_type": "code",
   "execution_count": 111,
   "id": "737ea486",
   "metadata": {
    "ExecuteTime": {
     "end_time": "2023-12-19T22:35:43.912859Z",
     "start_time": "2023-12-19T22:35:43.861350Z"
    },
    "hidden": true
   },
   "outputs": [
    {
     "data": {
      "text/html": [
       "<div>\n",
       "<style scoped>\n",
       "    .dataframe tbody tr th:only-of-type {\n",
       "        vertical-align: middle;\n",
       "    }\n",
       "\n",
       "    .dataframe tbody tr th {\n",
       "        vertical-align: top;\n",
       "    }\n",
       "\n",
       "    .dataframe thead th {\n",
       "        text-align: right;\n",
       "    }\n",
       "</style>\n",
       "<table border=\"1\" class=\"dataframe\">\n",
       "  <thead>\n",
       "    <tr style=\"text-align: right;\">\n",
       "      <th></th>\n",
       "      <th>Model Name</th>\n",
       "      <th>MAE</th>\n",
       "      <th>MAPE</th>\n",
       "      <th>MSE</th>\n",
       "      <th>RMSE</th>\n",
       "      <th>R2</th>\n",
       "    </tr>\n",
       "  </thead>\n",
       "  <tbody>\n",
       "    <tr>\n",
       "      <th>0</th>\n",
       "      <td>GBR</td>\n",
       "      <td>51215.132182</td>\n",
       "      <td>3.633502</td>\n",
       "      <td>3.979582e+10</td>\n",
       "      <td>199488.885808</td>\n",
       "      <td>-0.044646</td>\n",
       "    </tr>\n",
       "  </tbody>\n",
       "</table>\n",
       "</div>"
      ],
      "text/plain": [
       "  Model Name           MAE      MAPE           MSE           RMSE        R2\n",
       "0        GBR  51215.132182  3.633502  3.979582e+10  199488.885808 -0.044646"
      ]
     },
     "execution_count": 111,
     "metadata": {},
     "output_type": "execute_result"
    }
   ],
   "source": [
    "# Performance\n",
    "gbr_result = ml_error('GBR', np.expm1(Y_test), np.expm1(y_pred_gb))\n",
    "gbr_result"
   ]
  },
  {
   "cell_type": "code",
   "execution_count": 99,
   "id": "dc5fa4f1",
   "metadata": {
    "ExecuteTime": {
     "end_time": "2023-12-19T22:31:48.954900Z",
     "start_time": "2023-12-19T22:29:13.587265Z"
    },
    "hidden": true
   },
   "outputs": [
    {
     "name": "stdout",
     "output_type": "stream",
     "text": [
      "K = 5\n",
      "K = 4\n",
      "K = 3\n",
      "K = 2\n",
      "K = 1\n",
      "CPU times: total: 1min 43s\n",
      "Wall time: 2min 35s\n"
     ]
    },
    {
     "data": {
      "text/html": [
       "<div>\n",
       "<style scoped>\n",
       "    .dataframe tbody tr th:only-of-type {\n",
       "        vertical-align: middle;\n",
       "    }\n",
       "\n",
       "    .dataframe tbody tr th {\n",
       "        vertical-align: top;\n",
       "    }\n",
       "\n",
       "    .dataframe thead th {\n",
       "        text-align: right;\n",
       "    }\n",
       "</style>\n",
       "<table border=\"1\" class=\"dataframe\">\n",
       "  <thead>\n",
       "    <tr style=\"text-align: right;\">\n",
       "      <th></th>\n",
       "      <th>Model Name</th>\n",
       "      <th>RSME CV</th>\n",
       "    </tr>\n",
       "  </thead>\n",
       "  <tbody>\n",
       "    <tr>\n",
       "      <th>0</th>\n",
       "      <td>GBR</td>\n",
       "      <td>205832.15 +/- 1235.7</td>\n",
       "    </tr>\n",
       "  </tbody>\n",
       "</table>\n",
       "</div>"
      ],
      "text/plain": [
       "  Model Name               RSME CV\n",
       "0        GBR  205832.15 +/- 1235.7"
      ]
     },
     "execution_count": 99,
     "metadata": {},
     "output_type": "execute_result"
    }
   ],
   "source": [
    "%%time\n",
    "gbr_cv = cross_validation(X_train_full,5,'GBR',modelo_gradient_boosting,verbose=True)\n",
    "gbr_cv"
   ]
  },
  {
   "cell_type": "markdown",
   "id": "702d7d66",
   "metadata": {
    "hidden": true
   },
   "source": [
    "### 6.2. Validar métricas"
   ]
  },
  {
   "cell_type": "code",
   "execution_count": 112,
   "id": "934541ed",
   "metadata": {
    "ExecuteTime": {
     "end_time": "2023-12-19T22:35:49.992129Z",
     "start_time": "2023-12-19T22:35:49.942586Z"
    },
    "hidden": true
   },
   "outputs": [
    {
     "data": {
      "text/html": [
       "<div>\n",
       "<style scoped>\n",
       "    .dataframe tbody tr th:only-of-type {\n",
       "        vertical-align: middle;\n",
       "    }\n",
       "\n",
       "    .dataframe tbody tr th {\n",
       "        vertical-align: top;\n",
       "    }\n",
       "\n",
       "    .dataframe thead th {\n",
       "        text-align: right;\n",
       "    }\n",
       "</style>\n",
       "<table border=\"1\" class=\"dataframe\">\n",
       "  <thead>\n",
       "    <tr style=\"text-align: right;\">\n",
       "      <th></th>\n",
       "      <th>Model Name</th>\n",
       "      <th>MAE</th>\n",
       "      <th>MAPE</th>\n",
       "      <th>MSE</th>\n",
       "      <th>RMSE</th>\n",
       "      <th>R2</th>\n",
       "    </tr>\n",
       "  </thead>\n",
       "  <tbody>\n",
       "    <tr>\n",
       "      <th>0</th>\n",
       "      <td>Random Forest</td>\n",
       "      <td>54265.122607</td>\n",
       "      <td>2.930018</td>\n",
       "      <td>3.931031e+10</td>\n",
       "      <td>198268.276935</td>\n",
       "      <td>-0.031902</td>\n",
       "    </tr>\n",
       "    <tr>\n",
       "      <th>1</th>\n",
       "      <td>XGBoost Regressor</td>\n",
       "      <td>50594.601173</td>\n",
       "      <td>1.516954</td>\n",
       "      <td>3.955899e+10</td>\n",
       "      <td>198894.413034</td>\n",
       "      <td>-0.038429</td>\n",
       "    </tr>\n",
       "    <tr>\n",
       "      <th>2</th>\n",
       "      <td>LGBM Model</td>\n",
       "      <td>50570.713724</td>\n",
       "      <td>1.798876</td>\n",
       "      <td>3.970907e+10</td>\n",
       "      <td>199271.347965</td>\n",
       "      <td>-0.042369</td>\n",
       "    </tr>\n",
       "    <tr>\n",
       "      <th>3</th>\n",
       "      <td>GBR</td>\n",
       "      <td>51215.132182</td>\n",
       "      <td>3.633502</td>\n",
       "      <td>3.979582e+10</td>\n",
       "      <td>199488.885808</td>\n",
       "      <td>-0.044646</td>\n",
       "    </tr>\n",
       "    <tr>\n",
       "      <th>4</th>\n",
       "      <td>GBR</td>\n",
       "      <td>51215.132182</td>\n",
       "      <td>3.633502</td>\n",
       "      <td>3.979582e+10</td>\n",
       "      <td>199488.885808</td>\n",
       "      <td>-0.044646</td>\n",
       "    </tr>\n",
       "    <tr>\n",
       "      <th>5</th>\n",
       "      <td>KNN</td>\n",
       "      <td>54639.495608</td>\n",
       "      <td>8.451232</td>\n",
       "      <td>3.993440e+10</td>\n",
       "      <td>199835.933203</td>\n",
       "      <td>-0.048284</td>\n",
       "    </tr>\n",
       "    <tr>\n",
       "      <th>6</th>\n",
       "      <td>Ridge</td>\n",
       "      <td>58275.484789</td>\n",
       "      <td>21.036826</td>\n",
       "      <td>4.091395e+10</td>\n",
       "      <td>202271.968827</td>\n",
       "      <td>-0.073997</td>\n",
       "    </tr>\n",
       "    <tr>\n",
       "      <th>7</th>\n",
       "      <td>Elastic Net</td>\n",
       "      <td>58635.760399</td>\n",
       "      <td>24.605752</td>\n",
       "      <td>4.108082e+10</td>\n",
       "      <td>202684.041950</td>\n",
       "      <td>-0.078378</td>\n",
       "    </tr>\n",
       "    <tr>\n",
       "      <th>8</th>\n",
       "      <td>Linear Regression - Lasso</td>\n",
       "      <td>58632.792880</td>\n",
       "      <td>24.681398</td>\n",
       "      <td>4.108777e+10</td>\n",
       "      <td>202701.181276</td>\n",
       "      <td>-0.078560</td>\n",
       "    </tr>\n",
       "  </tbody>\n",
       "</table>\n",
       "</div>"
      ],
      "text/plain": [
       "                  Model Name           MAE       MAPE           MSE  \\\n",
       "0              Random Forest  54265.122607   2.930018  3.931031e+10   \n",
       "1          XGBoost Regressor  50594.601173   1.516954  3.955899e+10   \n",
       "2                 LGBM Model  50570.713724   1.798876  3.970907e+10   \n",
       "3                        GBR  51215.132182   3.633502  3.979582e+10   \n",
       "4                        GBR  51215.132182   3.633502  3.979582e+10   \n",
       "5                        KNN  54639.495608   8.451232  3.993440e+10   \n",
       "6                      Ridge  58275.484789  21.036826  4.091395e+10   \n",
       "7                Elastic Net  58635.760399  24.605752  4.108082e+10   \n",
       "8  Linear Regression - Lasso  58632.792880  24.681398  4.108777e+10   \n",
       "\n",
       "            RMSE        R2  \n",
       "0  198268.276935 -0.031902  \n",
       "1  198894.413034 -0.038429  \n",
       "2  199271.347965 -0.042369  \n",
       "3  199488.885808 -0.044646  \n",
       "4  199488.885808 -0.044646  \n",
       "5  199835.933203 -0.048284  \n",
       "6  202271.968827 -0.073997  \n",
       "7  202684.041950 -0.078378  \n",
       "8  202701.181276 -0.078560  "
      ]
     },
     "execution_count": 112,
     "metadata": {},
     "output_type": "execute_result"
    }
   ],
   "source": [
    "modelling_result = pd.concat([lr_result, lasso_result, rf_result, lgbm_result, knn_result, elasticnet_result, xgb_result, ridge_result, gbr_result])\n",
    "modelling_result.sort_values('RMSE').reset_index(drop=True)"
   ]
  },
  {
   "cell_type": "code",
   "execution_count": 118,
   "id": "88d81c1b",
   "metadata": {
    "ExecuteTime": {
     "end_time": "2023-12-19T22:39:06.785748Z",
     "start_time": "2023-12-19T22:39:06.761726Z"
    },
    "hidden": true
   },
   "outputs": [
    {
     "data": {
      "text/html": [
       "<div>\n",
       "<style scoped>\n",
       "    .dataframe tbody tr th:only-of-type {\n",
       "        vertical-align: middle;\n",
       "    }\n",
       "\n",
       "    .dataframe tbody tr th {\n",
       "        vertical-align: top;\n",
       "    }\n",
       "\n",
       "    .dataframe thead th {\n",
       "        text-align: right;\n",
       "    }\n",
       "</style>\n",
       "<table border=\"1\" class=\"dataframe\">\n",
       "  <thead>\n",
       "    <tr style=\"text-align: right;\">\n",
       "      <th></th>\n",
       "      <th>Model Name</th>\n",
       "      <th>RSME CV</th>\n",
       "    </tr>\n",
       "  </thead>\n",
       "  <tbody>\n",
       "    <tr>\n",
       "      <th>0</th>\n",
       "      <td>Linear Regression</td>\n",
       "      <td>208397.91 +/- 1253.01</td>\n",
       "    </tr>\n",
       "    <tr>\n",
       "      <th>0</th>\n",
       "      <td>Linear Regression - Lasso</td>\n",
       "      <td>208847.92 +/- 1230.44</td>\n",
       "    </tr>\n",
       "    <tr>\n",
       "      <th>0</th>\n",
       "      <td>Random Forest</td>\n",
       "      <td>205103.3 +/- 1315.44</td>\n",
       "    </tr>\n",
       "    <tr>\n",
       "      <th>0</th>\n",
       "      <td>XGBoost</td>\n",
       "      <td>206824.68 +/- 2026.73</td>\n",
       "    </tr>\n",
       "    <tr>\n",
       "      <th>0</th>\n",
       "      <td>LGBM Model</td>\n",
       "      <td>205630.23 +/- 1231.93</td>\n",
       "    </tr>\n",
       "    <tr>\n",
       "      <th>0</th>\n",
       "      <td>Elastic Net</td>\n",
       "      <td>208830.75 +/- 1230.47</td>\n",
       "    </tr>\n",
       "    <tr>\n",
       "      <th>0</th>\n",
       "      <td>KNN</td>\n",
       "      <td>206201.62 +/- 1230.22</td>\n",
       "    </tr>\n",
       "    <tr>\n",
       "      <th>0</th>\n",
       "      <td>Ridge</td>\n",
       "      <td>208394.03 +/- 1258.27</td>\n",
       "    </tr>\n",
       "    <tr>\n",
       "      <th>0</th>\n",
       "      <td>GBR</td>\n",
       "      <td>205832.15 +/- 1235.7</td>\n",
       "    </tr>\n",
       "  </tbody>\n",
       "</table>\n",
       "</div>"
      ],
      "text/plain": [
       "                  Model Name                RSME CV\n",
       "0          Linear Regression  208397.91 +/- 1253.01\n",
       "0  Linear Regression - Lasso  208847.92 +/- 1230.44\n",
       "0              Random Forest   205103.3 +/- 1315.44\n",
       "0                    XGBoost  206824.68 +/- 2026.73\n",
       "0                 LGBM Model  205630.23 +/- 1231.93\n",
       "0                Elastic Net  208830.75 +/- 1230.47\n",
       "0                        KNN  206201.62 +/- 1230.22\n",
       "0                      Ridge  208394.03 +/- 1258.27\n",
       "0                        GBR   205832.15 +/- 1235.7"
      ]
     },
     "execution_count": 118,
     "metadata": {},
     "output_type": "execute_result"
    }
   ],
   "source": [
    "pd.concat([lr_cv, lasso_cv, rf_cv, xgb_cv, lgbm_cv, elastic_cv, knn_cv, ridge_cv, gbr_cv])"
   ]
  },
  {
   "cell_type": "markdown",
   "id": "e1d75c64",
   "metadata": {
    "hidden": true
   },
   "source": [
    "## 7. HYPERPARAMETER FINE TUNING"
   ]
  },
  {
   "cell_type": "markdown",
   "id": "dd561d38",
   "metadata": {
    "hidden": true
   },
   "source": [
    "### 7.1. Random Search"
   ]
  },
  {
   "cell_type": "code",
   "execution_count": 119,
   "id": "df579c0b",
   "metadata": {
    "ExecuteTime": {
     "end_time": "2023-12-19T22:39:06.817746Z",
     "start_time": "2023-12-19T22:39:06.792746Z"
    },
    "hidden": true
   },
   "outputs": [],
   "source": [
    "# Definindo parâmetros aleatórios para o Random Search\n",
    "param_rf = {\n",
    "    'n_estimators': [100, 200, 300, 400, 500],\n",
    "    'max_depth': [None, 10, 20, 30, 40],\n",
    "    'min_samples_split': [2, 5, 10],\n",
    "    'min_samples_leaf': [1, 2, 4],\n",
    "    'max_features': [None, 'sqrt', 'log2']\n",
    "}\n",
    "\n",
    "max_eval = 5"
   ]
  },
  {
   "cell_type": "code",
   "execution_count": 120,
   "id": "43325034",
   "metadata": {
    "ExecuteTime": {
     "end_time": "2023-12-19T22:42:16.399406Z",
     "start_time": "2023-12-19T22:39:06.826751Z"
    },
    "hidden": true
   },
   "outputs": [
    {
     "name": "stdout",
     "output_type": "stream",
     "text": [
      "{'n_estimators': 200, 'max_depth': 20, 'min_samples_split': 10, 'min_samples_leaf': 2, 'max_features': 'sqrt'}\n",
      "K = 5\n",
      "K = 4\n",
      "K = 3\n",
      "K = 2\n",
      "K = 1\n",
      "{'n_estimators': 500, 'max_depth': 20, 'min_samples_split': 2, 'min_samples_leaf': 4, 'max_features': 'sqrt'}\n",
      "K = 5\n",
      "K = 4\n",
      "K = 3\n",
      "K = 2\n",
      "K = 1\n",
      "{'n_estimators': 500, 'max_depth': 40, 'min_samples_split': 5, 'min_samples_leaf': 1, 'max_features': 'log2'}\n",
      "K = 5\n",
      "K = 4\n",
      "K = 3\n",
      "K = 2\n",
      "K = 1\n",
      "{'n_estimators': 200, 'max_depth': 20, 'min_samples_split': 2, 'min_samples_leaf': 4, 'max_features': None}\n",
      "K = 5\n",
      "K = 4\n",
      "K = 3\n",
      "K = 2\n",
      "K = 1\n",
      "{'n_estimators': 200, 'max_depth': 10, 'min_samples_split': 2, 'min_samples_leaf': 4, 'max_features': 'sqrt'}\n",
      "K = 5\n",
      "K = 4\n",
      "K = 3\n",
      "K = 2\n",
      "K = 1\n"
     ]
    }
   ],
   "source": [
    "# Armazenar os resultados\n",
    "final_result = pd.DataFrame()\n",
    "\n",
    "for i in range(max_eval):\n",
    "    # Escolher valores para parâmetros aleatoriamente\n",
    "    hp_rf = {k: random.sample(v, 1)[0] for k, v in param_rf.items()}\n",
    "    print(hp_rf)\n",
    "    \n",
    "    # Criar uma instância do modelo Random Forest\n",
    "    modelo_random_forest = en.RandomForestRegressor(\n",
    "        n_estimators=hp_rf['n_estimators'],\n",
    "        max_depth=hp_rf['max_depth'],\n",
    "        min_samples_split=hp_rf['min_samples_split'],\n",
    "        min_samples_leaf=hp_rf['min_samples_leaf'],\n",
    "        max_features=hp_rf['max_features'],\n",
    "        random_state=42,\n",
    "        n_jobs=-1\n",
    "    )\n",
    "\n",
    "    # Performance usando cross-validation\n",
    "    result = cross_validation(X_train_full_FUll,5,f'Random Forest: {i+1}',modelo_random_forest,verbose=True)\n",
    "\n",
    "    final_result = pd.concat([final_result,result])"
   ]
  },
  {
   "cell_type": "code",
   "execution_count": 121,
   "id": "72cda68b",
   "metadata": {
    "ExecuteTime": {
     "end_time": "2023-12-19T22:42:16.431422Z",
     "start_time": "2023-12-19T22:42:16.404417Z"
    },
    "hidden": true
   },
   "outputs": [
    {
     "data": {
      "text/html": [
       "<div>\n",
       "<style scoped>\n",
       "    .dataframe tbody tr th:only-of-type {\n",
       "        vertical-align: middle;\n",
       "    }\n",
       "\n",
       "    .dataframe tbody tr th {\n",
       "        vertical-align: top;\n",
       "    }\n",
       "\n",
       "    .dataframe thead th {\n",
       "        text-align: right;\n",
       "    }\n",
       "</style>\n",
       "<table border=\"1\" class=\"dataframe\">\n",
       "  <thead>\n",
       "    <tr style=\"text-align: right;\">\n",
       "      <th></th>\n",
       "      <th>Model Name</th>\n",
       "      <th>RSME CV</th>\n",
       "    </tr>\n",
       "  </thead>\n",
       "  <tbody>\n",
       "    <tr>\n",
       "      <th>0</th>\n",
       "      <td>Random Forest: 1</td>\n",
       "      <td>204287.98 +/- 3736.7</td>\n",
       "    </tr>\n",
       "    <tr>\n",
       "      <th>0</th>\n",
       "      <td>Random Forest: 2</td>\n",
       "      <td>204334.63 +/- 3738.33</td>\n",
       "    </tr>\n",
       "    <tr>\n",
       "      <th>0</th>\n",
       "      <td>Random Forest: 3</td>\n",
       "      <td>203791.63 +/- 3754.42</td>\n",
       "    </tr>\n",
       "    <tr>\n",
       "      <th>0</th>\n",
       "      <td>Random Forest: 4</td>\n",
       "      <td>202137.68 +/- 3729.16</td>\n",
       "    </tr>\n",
       "    <tr>\n",
       "      <th>0</th>\n",
       "      <td>Random Forest: 5</td>\n",
       "      <td>205284.9 +/- 3696.04</td>\n",
       "    </tr>\n",
       "  </tbody>\n",
       "</table>\n",
       "</div>"
      ],
      "text/plain": [
       "         Model Name                RSME CV\n",
       "0  Random Forest: 1   204287.98 +/- 3736.7\n",
       "0  Random Forest: 2  204334.63 +/- 3738.33\n",
       "0  Random Forest: 3  203791.63 +/- 3754.42\n",
       "0  Random Forest: 4  202137.68 +/- 3729.16\n",
       "0  Random Forest: 5   205284.9 +/- 3696.04"
      ]
     },
     "execution_count": 121,
     "metadata": {},
     "output_type": "execute_result"
    }
   ],
   "source": [
    "final_result"
   ]
  },
  {
   "cell_type": "code",
   "execution_count": 122,
   "id": "6b51ad63",
   "metadata": {
    "ExecuteTime": {
     "end_time": "2023-12-19T22:42:16.463439Z",
     "start_time": "2023-12-19T22:42:16.439437Z"
    },
    "hidden": true
   },
   "outputs": [],
   "source": [
    "# Definindo parâmetros aleatórios para o Random Search\n",
    "param_lgbm = {\n",
    "    'n_estimators': [100, 200, 300, 400],\n",
    "    'max_depth': [5, 10, 15, 20, -1],  # -1 indica sem limite de profundidade\n",
    "    'learning_rate': [0.5, 0.4, 0.3],\n",
    "    'num_leaves': [31, 50, 75, 100, 150],\n",
    "    'subsample': [0.8],\n",
    "    'colsample_bytree': [0.8, 0.9, 1.0],\n",
    "    'min_child_samples': [10, 20, 30, 40, 50]\n",
    "}\n",
    "\n",
    "max_eval = 10"
   ]
  },
  {
   "cell_type": "code",
   "execution_count": null,
   "id": "ee5b4d1d",
   "metadata": {
    "ExecuteTime": {
     "end_time": "2023-12-19T22:43:13.321881Z",
     "start_time": "2023-12-19T22:42:16.468428Z"
    },
    "hidden": true
   },
   "outputs": [],
   "source": [
    "# Armazenar os resultados\n",
    "final_result = pd.DataFrame()\n",
    "\n",
    "for i in range(max_eval):\n",
    "    # Escolher valores para parâmetros aleatoriamente\n",
    "    hp_rf = {k: random.sample(v, 1)[0] for k, v in param_lgbm.items()}\n",
    "    print(hp_rf)\n",
    "    \n",
    "    # Criar uma instância do modelo LGBMRegressor\n",
    "    modelo_lgbm = LGBMRegressor(\n",
    "        n_estimators=hp_rf['n_estimators'],\n",
    "        max_depth=hp_rf['max_depth'],\n",
    "        learning_rate=hp_rf['learning_rate'],\n",
    "        num_leaves=hp_rf['num_leaves'],\n",
    "        subsample=hp_rf['subsample'],\n",
    "        colsample_bytree=hp_rf['colsample_bytree'],\n",
    "        min_child_samples=hp_rf['min_child_samples'],\n",
    "        random_state=42,\n",
    "        n_jobs=-1\n",
    "    )\n",
    "\n",
    "    # Performance usando cross-validation\n",
    "    result = cross_validation(X_train_full_FUll,5,f'LGBM: {i+1}',modelo_lgbm,verbose=True)\n",
    "\n",
    "    final_result = pd.concat([final_result,result])"
   ]
  },
  {
   "cell_type": "code",
   "execution_count": 124,
   "id": "55522567",
   "metadata": {
    "ExecuteTime": {
     "end_time": "2023-12-19T22:43:13.336907Z",
     "start_time": "2023-12-19T22:43:13.323893Z"
    },
    "hidden": true
   },
   "outputs": [
    {
     "data": {
      "text/html": [
       "<div>\n",
       "<style scoped>\n",
       "    .dataframe tbody tr th:only-of-type {\n",
       "        vertical-align: middle;\n",
       "    }\n",
       "\n",
       "    .dataframe tbody tr th {\n",
       "        vertical-align: top;\n",
       "    }\n",
       "\n",
       "    .dataframe thead th {\n",
       "        text-align: right;\n",
       "    }\n",
       "</style>\n",
       "<table border=\"1\" class=\"dataframe\">\n",
       "  <thead>\n",
       "    <tr style=\"text-align: right;\">\n",
       "      <th></th>\n",
       "      <th>Model Name</th>\n",
       "      <th>RSME CV</th>\n",
       "    </tr>\n",
       "  </thead>\n",
       "  <tbody>\n",
       "    <tr>\n",
       "      <th>0</th>\n",
       "      <td>LGBM: 1</td>\n",
       "      <td>202601.61 +/- 3759.67</td>\n",
       "    </tr>\n",
       "    <tr>\n",
       "      <th>0</th>\n",
       "      <td>LGBM: 2</td>\n",
       "      <td>202500.33 +/- 3788.36</td>\n",
       "    </tr>\n",
       "    <tr>\n",
       "      <th>0</th>\n",
       "      <td>LGBM: 3</td>\n",
       "      <td>202723.9 +/- 3787.58</td>\n",
       "    </tr>\n",
       "    <tr>\n",
       "      <th>0</th>\n",
       "      <td>LGBM: 4</td>\n",
       "      <td>202550.05 +/- 3766.54</td>\n",
       "    </tr>\n",
       "    <tr>\n",
       "      <th>0</th>\n",
       "      <td>LGBM: 5</td>\n",
       "      <td>205088.2 +/- 7018.11</td>\n",
       "    </tr>\n",
       "    <tr>\n",
       "      <th>0</th>\n",
       "      <td>LGBM: 6</td>\n",
       "      <td>202576.68 +/- 3768.84</td>\n",
       "    </tr>\n",
       "    <tr>\n",
       "      <th>0</th>\n",
       "      <td>LGBM: 7</td>\n",
       "      <td>202568.78 +/- 3722.12</td>\n",
       "    </tr>\n",
       "    <tr>\n",
       "      <th>0</th>\n",
       "      <td>LGBM: 8</td>\n",
       "      <td>202624.69 +/- 3781.85</td>\n",
       "    </tr>\n",
       "    <tr>\n",
       "      <th>0</th>\n",
       "      <td>LGBM: 9</td>\n",
       "      <td>202678.5 +/- 3725.43</td>\n",
       "    </tr>\n",
       "    <tr>\n",
       "      <th>0</th>\n",
       "      <td>LGBM: 10</td>\n",
       "      <td>202507.49 +/- 3786.47</td>\n",
       "    </tr>\n",
       "  </tbody>\n",
       "</table>\n",
       "</div>"
      ],
      "text/plain": [
       "  Model Name                RSME CV\n",
       "0    LGBM: 1  202601.61 +/- 3759.67\n",
       "0    LGBM: 2  202500.33 +/- 3788.36\n",
       "0    LGBM: 3   202723.9 +/- 3787.58\n",
       "0    LGBM: 4  202550.05 +/- 3766.54\n",
       "0    LGBM: 5   205088.2 +/- 7018.11\n",
       "0    LGBM: 6  202576.68 +/- 3768.84\n",
       "0    LGBM: 7  202568.78 +/- 3722.12\n",
       "0    LGBM: 8  202624.69 +/- 3781.85\n",
       "0    LGBM: 9   202678.5 +/- 3725.43\n",
       "0   LGBM: 10  202507.49 +/- 3786.47"
      ]
     },
     "execution_count": 124,
     "metadata": {},
     "output_type": "execute_result"
    }
   ],
   "source": [
    "final_result"
   ]
  },
  {
   "cell_type": "code",
   "execution_count": 125,
   "id": "1f97a868",
   "metadata": {
    "ExecuteTime": {
     "end_time": "2023-12-19T22:43:13.352929Z",
     "start_time": "2023-12-19T22:43:13.343908Z"
    },
    "hidden": true
   },
   "outputs": [],
   "source": [
    "param_lgbm = {\n",
    "    'n_estimators': 200,\n",
    "    'max_depth': 15,  # -1 indica sem limite de profundidade\n",
    "    'learning_rate': 0.2,\n",
    "    'num_leaves': 100,\n",
    "    'subsample': 0.8,\n",
    "    'colsample_bytree': 0.9,\n",
    "    'min_child_samples': 20\n",
    "}"
   ]
  },
  {
   "cell_type": "code",
   "execution_count": 126,
   "id": "06a55e5e",
   "metadata": {
    "ExecuteTime": {
     "end_time": "2023-12-19T22:43:14.747549Z",
     "start_time": "2023-12-19T22:43:13.359900Z"
    },
    "hidden": true
   },
   "outputs": [
    {
     "name": "stdout",
     "output_type": "stream",
     "text": [
      "[LightGBM] [Warning] Auto-choosing row-wise multi-threading, the overhead of testing was 0.005189 seconds.\n",
      "You can set `force_row_wise=true` to remove the overhead.\n",
      "And if memory is not enough, you can set `force_col_wise=true`.\n",
      "[LightGBM] [Info] Total Bins 1323\n",
      "[LightGBM] [Info] Number of data points in the train set: 121996, number of used features: 21\n",
      "[LightGBM] [Info] Start training from score 8.788319\n"
     ]
    },
    {
     "data": {
      "text/plain": [
       "LGBMRegressor(colsample_bytree=0.9, learning_rate=0.2, max_depth=15,\n",
       "              n_estimators=200, n_jobs=-1, num_leaves=100, subsample=0.8)"
      ]
     },
     "execution_count": 126,
     "metadata": {},
     "output_type": "execute_result"
    }
   ],
   "source": [
    "modelo_lgbm = LGBMRegressor(\n",
    "        n_estimators=param_lgbm['n_estimators'],\n",
    "        max_depth=param_lgbm['max_depth'],\n",
    "        learning_rate=param_lgbm['learning_rate'],\n",
    "        num_leaves=param_lgbm['num_leaves'],\n",
    "        subsample=param_lgbm['subsample'],\n",
    "        colsample_bytree=param_lgbm['colsample_bytree'],\n",
    "        min_child_samples=param_lgbm['min_child_samples'],\n",
    "        n_jobs=-1\n",
    "    )\n",
    "\n",
    "# Treinar o modelo com os dados de treinamento\n",
    "modelo_lgbm.fit(X_train_full_FUll.drop(['id','vendas_semanais','data'],axis=1), Y_train_full)"
   ]
  },
  {
   "cell_type": "code",
   "execution_count": 127,
   "id": "d2f75f6b",
   "metadata": {
    "ExecuteTime": {
     "end_time": "2023-12-19T22:43:14.763562Z",
     "start_time": "2023-12-19T22:43:14.749553Z"
    },
    "hidden": true
   },
   "outputs": [],
   "source": [
    "param_rf = {\n",
    "    'n_estimators': 500,\n",
    "    'max_depth': None,\n",
    "    'min_samples_split': 5,\n",
    "    'min_samples_leaf': 2,\n",
    "    'max_features': None\n",
    "}"
   ]
  },
  {
   "cell_type": "code",
   "execution_count": 128,
   "id": "6a65bedd",
   "metadata": {
    "ExecuteTime": {
     "end_time": "2023-12-19T22:44:46.291163Z",
     "start_time": "2023-12-19T22:43:14.766559Z"
    },
    "hidden": true
   },
   "outputs": [
    {
     "data": {
      "text/plain": [
       "RandomForestRegressor(max_features=None, min_samples_leaf=2,\n",
       "                      min_samples_split=5, n_estimators=500, n_jobs=-1,\n",
       "                      random_state=42)"
      ]
     },
     "execution_count": 128,
     "metadata": {},
     "output_type": "execute_result"
    }
   ],
   "source": [
    "# Criar uma instância do modelo de Random Forest\n",
    "modelo_random_forest = en.RandomForestRegressor(\n",
    "        n_estimators=param_rf['n_estimators'],\n",
    "        max_depth=param_rf['max_depth'],\n",
    "        min_samples_split=param_rf['min_samples_split'],\n",
    "        min_samples_leaf=param_rf['min_samples_leaf'],\n",
    "        max_features=param_rf['max_features'],\n",
    "        random_state=42,\n",
    "        n_jobs=-1\n",
    "    )\n",
    "\n",
    "# Treinar o modelo com os dados de treinamento\n",
    "modelo_random_forest.fit(X_train_full_FUll.drop(['id','vendas_semanais','data'],axis=1), Y_train_full)"
   ]
  },
  {
   "cell_type": "markdown",
   "id": "1f9f6fc7",
   "metadata": {
    "heading_collapsed": true
   },
   "source": [
    "# V. Validação"
   ]
  },
  {
   "cell_type": "markdown",
   "id": "f1592886",
   "metadata": {
    "hidden": true
   },
   "source": [
    "## 8. ERROR TRANSLATION AND INTERPRETATION"
   ]
  },
  {
   "cell_type": "code",
   "execution_count": 129,
   "id": "fe8e9bcc",
   "metadata": {
    "ExecuteTime": {
     "end_time": "2023-12-19T22:44:46.402691Z",
     "start_time": "2023-12-19T22:44:46.297162Z"
    },
    "hidden": true
   },
   "outputs": [
    {
     "data": {
      "text/html": [
       "<div>\n",
       "<style scoped>\n",
       "    .dataframe tbody tr th:only-of-type {\n",
       "        vertical-align: middle;\n",
       "    }\n",
       "\n",
       "    .dataframe tbody tr th {\n",
       "        vertical-align: top;\n",
       "    }\n",
       "\n",
       "    .dataframe thead th {\n",
       "        text-align: right;\n",
       "    }\n",
       "</style>\n",
       "<table border=\"1\" class=\"dataframe\">\n",
       "  <thead>\n",
       "    <tr style=\"text-align: right;\">\n",
       "      <th></th>\n",
       "      <th>loja</th>\n",
       "      <th>setor</th>\n",
       "      <th>tipo</th>\n",
       "      <th>tamanho</th>\n",
       "      <th>temperatura</th>\n",
       "      <th>combustivel</th>\n",
       "      <th>desemprego</th>\n",
       "      <th>distancia_competidores</th>\n",
       "      <th>clientes</th>\n",
       "      <th>week_of_year</th>\n",
       "      <th>...</th>\n",
       "      <th>desconto</th>\n",
       "      <th>feriado_0</th>\n",
       "      <th>feriado_1</th>\n",
       "      <th>tipo_de_loja_A</th>\n",
       "      <th>tipo_de_loja_B</th>\n",
       "      <th>tipo_de_loja_C</th>\n",
       "      <th>week_of_month_sin</th>\n",
       "      <th>week_of_month_cos</th>\n",
       "      <th>day_sin</th>\n",
       "      <th>day_cos</th>\n",
       "    </tr>\n",
       "  </thead>\n",
       "  <tbody>\n",
       "    <tr>\n",
       "      <th>2202</th>\n",
       "      <td>17</td>\n",
       "      <td>87</td>\n",
       "      <td>1</td>\n",
       "      <td>-0.770246</td>\n",
       "      <td>7.734776e-02</td>\n",
       "      <td>3.641</td>\n",
       "      <td>0.06745</td>\n",
       "      <td>0.0</td>\n",
       "      <td>0.116232</td>\n",
       "      <td>0.8</td>\n",
       "      <td>...</td>\n",
       "      <td>0.000000</td>\n",
       "      <td>1</td>\n",
       "      <td>0</td>\n",
       "      <td>1</td>\n",
       "      <td>0</td>\n",
       "      <td>0</td>\n",
       "      <td>-1.0</td>\n",
       "      <td>-1.836970e-16</td>\n",
       "      <td>-0.207912</td>\n",
       "      <td>-0.978148</td>\n",
       "    </tr>\n",
       "    <tr>\n",
       "      <th>2203</th>\n",
       "      <td>17</td>\n",
       "      <td>29</td>\n",
       "      <td>1</td>\n",
       "      <td>-0.770246</td>\n",
       "      <td>7.734776e-02</td>\n",
       "      <td>3.641</td>\n",
       "      <td>0.06745</td>\n",
       "      <td>0.0</td>\n",
       "      <td>0.116232</td>\n",
       "      <td>0.8</td>\n",
       "      <td>...</td>\n",
       "      <td>0.000000</td>\n",
       "      <td>1</td>\n",
       "      <td>0</td>\n",
       "      <td>1</td>\n",
       "      <td>0</td>\n",
       "      <td>0</td>\n",
       "      <td>-1.0</td>\n",
       "      <td>-1.836970e-16</td>\n",
       "      <td>-0.207912</td>\n",
       "      <td>-0.978148</td>\n",
       "    </tr>\n",
       "    <tr>\n",
       "      <th>2204</th>\n",
       "      <td>17</td>\n",
       "      <td>46</td>\n",
       "      <td>1</td>\n",
       "      <td>-0.770246</td>\n",
       "      <td>7.734776e-02</td>\n",
       "      <td>3.641</td>\n",
       "      <td>0.06745</td>\n",
       "      <td>0.0</td>\n",
       "      <td>0.116232</td>\n",
       "      <td>0.8</td>\n",
       "      <td>...</td>\n",
       "      <td>0.000000</td>\n",
       "      <td>1</td>\n",
       "      <td>0</td>\n",
       "      <td>1</td>\n",
       "      <td>0</td>\n",
       "      <td>0</td>\n",
       "      <td>-1.0</td>\n",
       "      <td>-1.836970e-16</td>\n",
       "      <td>-0.207912</td>\n",
       "      <td>-0.978148</td>\n",
       "    </tr>\n",
       "    <tr>\n",
       "      <th>2205</th>\n",
       "      <td>17</td>\n",
       "      <td>93</td>\n",
       "      <td>1</td>\n",
       "      <td>-0.770246</td>\n",
       "      <td>7.734776e-02</td>\n",
       "      <td>3.641</td>\n",
       "      <td>0.06745</td>\n",
       "      <td>0.0</td>\n",
       "      <td>0.116232</td>\n",
       "      <td>0.8</td>\n",
       "      <td>...</td>\n",
       "      <td>0.000000</td>\n",
       "      <td>1</td>\n",
       "      <td>0</td>\n",
       "      <td>1</td>\n",
       "      <td>0</td>\n",
       "      <td>0</td>\n",
       "      <td>-1.0</td>\n",
       "      <td>-1.836970e-16</td>\n",
       "      <td>-0.207912</td>\n",
       "      <td>-0.978148</td>\n",
       "    </tr>\n",
       "    <tr>\n",
       "      <th>2206</th>\n",
       "      <td>17</td>\n",
       "      <td>91</td>\n",
       "      <td>1</td>\n",
       "      <td>-0.770246</td>\n",
       "      <td>7.734776e-02</td>\n",
       "      <td>3.641</td>\n",
       "      <td>0.06745</td>\n",
       "      <td>0.0</td>\n",
       "      <td>0.116232</td>\n",
       "      <td>0.8</td>\n",
       "      <td>...</td>\n",
       "      <td>0.000000</td>\n",
       "      <td>1</td>\n",
       "      <td>0</td>\n",
       "      <td>1</td>\n",
       "      <td>0</td>\n",
       "      <td>0</td>\n",
       "      <td>-1.0</td>\n",
       "      <td>-1.836970e-16</td>\n",
       "      <td>-0.207912</td>\n",
       "      <td>-0.978148</td>\n",
       "    </tr>\n",
       "    <tr>\n",
       "      <th>...</th>\n",
       "      <td>...</td>\n",
       "      <td>...</td>\n",
       "      <td>...</td>\n",
       "      <td>...</td>\n",
       "      <td>...</td>\n",
       "      <td>...</td>\n",
       "      <td>...</td>\n",
       "      <td>...</td>\n",
       "      <td>...</td>\n",
       "      <td>...</td>\n",
       "      <td>...</td>\n",
       "      <td>...</td>\n",
       "      <td>...</td>\n",
       "      <td>...</td>\n",
       "      <td>...</td>\n",
       "      <td>...</td>\n",
       "      <td>...</td>\n",
       "      <td>...</td>\n",
       "      <td>...</td>\n",
       "      <td>...</td>\n",
       "      <td>...</td>\n",
       "    </tr>\n",
       "    <tr>\n",
       "      <th>121991</th>\n",
       "      <td>33</td>\n",
       "      <td>90</td>\n",
       "      <td>0</td>\n",
       "      <td>-1.847837</td>\n",
       "      <td>1.255991e-14</td>\n",
       "      <td>3.669</td>\n",
       "      <td>0.08010</td>\n",
       "      <td>-298048.0</td>\n",
       "      <td>0.155311</td>\n",
       "      <td>1.0</td>\n",
       "      <td>...</td>\n",
       "      <td>0.044138</td>\n",
       "      <td>1</td>\n",
       "      <td>0</td>\n",
       "      <td>1</td>\n",
       "      <td>0</td>\n",
       "      <td>0</td>\n",
       "      <td>-1.0</td>\n",
       "      <td>-1.836970e-16</td>\n",
       "      <td>-0.587785</td>\n",
       "      <td>-0.809017</td>\n",
       "    </tr>\n",
       "    <tr>\n",
       "      <th>121992</th>\n",
       "      <td>33</td>\n",
       "      <td>96</td>\n",
       "      <td>0</td>\n",
       "      <td>-1.847837</td>\n",
       "      <td>1.255991e-14</td>\n",
       "      <td>3.669</td>\n",
       "      <td>0.08010</td>\n",
       "      <td>-298048.0</td>\n",
       "      <td>0.155311</td>\n",
       "      <td>1.0</td>\n",
       "      <td>...</td>\n",
       "      <td>0.044138</td>\n",
       "      <td>1</td>\n",
       "      <td>0</td>\n",
       "      <td>1</td>\n",
       "      <td>0</td>\n",
       "      <td>0</td>\n",
       "      <td>-1.0</td>\n",
       "      <td>-1.836970e-16</td>\n",
       "      <td>-0.587785</td>\n",
       "      <td>-0.809017</td>\n",
       "    </tr>\n",
       "    <tr>\n",
       "      <th>121993</th>\n",
       "      <td>33</td>\n",
       "      <td>95</td>\n",
       "      <td>0</td>\n",
       "      <td>-1.847837</td>\n",
       "      <td>1.255991e-14</td>\n",
       "      <td>3.669</td>\n",
       "      <td>0.08010</td>\n",
       "      <td>-298048.0</td>\n",
       "      <td>0.155311</td>\n",
       "      <td>1.0</td>\n",
       "      <td>...</td>\n",
       "      <td>0.044138</td>\n",
       "      <td>1</td>\n",
       "      <td>0</td>\n",
       "      <td>1</td>\n",
       "      <td>0</td>\n",
       "      <td>0</td>\n",
       "      <td>-1.0</td>\n",
       "      <td>-1.836970e-16</td>\n",
       "      <td>-0.587785</td>\n",
       "      <td>-0.809017</td>\n",
       "    </tr>\n",
       "    <tr>\n",
       "      <th>121994</th>\n",
       "      <td>33</td>\n",
       "      <td>98</td>\n",
       "      <td>0</td>\n",
       "      <td>-1.847837</td>\n",
       "      <td>1.255991e-14</td>\n",
       "      <td>3.669</td>\n",
       "      <td>0.08010</td>\n",
       "      <td>-298048.0</td>\n",
       "      <td>0.155311</td>\n",
       "      <td>1.0</td>\n",
       "      <td>...</td>\n",
       "      <td>0.044138</td>\n",
       "      <td>1</td>\n",
       "      <td>0</td>\n",
       "      <td>1</td>\n",
       "      <td>0</td>\n",
       "      <td>0</td>\n",
       "      <td>-1.0</td>\n",
       "      <td>-1.836970e-16</td>\n",
       "      <td>-0.587785</td>\n",
       "      <td>-0.809017</td>\n",
       "    </tr>\n",
       "    <tr>\n",
       "      <th>121995</th>\n",
       "      <td>33</td>\n",
       "      <td>97</td>\n",
       "      <td>0</td>\n",
       "      <td>-1.847837</td>\n",
       "      <td>1.255991e-14</td>\n",
       "      <td>3.669</td>\n",
       "      <td>0.08010</td>\n",
       "      <td>-298048.0</td>\n",
       "      <td>0.155311</td>\n",
       "      <td>1.0</td>\n",
       "      <td>...</td>\n",
       "      <td>0.044138</td>\n",
       "      <td>1</td>\n",
       "      <td>0</td>\n",
       "      <td>1</td>\n",
       "      <td>0</td>\n",
       "      <td>0</td>\n",
       "      <td>-1.0</td>\n",
       "      <td>-1.836970e-16</td>\n",
       "      <td>-0.587785</td>\n",
       "      <td>-0.809017</td>\n",
       "    </tr>\n",
       "  </tbody>\n",
       "</table>\n",
       "<p>26611 rows × 21 columns</p>\n",
       "</div>"
      ],
      "text/plain": [
       "        loja  setor  tipo   tamanho   temperatura  combustivel  desemprego  \\\n",
       "2202      17     87     1 -0.770246  7.734776e-02        3.641     0.06745   \n",
       "2203      17     29     1 -0.770246  7.734776e-02        3.641     0.06745   \n",
       "2204      17     46     1 -0.770246  7.734776e-02        3.641     0.06745   \n",
       "2205      17     93     1 -0.770246  7.734776e-02        3.641     0.06745   \n",
       "2206      17     91     1 -0.770246  7.734776e-02        3.641     0.06745   \n",
       "...      ...    ...   ...       ...           ...          ...         ...   \n",
       "121991    33     90     0 -1.847837  1.255991e-14        3.669     0.08010   \n",
       "121992    33     96     0 -1.847837  1.255991e-14        3.669     0.08010   \n",
       "121993    33     95     0 -1.847837  1.255991e-14        3.669     0.08010   \n",
       "121994    33     98     0 -1.847837  1.255991e-14        3.669     0.08010   \n",
       "121995    33     97     0 -1.847837  1.255991e-14        3.669     0.08010   \n",
       "\n",
       "        distancia_competidores  clientes  week_of_year  ...  desconto  \\\n",
       "2202                       0.0  0.116232           0.8  ...  0.000000   \n",
       "2203                       0.0  0.116232           0.8  ...  0.000000   \n",
       "2204                       0.0  0.116232           0.8  ...  0.000000   \n",
       "2205                       0.0  0.116232           0.8  ...  0.000000   \n",
       "2206                       0.0  0.116232           0.8  ...  0.000000   \n",
       "...                        ...       ...           ...  ...       ...   \n",
       "121991               -298048.0  0.155311           1.0  ...  0.044138   \n",
       "121992               -298048.0  0.155311           1.0  ...  0.044138   \n",
       "121993               -298048.0  0.155311           1.0  ...  0.044138   \n",
       "121994               -298048.0  0.155311           1.0  ...  0.044138   \n",
       "121995               -298048.0  0.155311           1.0  ...  0.044138   \n",
       "\n",
       "        feriado_0  feriado_1  tipo_de_loja_A  tipo_de_loja_B  tipo_de_loja_C  \\\n",
       "2202            1          0               1               0               0   \n",
       "2203            1          0               1               0               0   \n",
       "2204            1          0               1               0               0   \n",
       "2205            1          0               1               0               0   \n",
       "2206            1          0               1               0               0   \n",
       "...           ...        ...             ...             ...             ...   \n",
       "121991          1          0               1               0               0   \n",
       "121992          1          0               1               0               0   \n",
       "121993          1          0               1               0               0   \n",
       "121994          1          0               1               0               0   \n",
       "121995          1          0               1               0               0   \n",
       "\n",
       "        week_of_month_sin  week_of_month_cos   day_sin   day_cos  \n",
       "2202                 -1.0      -1.836970e-16 -0.207912 -0.978148  \n",
       "2203                 -1.0      -1.836970e-16 -0.207912 -0.978148  \n",
       "2204                 -1.0      -1.836970e-16 -0.207912 -0.978148  \n",
       "2205                 -1.0      -1.836970e-16 -0.207912 -0.978148  \n",
       "2206                 -1.0      -1.836970e-16 -0.207912 -0.978148  \n",
       "...                   ...                ...       ...       ...  \n",
       "121991               -1.0      -1.836970e-16 -0.587785 -0.809017  \n",
       "121992               -1.0      -1.836970e-16 -0.587785 -0.809017  \n",
       "121993               -1.0      -1.836970e-16 -0.587785 -0.809017  \n",
       "121994               -1.0      -1.836970e-16 -0.587785 -0.809017  \n",
       "121995               -1.0      -1.836970e-16 -0.587785 -0.809017  \n",
       "\n",
       "[26611 rows x 21 columns]"
      ]
     },
     "execution_count": 129,
     "metadata": {},
     "output_type": "execute_result"
    }
   ],
   "source": [
    "X_test"
   ]
  },
  {
   "cell_type": "markdown",
   "id": "9ac51040",
   "metadata": {
    "heading_collapsed": true,
    "hidden": true
   },
   "source": [
    "### 8.1. Business Performance"
   ]
  },
  {
   "cell_type": "code",
   "execution_count": null,
   "id": "34bb14f9",
   "metadata": {
    "hidden": true
   },
   "outputs": [],
   "source": []
  },
  {
   "cell_type": "markdown",
   "id": "f8ffec78",
   "metadata": {
    "hidden": true
   },
   "source": [
    "### 8.2. Total Performance"
   ]
  },
  {
   "cell_type": "markdown",
   "id": "2ab0486b",
   "metadata": {
    "hidden": true
   },
   "source": [
    "### 8.3. Machine Learning Performance"
   ]
  },
  {
   "cell_type": "markdown",
   "id": "4445fb70",
   "metadata": {
    "heading_collapsed": true
   },
   "source": [
    "# VI. Implantação"
   ]
  },
  {
   "cell_type": "markdown",
   "id": "da232729",
   "metadata": {
    "hidden": true
   },
   "source": [
    "## 9. DEPLOY / SUBMISSION"
   ]
  },
  {
   "cell_type": "markdown",
   "id": "7470f8c0",
   "metadata": {
    "heading_collapsed": true,
    "hidden": true
   },
   "source": [
    "### 9.1.1. Deploy"
   ]
  },
  {
   "cell_type": "code",
   "execution_count": 131,
   "id": "8e3fa695",
   "metadata": {
    "ExecuteTime": {
     "end_time": "2023-12-19T22:58:33.793377Z",
     "start_time": "2023-12-19T22:58:32.658818Z"
    },
    "hidden": true
   },
   "outputs": [],
   "source": [
    "# 0. IMPORTS\n",
    "test          = pd.read_csv('datasets/test.csv', low_memory=False)\n",
    "test_features = pd.read_csv('datasets/test_features.csv', low_memory=False)\n",
    "\n",
    "#          1. DATA DESCRIPTION\n",
    "##       1.1. Unir tabelas\n",
    "\n",
    "df_test = pd.merge(test, stores, on='loja', how='inner')\n",
    "df_teste = pd.merge(df_test, test_features, on=['loja', 'data', 'feriado'], how='inner')\n",
    "\n",
    "#          2. TRATAMENTO E FILTRAGEM DE VARIÁVEIS\n",
    "##       2.2. Transformar e converter\n",
    "###    2.2.1. Preencher NA´s\n",
    "\n",
    "#### 2.2.1.2. Preencher os descontos com valores nulos com 0\n",
    "df_teste['desconto_1'] = df_teste['desconto_1'].fillna(0)\n",
    "df_teste['desconto_2'] = df_teste['desconto_2'].fillna(0)\n",
    "df_teste['desconto_3'] = df_teste['desconto_3'].fillna(0)\n",
    "df_teste['desconto_4'] = df_teste['desconto_4'].fillna(0)\n",
    "df_teste['desconto_5'] = df_teste['desconto_5'].fillna(0)\n",
    "\n",
    "#### 2.2.1.3. Preencher o tamanho das lojas faltantes com a mediana\n",
    "mediana = df_teste['tamanho'].median()\n",
    "tam_faltantes2 = df_teste.loc[df_teste['tamanho'].isna(), :].index\n",
    "df_teste['tamanho'] = df_teste['tamanho'].apply(lambda x: mediana if math.isnan(x) else x)\n",
    "\n",
    "#### 2.2.1.4. Preencher a temperatura faltantes usando a média\n",
    "media = df_teste['temperatura'].mean()\n",
    "temp_faltantes2 = df_teste.loc[df_teste['temperatura'].isna(), :].index\n",
    "df_teste['temperatura'] = df_teste['temperatura'].apply(lambda x: media if math.isnan(x) else x)\n",
    "\n",
    "#### 2.2.1.5. Preencher os registros com combustível faltantes usando a média\n",
    "media = df_teste['combustivel'].mean()\n",
    "comb_faltantes2 = df_teste.loc[df_teste['combustivel'].isna(), :].index\n",
    "df_teste['combustivel'] = df_teste['combustivel'].apply(lambda x: media if math.isnan(x) else x)\n",
    "\n",
    "#### 2.2.1.6. Preencher os registros com distancia faltantes usando um número grande\n",
    "comp_faltantes2 = df_teste.loc[df_teste['distancia_competidores'].isna(), :].index\n",
    "df_teste['distancia_competidores'] = df_teste['distancia_competidores'].apply(lambda x: 300000 if math.isnan(x) else x)\n",
    "\n",
    "###    2.2.2. Transformação de tipos\n",
    "#### 2.2.2.1 Transformar data nas colunas dia e mes\n",
    "\n",
    "df_teste['data']= pd.to_datetime(df_teste['data'] + '-2023', format='%m-%d-%Y')\n",
    "df_teste[\"week_of_year\"] = df_teste[\"data\"].dt.strftime(\"%U\")\n",
    "df_teste[\"week_of_month\"] = df_teste[\"data\"].dt.day.apply(lambda x: (x - 1) // 7 + 1)\n",
    "df_teste['month'] = df_teste['data'].dt.month\n",
    "df_teste['day'] = df_teste['data'].dt.day\n",
    "\n",
    "#### 2.2.2.2. Transformar feriado em 0 e 1\n",
    "df_teste['feriado'] = df_teste['feriado'].apply(lambda x: 1 if x == 'sim' else 0)\n",
    "\n",
    "##       2.3. Criar\n",
    "###    2.3.1. Classificar as lojas pelo tamanho\n",
    "q1 = df2['tamanho'].quantile(0.25)\n",
    "q2 = df2['tamanho'].quantile(0.5)\n",
    "q3 = df2['tamanho'].quantile(0.75)\n",
    "\n",
    "df_teste['tipo_de_loja'] = df_teste['tamanho'].apply(lambda x: 'A' if x < q1 else\n",
    "                                                     'B' if x < q3 else 'C')\n",
    "\n",
    "###    2.3.2. Somar os desconto semana\n",
    "df_teste['desconto'] = df_teste['desconto_1'] + df_teste['desconto_2'] + df_teste['desconto_3'] + df_teste['desconto_4'] + df_teste['desconto_5']\n",
    "df_teste.drop(['desconto_1', 'desconto_2', 'desconto_3', 'desconto_4', 'desconto_5'], axis=1, inplace=True)\n",
    "\n",
    "#          4. DATA PREPARATION\n",
    "df_teste_dt = df_teste.copy()\n",
    "df_teste['week_of_year'] = df_teste['week_of_year'].astype(int)\n",
    "\n",
    "##       4.1 Variáveis Numéricas\n",
    "df_teste_dt['tamanho']      = ss.fit_transform(df_teste_dt[['tamanho']])\n",
    "df_teste_dt['temperatura']  = ss.fit_transform(df_teste_dt[['temperatura']])\n",
    "df_teste_dt['desconto']     = mm.fit_transform(df_teste_dt[['desconto']])\n",
    "df_teste_dt['week_of_year'] = mm.fit_transform(df_teste_dt[['week_of_year']])\n",
    "df_teste_dt['clientes']     = mm.fit_transform(df_teste_dt[['clientes']])\n",
    "df_teste_dt['distancia_competidores'] = rs.fit_transform(df_teste_dt[['distancia_competidores']])\n",
    "\n",
    "##       4.2 Variáveis Categóricas\n",
    "df_teste_dt         = pd.get_dummies(df_teste_dt,prefix=['feriado'],dtype='int64',columns=['feriado'])\n",
    "df_teste_dt['tipo'] = le.fit_transform(df_teste_dt['tipo'])\n",
    "df_teste_dt         = pd.get_dummies(df_teste_dt,prefix=['tipo_de_loja'],dtype='int64',columns=['tipo_de_loja'])\n",
    "\n",
    "df_teste_dt['week_of_month_sin'] = df_teste_dt['week_of_month'].apply(lambda x: np.sin(x * (2 * np.pi / 4))) \n",
    "df_teste_dt['week_of_month_cos'] = df_teste_dt['week_of_month'].apply(lambda x: np.cos(x * (2 * np.pi / 4)))\n",
    "df_teste_dt = df_teste_dt.drop(['week_of_month'],axis=1)\n",
    "\n",
    "df_teste_dt['day_sin'] = df_teste_dt['day'].apply(lambda x: np.sin(x * (2 * np.pi / 30))) \n",
    "df_teste_dt['day_cos'] = df_teste_dt['day'].apply(lambda x: np.cos(x * (2 * np.pi / 30)))\n",
    "df_teste_dt = df_teste_dt.drop(['day'],axis=1)"
   ]
  },
  {
   "cell_type": "markdown",
   "id": "3d585c0d",
   "metadata": {
    "hidden": true
   },
   "source": [
    "### 9.2. Submission"
   ]
  },
  {
   "cell_type": "code",
   "execution_count": 132,
   "id": "1ee698f5",
   "metadata": {
    "ExecuteTime": {
     "end_time": "2023-12-19T22:58:34.954456Z",
     "start_time": "2023-12-19T22:58:33.798428Z"
    },
    "hidden": true
   },
   "outputs": [],
   "source": [
    "teste      = df_teste_dt.drop(['id','data'],axis=1)\n",
    "y_hat_test = modelo_random_forest.predict(teste)"
   ]
  },
  {
   "cell_type": "code",
   "execution_count": 133,
   "id": "d7c0f31f",
   "metadata": {
    "ExecuteTime": {
     "end_time": "2023-12-19T22:58:35.112476Z",
     "start_time": "2023-12-19T22:58:34.958461Z"
    },
    "hidden": true
   },
   "outputs": [],
   "source": [
    "final_test = pd.concat([df_teste_dt, pd.Series(np.expm1(y_hat_test), name='vendas_semanais')], axis=1)\n",
    "final_test[['id', 'vendas_semanais']].sort_values('id',ascending=True).to_csv('datasets/submission2_8.csv', index=False)"
   ]
  }
 ],
 "metadata": {
  "kernelspec": {
   "display_name": "Python 3 (ipykernel)",
   "language": "python",
   "name": "python3"
  },
  "language_info": {
   "codemirror_mode": {
    "name": "ipython",
    "version": 3
   },
   "file_extension": ".py",
   "mimetype": "text/x-python",
   "name": "python",
   "nbconvert_exporter": "python",
   "pygments_lexer": "ipython3",
   "version": "3.9.12"
  }
 },
 "nbformat": 4,
 "nbformat_minor": 5
}
